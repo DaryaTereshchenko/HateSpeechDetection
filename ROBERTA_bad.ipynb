{
  "nbformat": 4,
  "nbformat_minor": 0,
  "metadata": {
    "colab": {
      "provenance": [],
      "machine_shape": "hm",
      "include_colab_link": true
    },
    "kernelspec": {
      "name": "python3",
      "display_name": "Python 3"
    },
    "language_info": {
      "name": "python"
    },
    "accelerator": "GPU",
    "gpuClass": "premium"
  },
  "cells": [
    {
      "cell_type": "markdown",
      "metadata": {
        "id": "view-in-github",
        "colab_type": "text"
      },
      "source": [
        "<a href=\"https://colab.research.google.com/github/DaryaTereshchenko/HateSpeechDetection/blob/dev_01/ROBERTA_bad.ipynb\" target=\"_parent\"><img src=\"https://colab.research.google.com/assets/colab-badge.svg\" alt=\"Open In Colab\"/></a>"
      ]
    },
    {
      "cell_type": "code",
      "execution_count": null,
      "metadata": {
        "id": "a1AdP7YlpgMi"
      },
      "outputs": [],
      "source": [
        "!pip install sentence_transformers\n",
        "!pip install transformers"
      ]
    },
    {
      "cell_type": "code",
      "source": [
        "import numpy as np\n",
        "import pandas as pd"
      ],
      "metadata": {
        "id": "qFw2tJmvqQrL"
      },
      "execution_count": 2,
      "outputs": []
    },
    {
      "cell_type": "code",
      "source": [
        "import matplotlib.pyplot as plt\n",
        "import seaborn as sns\n",
        "import string\n",
        "from nltk import word_tokenize\n",
        "from nltk.corpus import stopwords\n",
        "import nltk\n",
        "nltk.download('stopwords')\n",
        "nltk.download('punkt')"
      ],
      "metadata": {
        "id": "ZGpjX5WXqYfZ",
        "colab": {
          "base_uri": "https://localhost:8080/"
        },
        "outputId": "7eda6efa-efae-4e3a-a7d2-97a66d239d34"
      },
      "execution_count": 3,
      "outputs": [
        {
          "output_type": "stream",
          "name": "stderr",
          "text": [
            "[nltk_data] Downloading package stopwords to /root/nltk_data...\n",
            "[nltk_data]   Package stopwords is already up-to-date!\n",
            "[nltk_data] Downloading package punkt to /root/nltk_data...\n",
            "[nltk_data]   Package punkt is already up-to-date!\n"
          ]
        },
        {
          "output_type": "execute_result",
          "data": {
            "text/plain": [
              "True"
            ]
          },
          "metadata": {},
          "execution_count": 3
        }
      ]
    },
    {
      "cell_type": "code",
      "source": [
        "import tensorflow as tf\n",
        "from sentence_transformers import SentenceTransformer\n",
        "from transformers import RobertaTokenizer"
      ],
      "metadata": {
        "id": "1ovvuxH8erOM"
      },
      "execution_count": 4,
      "outputs": []
    },
    {
      "cell_type": "code",
      "source": [
        "from transformers import RobertaTokenizer, RobertaConfig, TFRobertaModel"
      ],
      "metadata": {
        "id": "ouf4VesE82ME"
      },
      "execution_count": 5,
      "outputs": []
    },
    {
      "cell_type": "code",
      "source": [
        "ethos_hate = pd.read_csv(\"ethos_hate.csv\", sep=\",\", encoding=\"unicode_escape\").drop(columns=\"label\")\n",
        "ethos_hate[\"label\"] = 1\n",
        "\n",
        "ethos_neutral = pd.read_csv(\"ethos_neutral.csv\", sep=\",\", encoding=\"unicode_escape\").drop(columns=\"label\")\n",
        "ethos_neutral[\"label\"] = 0\n",
        "\n",
        "train_n = ethos_neutral.sample(frac=0.9, random_state=0)\n",
        "test_n = ethos_neutral.drop(train_n.index)\n",
        "\n",
        "train_hate = ethos_hate.sample(frac=0.9, random_state=0)\n",
        "test_hate = ethos_hate.drop(train_hate.index)\n",
        "\n",
        "\n",
        "train = pd.concat([train_n, train_hate]).sample(frac=1, random_state=300).reset_index(drop=True)\n",
        "test = pd.concat([test_n, test_hate]).sample(frac=1, random_state=300).reset_index(drop=True)\n",
        "\n",
        "print(train.text[0])\n"
      ],
      "metadata": {
        "id": "QrZgSlY7qaC3",
        "colab": {
          "base_uri": "https://localhost:8080/"
        },
        "outputId": "c13f5784-a282-4624-dbaf-fe6d798572f6"
      },
      "execution_count": 7,
      "outputs": [
        {
          "output_type": "stream",
          "name": "stdout",
          "text": [
            "What episode number was this?\n"
          ]
        }
      ]
    },
    {
      "cell_type": "code",
      "source": [
        "print(test.label)"
      ],
      "metadata": {
        "colab": {
          "base_uri": "https://localhost:8080/"
        },
        "id": "ctNF_3mCMbD5",
        "outputId": "5cd5ce12-f04d-43af-d4a1-ad2855966312"
      },
      "execution_count": 8,
      "outputs": [
        {
          "output_type": "stream",
          "name": "stdout",
          "text": [
            "0     0\n",
            "1     1\n",
            "2     0\n",
            "3     1\n",
            "4     0\n",
            "     ..\n",
            "95    0\n",
            "96    1\n",
            "97    0\n",
            "98    1\n",
            "99    1\n",
            "Name: label, Length: 100, dtype: int64\n"
          ]
        }
      ]
    },
    {
      "cell_type": "code",
      "source": [
        "train.text"
      ],
      "metadata": {
        "id": "ZeMKxEJLIy2d",
        "colab": {
          "base_uri": "https://localhost:8080/"
        },
        "outputId": "e8295fee-95fd-4ff7-98c6-4041a1ba53c4"
      },
      "execution_count": 9,
      "outputs": [
        {
          "output_type": "execute_result",
          "data": {
            "text/plain": [
              "0                          What episode number was this?\n",
              "1      Why don't you go beck your god to murder you? ...\n",
              "2      I don't like jew soap, but if we are to get ri...\n",
              "3      By calling period, a natural procedure, as an ...\n",
              "4         MASS BLACK WORLDWIDE GENOCIDE IS OUR ONLY HOPE\n",
              "                             ...                        \n",
              "893    Is this world filled by those stupid female bi...\n",
              "894                   What type of question it is???????\n",
              "895                    Die fucking arab dude sand niggas\n",
              "896               Japanese culture is ancient and unique\n",
              "897    People who say \"YAAAASSSS QUEEN\" should be ste...\n",
              "Name: text, Length: 898, dtype: object"
            ]
          },
          "metadata": {},
          "execution_count": 9
        }
      ]
    },
    {
      "cell_type": "code",
      "source": [
        "print(\"Longest sentence?\")\n",
        "print(max(len(x) for x in train.text.values))\n",
        "print(\"Average length?\")\n",
        "print(sum(len(x) for x in train.text.values) / len(train.text.values))\n"
      ],
      "metadata": {
        "colab": {
          "base_uri": "https://localhost:8080/"
        },
        "id": "vL6OJip-5gpO",
        "outputId": "02979d3b-7499-4227-d4ef-42caf00cebc9"
      },
      "execution_count": null,
      "outputs": [
        {
          "output_type": "stream",
          "name": "stdout",
          "text": [
            "Longest sentence?\n",
            "3009\n",
            "Average length?\n",
            "111.76948775055679\n"
          ]
        }
      ]
    },
    {
      "cell_type": "code",
      "source": [
        "def clean_text(line):\n",
        "  processed_line = line.lower()\n",
        "  words = [word for word in word_tokenize(processed_line)]\n",
        "  processed_line = [word for word in words if word not in set(string.punctuation)]\n",
        "  text = \" \".join(processed_line)\n",
        "  return text"
      ],
      "metadata": {
        "id": "3OJKw5IruC6n"
      },
      "execution_count": 10,
      "outputs": []
    },
    {
      "cell_type": "code",
      "source": [
        "# Sentences for embeddings\n",
        "train_sentence_list = list(map(clean_text, train.text.values))\n",
        "test_sentence_list = list(map(clean_text, test.text.values))"
      ],
      "metadata": {
        "id": "t48Le1B0emun"
      },
      "execution_count": 11,
      "outputs": []
    },
    {
      "cell_type": "code",
      "source": [
        "train_sentence_list"
      ],
      "metadata": {
        "id": "g0jSIoMQpj_W"
      },
      "execution_count": null,
      "outputs": []
    },
    {
      "cell_type": "code",
      "source": [
        "MODEL_NAME = 'roberta-base'\n",
        "MAX_LEN = 128\n",
        "\n",
        "tokenizer = RobertaTokenizer.from_pretrained(MODEL_NAME)"
      ],
      "metadata": {
        "id": "I6H_digUgSNU"
      },
      "execution_count": 13,
      "outputs": []
    },
    {
      "cell_type": "code",
      "source": [
        "MODEL_NAME = 'roberta-base'\n",
        "MAX_LEN = 128"
      ],
      "metadata": {
        "id": "VurWp8E1L42m"
      },
      "execution_count": 14,
      "outputs": []
    },
    {
      "cell_type": "code",
      "source": [
        "def roberta_encode(texts, tokenizer):\n",
        "    ct = len(texts)\n",
        "    input_ids = np.ones((ct, MAX_LEN), dtype='int32')\n",
        "    attention_mask = np.zeros((ct, MAX_LEN), dtype='int32')\n",
        "    token_type_ids = np.zeros((ct, MAX_LEN), dtype='int32') # Not used in text classification\n",
        "\n",
        "    for k, text in enumerate(texts):\n",
        "        # Tokenize\n",
        "        tok_text = tokenizer.tokenize(text)\n",
        "        \n",
        "        # Truncate and convert tokens to numerical IDs\n",
        "        enc_text = tokenizer.convert_tokens_to_ids(tok_text[:(MAX_LEN-2)])\n",
        "        \n",
        "        input_length = len(enc_text) + 2\n",
        "        input_length = input_length if input_length < MAX_LEN else MAX_LEN\n",
        "        \n",
        "        # Add tokens [CLS] and [SEP] at the beginning and the end\n",
        "        input_ids[k,:input_length] = np.asarray([0] + enc_text + [2], dtype='int32')\n",
        "        \n",
        "        # Set to 1s in the attention input\n",
        "        attention_mask[k,:input_length] = 1\n",
        "\n",
        "    return {\n",
        "        'input_word_ids': input_ids,\n",
        "        'input_mask': attention_mask,\n",
        "        'input_type_ids': token_type_ids\n",
        "    }"
      ],
      "metadata": {
        "id": "AjhMIoP2L451"
      },
      "execution_count": 15,
      "outputs": []
    },
    {
      "cell_type": "code",
      "source": [
        "# Import tokenizer from HuggingFace\n",
        "tokenizer = RobertaTokenizer.from_pretrained(MODEL_NAME)"
      ],
      "metadata": {
        "id": "LwVS-UXi-h-f"
      },
      "execution_count": 16,
      "outputs": []
    },
    {
      "cell_type": "code",
      "source": [
        "X_train = roberta_encode(train_sentence_list, tokenizer)\n",
        "X_test = roberta_encode(test_sentence_list, tokenizer)\n",
        "\n",
        "y_train = np.asarray(train.label, dtype='int32').reshape(-1,1)\n",
        "y_test = np.asarray(test.label, dtype='int32').reshape(-1,1)"
      ],
      "metadata": {
        "id": "F20F-ThJ_EIz"
      },
      "execution_count": 17,
      "outputs": []
    },
    {
      "cell_type": "code",
      "source": [
        "def build_model():\n",
        "  input_word_ids = tf.keras.Input(shape=(MAX_LEN,), dtype=tf.int32, name='input_word_ids')\n",
        "  input_mask = tf.keras.Input(shape=(MAX_LEN,), dtype=tf.int32, name='input_mask')\n",
        "  input_type_ids = tf.keras.Input(shape=(MAX_LEN,), dtype=tf.int32, name='input_type_ids')\n",
        "\n",
        "  # Import RoBERTa model from HuggingFace\n",
        "  roberta_model = TFRobertaModel.from_pretrained(MODEL_NAME)\n",
        "  x = roberta_model(input_word_ids, attention_mask=input_mask, token_type_ids=input_type_ids)\n",
        "\n",
        "  # Huggingface transformers have multiple outputs, embeddings are the first one,\n",
        "  # so let's slice out the first position\n",
        "  x = x[0]\n",
        "\n",
        "  x = tf.keras.layers.Dropout(0.1)(x)\n",
        "  x = tf.keras.layers.Flatten()(x)\n",
        "  x = tf.keras.layers.Dense(128, activation='relu')(x)\n",
        "  x = tf.keras.layers.Dense(1, activation='sigmoid')(x)\n",
        "\n",
        "  model = tf.keras.Model(inputs=[input_word_ids, input_mask, input_type_ids], outputs=x)\n",
        "  model.compile(\n",
        "      optimizer=tf.keras.optimizers.Adam(learning_rate=1e-5),\n",
        "      loss= tf.keras.losses.binary_crossentropy,\n",
        "      metrics=['accuracy'])\n",
        "\n",
        "  return model"
      ],
      "metadata": {
        "id": "srs7396Y_jWN"
      },
      "execution_count": 18,
      "outputs": []
    },
    {
      "cell_type": "code",
      "source": [
        "model = build_model()\n",
        "model.summary()"
      ],
      "metadata": {
        "colab": {
          "base_uri": "https://localhost:8080/"
        },
        "id": "Jh6Csgcf_lOZ",
        "outputId": "2eaa1d7d-cb0f-4e17-b3cf-56444a60e3d2"
      },
      "execution_count": 19,
      "outputs": [
        {
          "output_type": "stream",
          "name": "stderr",
          "text": [
            "Some layers from the model checkpoint at roberta-base were not used when initializing TFRobertaModel: ['lm_head']\n",
            "- This IS expected if you are initializing TFRobertaModel from the checkpoint of a model trained on another task or with another architecture (e.g. initializing a BertForSequenceClassification model from a BertForPreTraining model).\n",
            "- This IS NOT expected if you are initializing TFRobertaModel from the checkpoint of a model that you expect to be exactly identical (initializing a BertForSequenceClassification model from a BertForSequenceClassification model).\n",
            "All the layers of TFRobertaModel were initialized from the model checkpoint at roberta-base.\n",
            "If your task is similar to the task the model of the checkpoint was trained on, you can already use TFRobertaModel for predictions without further training.\n"
          ]
        },
        {
          "output_type": "stream",
          "name": "stdout",
          "text": [
            "Model: \"model\"\n",
            "__________________________________________________________________________________________________\n",
            " Layer (type)                   Output Shape         Param #     Connected to                     \n",
            "==================================================================================================\n",
            " input_word_ids (InputLayer)    [(None, 128)]        0           []                               \n",
            "                                                                                                  \n",
            " input_mask (InputLayer)        [(None, 128)]        0           []                               \n",
            "                                                                                                  \n",
            " input_type_ids (InputLayer)    [(None, 128)]        0           []                               \n",
            "                                                                                                  \n",
            " tf_roberta_model (TFRobertaMod  TFBaseModelOutputWi  124645632  ['input_word_ids[0][0]',         \n",
            " el)                            thPoolingAndCrossAt               'input_mask[0][0]',             \n",
            "                                tentions(last_hidde               'input_type_ids[0][0]']         \n",
            "                                n_state=(None, 128,                                               \n",
            "                                 768),                                                            \n",
            "                                 pooler_output=(Non                                               \n",
            "                                e, 768),                                                          \n",
            "                                 past_key_values=No                                               \n",
            "                                ne, hidden_states=N                                               \n",
            "                                one, attentions=Non                                               \n",
            "                                e, cross_attentions                                               \n",
            "                                =None)                                                            \n",
            "                                                                                                  \n",
            " dropout_37 (Dropout)           (None, 128, 768)     0           ['tf_roberta_model[0][0]']       \n",
            "                                                                                                  \n",
            " flatten (Flatten)              (None, 98304)        0           ['dropout_37[0][0]']             \n",
            "                                                                                                  \n",
            " dense (Dense)                  (None, 128)          12583040    ['flatten[0][0]']                \n",
            "                                                                                                  \n",
            " dense_1 (Dense)                (None, 1)            129         ['dense[0][0]']                  \n",
            "                                                                                                  \n",
            "==================================================================================================\n",
            "Total params: 137,228,801\n",
            "Trainable params: 137,228,801\n",
            "Non-trainable params: 0\n",
            "__________________________________________________________________________________________________\n"
          ]
        }
      ]
    },
    {
      "cell_type": "code",
      "source": [
        "\n",
        "print('Training...')\n",
        "history = model.fit(X_train,\n",
        "                    y_train,\n",
        "                    epochs=10,\n",
        "                    batch_size=16,\n",
        "                    verbose=1,\n",
        "                    validation_data=(X_test, y_test))"
      ],
      "metadata": {
        "colab": {
          "base_uri": "https://localhost:8080/"
        },
        "id": "5IN2tGiPBzkw",
        "outputId": "6b3d5164-42d5-4ab4-e0ee-6036e52da52a"
      },
      "execution_count": 20,
      "outputs": [
        {
          "output_type": "stream",
          "name": "stdout",
          "text": [
            "Training...\n",
            "Epoch 1/10\n"
          ]
        },
        {
          "output_type": "stream",
          "name": "stderr",
          "text": [
            "WARNING:tensorflow:Gradients do not exist for variables ['tf_roberta_model/roberta/pooler/dense/kernel:0', 'tf_roberta_model/roberta/pooler/dense/bias:0'] when minimizing the loss. If you're using `model.compile()`, did you forget to provide a `loss`argument?\n",
            "WARNING:tensorflow:Gradients do not exist for variables ['tf_roberta_model/roberta/pooler/dense/kernel:0', 'tf_roberta_model/roberta/pooler/dense/bias:0'] when minimizing the loss. If you're using `model.compile()`, did you forget to provide a `loss`argument?\n"
          ]
        },
        {
          "output_type": "stream",
          "name": "stdout",
          "text": [
            "57/57 [==============================] - 24s 127ms/step - loss: 0.6119 - accuracy: 0.6682 - val_loss: 0.4512 - val_accuracy: 0.8000\n",
            "Epoch 2/10\n",
            "57/57 [==============================] - 4s 75ms/step - loss: 0.3802 - accuracy: 0.8330 - val_loss: 0.5371 - val_accuracy: 0.8000\n",
            "Epoch 3/10\n",
            "57/57 [==============================] - 4s 74ms/step - loss: 0.2522 - accuracy: 0.8964 - val_loss: 0.4201 - val_accuracy: 0.8000\n",
            "Epoch 4/10\n",
            "57/57 [==============================] - 4s 73ms/step - loss: 0.1293 - accuracy: 0.9488 - val_loss: 0.5653 - val_accuracy: 0.7700\n",
            "Epoch 5/10\n",
            "57/57 [==============================] - 4s 74ms/step - loss: 0.0682 - accuracy: 0.9800 - val_loss: 0.7273 - val_accuracy: 0.7900\n",
            "Epoch 6/10\n",
            "57/57 [==============================] - 4s 74ms/step - loss: 0.0407 - accuracy: 0.9878 - val_loss: 0.7418 - val_accuracy: 0.8000\n",
            "Epoch 7/10\n",
            "57/57 [==============================] - 4s 74ms/step - loss: 0.0715 - accuracy: 0.9744 - val_loss: 0.6591 - val_accuracy: 0.8000\n",
            "Epoch 8/10\n",
            "57/57 [==============================] - 4s 74ms/step - loss: 0.0284 - accuracy: 0.9900 - val_loss: 0.7854 - val_accuracy: 0.7900\n",
            "Epoch 9/10\n",
            "57/57 [==============================] - 4s 74ms/step - loss: 0.0367 - accuracy: 0.9900 - val_loss: 0.7904 - val_accuracy: 0.7700\n",
            "Epoch 10/10\n",
            "57/57 [==============================] - 4s 74ms/step - loss: 0.0393 - accuracy: 0.9878 - val_loss: 0.9607 - val_accuracy: 0.7700\n"
          ]
        }
      ]
    },
    {
      "cell_type": "code",
      "source": [
        "# This plot will look much better if we train models with more epochs, but anyway here is\n",
        "plt.figure(figsize=(10, 10))\n",
        "plt.title('Accuracy')\n",
        "\n",
        "xaxis = np.arange(len(history.history['accuracy']))\n",
        "plt.plot(xaxis, history.history['accuracy'], label='Train set')\n",
        "plt.plot(xaxis, history.history['val_accuracy'], label='Validation set')\n",
        "plt.legend()\n"
      ],
      "metadata": {
        "id": "LDhHKGOiCVPI",
        "colab": {
          "base_uri": "https://localhost:8080/",
          "height": 625
        },
        "outputId": "9facc6da-5a52-4683-8316-e1bf8d1e9801"
      },
      "execution_count": 21,
      "outputs": [
        {
          "output_type": "execute_result",
          "data": {
            "text/plain": [
              "<matplotlib.legend.Legend at 0x7faba0273820>"
            ]
          },
          "metadata": {},
          "execution_count": 21
        },
        {
          "output_type": "display_data",
          "data": {
            "text/plain": [
              "<Figure size 720x720 with 1 Axes>"
            ],
            "image/png": "[encoded data removed]"
          },
          "metadata": {
            "needs_background": "light"
          }
        }
      ]
    },
    {
      "cell_type": "code",
      "source": [
        "scores = model.evaluate(X_test, y_test, verbose=0)\n",
        "print(\"Accuracy: %.2f%%\" % (scores[1] * 100))"
      ],
      "metadata": {
        "colab": {
          "base_uri": "https://localhost:8080/"
        },
        "id": "bX_CM482IXlI",
        "outputId": "a25307cc-3890-4463-8471-d0208263a448"
      },
      "execution_count": 22,
      "outputs": [
        {
          "output_type": "stream",
          "name": "stdout",
          "text": [
            "Accuracy: 77.00%\n"
          ]
        }
      ]
    },
    {
      "cell_type": "code",
      "source": [
        "y_pred = [np.argmax(i) for i in model.predict(X_test)]"
      ],
      "metadata": {
        "colab": {
          "base_uri": "https://localhost:8080/"
        },
        "id": "iDSNyGT_OXBS",
        "outputId": "23be6be8-7e3f-4a7a-c891-319a35337aec"
      },
      "execution_count": 23,
      "outputs": [
        {
          "output_type": "stream",
          "name": "stdout",
          "text": [
            "4/4 [==============================] - 3s 38ms/step\n"
          ]
        }
      ]
    },
    {
      "cell_type": "code",
      "source": [
        "y_pred"
      ],
      "metadata": {
        "id": "KO7Nd6EZQrqa"
      },
      "execution_count": null,
      "outputs": []
    },
    {
      "cell_type": "code",
      "source": [
        "y_test"
      ],
      "metadata": {
        "id": "JYGL0ZabOS2X"
      },
      "execution_count": null,
      "outputs": []
    },
    {
      "cell_type": "code",
      "source": [
        "def plot_confusion_matrix(X_test, y_test, model):\n",
        "    y_pred = model.predict(X_test)\n",
        "    y_pred = [np.argmax(i) for i in model.predict(X_test)]\n",
        "\n",
        "    con_mat = tf.math.confusion_matrix(labels=y_test, predictions=y_pred).numpy()\n",
        "\n",
        "    con_mat_norm = np.around(con_mat.astype('float') / con_mat.sum(axis=1)[:, np.newaxis], decimals=2)\n",
        "    label_names = list(range(len(con_mat_norm)))\n",
        "\n",
        "    con_mat_df = pd.DataFrame(con_mat_norm,\n",
        "                              index=label_names, \n",
        "                              columns=label_names)\n",
        "\n",
        "    figure = plt.figure(figsize=(10, 10))\n",
        "    sns.heatmap(con_mat_df, cmap=plt.cm.Blues, annot=True)\n",
        "    plt.ylabel('True label')\n",
        "    plt.xlabel('Predicted label')"
      ],
      "metadata": {
        "id": "UMQmmtpTVwso"
      },
      "execution_count": 29,
      "outputs": []
    },
    {
      "cell_type": "code",
      "source": [
        "plot_confusion_matrix(X_test, y_test, model)"
      ],
      "metadata": {
        "colab": {
          "base_uri": "https://localhost:8080/",
          "height": 646
        },
        "id": "Xtm2nyDILd8N",
        "outputId": "b3b6f293-ee4e-4aec-e778-06bdec3905ba"
      },
      "execution_count": 30,
      "outputs": [
        {
          "output_type": "stream",
          "name": "stdout",
          "text": [
            "4/4 [==============================] - 0s 39ms/step\n",
            "4/4 [==============================] - 0s 39ms/step\n"
          ]
        },
        {
          "output_type": "display_data",
          "data": {
            "text/plain": [
              "<Figure size 720x720 with 2 Axes>"
            ],
            "image/png": "[encoded data removed]"
          },
          "metadata": {
            "needs_background": "light"
          }
        }
      ]
    },
    {
      "cell_type": "code",
      "source": [],
      "metadata": {
        "id": "-rATpH3MNO0e"
      },
      "execution_count": null,
      "outputs": []
    }
  ]
}