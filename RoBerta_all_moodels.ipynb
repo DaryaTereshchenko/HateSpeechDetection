{
  "nbformat": 4,
  "nbformat_minor": 0,
  "metadata": {
    "colab": {
      "provenance": [],
      "machine_shape": "hm",
      "include_colab_link": true
    },
    "kernelspec": {
      "name": "python3",
      "display_name": "Python 3"
    },
    "language_info": {
      "name": "python"
    },
    "accelerator": "GPU",
    "gpuClass": "premium",
    "widgets": {
      "application/vnd.jupyter.widget-state+json": {
        "c94f9ced400a40e1b6f97c0c85956e39": {
          "model_module": "@jupyter-widgets/controls",
          "model_name": "HBoxModel",
          "model_module_version": "1.5.0",
          "state": {
            "_dom_classes": [],
            "_model_module": "@jupyter-widgets/controls",
            "_model_module_version": "1.5.0",
            "_model_name": "HBoxModel",
            "_view_count": null,
            "_view_module": "@jupyter-widgets/controls",
            "_view_module_version": "1.5.0",
            "_view_name": "HBoxView",
            "box_style": "",
            "children": [
              "IPY_MODEL_1b527d221fa747a2b91f6d7433200c40",
              "IPY_MODEL_3dd9546dc3a945459df2326a3426bca3",
              "IPY_MODEL_c9e5986166924ec5bbc267c03e494ce3"
            ],
            "layout": "IPY_MODEL_1e1785739ee64917bd0e06721cc39e69"
          }
        },
        "1b527d221fa747a2b91f6d7433200c40": {
          "model_module": "@jupyter-widgets/controls",
          "model_name": "HTMLModel",
          "model_module_version": "1.5.0",
          "state": {
            "_dom_classes": [],
            "_model_module": "@jupyter-widgets/controls",
            "_model_module_version": "1.5.0",
            "_model_name": "HTMLModel",
            "_view_count": null,
            "_view_module": "@jupyter-widgets/controls",
            "_view_module_version": "1.5.0",
            "_view_name": "HTMLView",
            "description": "",
            "description_tooltip": null,
            "layout": "IPY_MODEL_f00166e256994e05847301c340da4690",
            "placeholder": "​",
            "style": "IPY_MODEL_29b243c688a94dd0964fc085ac9ed370",
            "value": "Downloading: 100%"
          }
        },
        "3dd9546dc3a945459df2326a3426bca3": {
          "model_module": "@jupyter-widgets/controls",
          "model_name": "FloatProgressModel",
          "model_module_version": "1.5.0",
          "state": {
            "_dom_classes": [],
            "_model_module": "@jupyter-widgets/controls",
            "_model_module_version": "1.5.0",
            "_model_name": "FloatProgressModel",
            "_view_count": null,
            "_view_module": "@jupyter-widgets/controls",
            "_view_module_version": "1.5.0",
            "_view_name": "ProgressView",
            "bar_style": "success",
            "description": "",
            "description_tooltip": null,
            "layout": "IPY_MODEL_10de180890374ad1a75b9cbeb142d0be",
            "max": 898823,
            "min": 0,
            "orientation": "horizontal",
            "style": "IPY_MODEL_adf7f8f129ab42e8ba3ef13b2c0b9f66",
            "value": 898823
          }
        },
        "c9e5986166924ec5bbc267c03e494ce3": {
          "model_module": "@jupyter-widgets/controls",
          "model_name": "HTMLModel",
          "model_module_version": "1.5.0",
          "state": {
            "_dom_classes": [],
            "_model_module": "@jupyter-widgets/controls",
            "_model_module_version": "1.5.0",
            "_model_name": "HTMLModel",
            "_view_count": null,
            "_view_module": "@jupyter-widgets/controls",
            "_view_module_version": "1.5.0",
            "_view_name": "HTMLView",
            "description": "",
            "description_tooltip": null,
            "layout": "IPY_MODEL_941bf1356e594e2fb2520eb826e8e2d9",
            "placeholder": "​",
            "style": "IPY_MODEL_06c9475b02614e4bb9cc18c18f687619",
            "value": " 899k/899k [00:00&lt;00:00, 5.07MB/s]"
          }
        },
        "1e1785739ee64917bd0e06721cc39e69": {
          "model_module": "@jupyter-widgets/base",
          "model_name": "LayoutModel",
          "model_module_version": "1.2.0",
          "state": {
            "_model_module": "@jupyter-widgets/base",
            "_model_module_version": "1.2.0",
            "_model_name": "LayoutModel",
            "_view_count": null,
            "_view_module": "@jupyter-widgets/base",
            "_view_module_version": "1.2.0",
            "_view_name": "LayoutView",
            "align_content": null,
            "align_items": null,
            "align_self": null,
            "border": null,
            "bottom": null,
            "display": null,
            "flex": null,
            "flex_flow": null,
            "grid_area": null,
            "grid_auto_columns": null,
            "grid_auto_flow": null,
            "grid_auto_rows": null,
            "grid_column": null,
            "grid_gap": null,
            "grid_row": null,
            "grid_template_areas": null,
            "grid_template_columns": null,
            "grid_template_rows": null,
            "height": null,
            "justify_content": null,
            "justify_items": null,
            "left": null,
            "margin": null,
            "max_height": null,
            "max_width": null,
            "min_height": null,
            "min_width": null,
            "object_fit": null,
            "object_position": null,
            "order": null,
            "overflow": null,
            "overflow_x": null,
            "overflow_y": null,
            "padding": null,
            "right": null,
            "top": null,
            "visibility": null,
            "width": null
          }
        },
        "f00166e256994e05847301c340da4690": {
          "model_module": "@jupyter-widgets/base",
          "model_name": "LayoutModel",
          "model_module_version": "1.2.0",
          "state": {
            "_model_module": "@jupyter-widgets/base",
            "_model_module_version": "1.2.0",
            "_model_name": "LayoutModel",
            "_view_count": null,
            "_view_module": "@jupyter-widgets/base",
            "_view_module_version": "1.2.0",
            "_view_name": "LayoutView",
            "align_content": null,
            "align_items": null,
            "align_self": null,
            "border": null,
            "bottom": null,
            "display": null,
            "flex": null,
            "flex_flow": null,
            "grid_area": null,
            "grid_auto_columns": null,
            "grid_auto_flow": null,
            "grid_auto_rows": null,
            "grid_column": null,
            "grid_gap": null,
            "grid_row": null,
            "grid_template_areas": null,
            "grid_template_columns": null,
            "grid_template_rows": null,
            "height": null,
            "justify_content": null,
            "justify_items": null,
            "left": null,
            "margin": null,
            "max_height": null,
            "max_width": null,
            "min_height": null,
            "min_width": null,
            "object_fit": null,
            "object_position": null,
            "order": null,
            "overflow": null,
            "overflow_x": null,
            "overflow_y": null,
            "padding": null,
            "right": null,
            "top": null,
            "visibility": null,
            "width": null
          }
        },
        "29b243c688a94dd0964fc085ac9ed370": {
          "model_module": "@jupyter-widgets/controls",
          "model_name": "DescriptionStyleModel",
          "model_module_version": "1.5.0",
          "state": {
            "_model_module": "@jupyter-widgets/controls",
            "_model_module_version": "1.5.0",
            "_model_name": "DescriptionStyleModel",
            "_view_count": null,
            "_view_module": "@jupyter-widgets/base",
            "_view_module_version": "1.2.0",
            "_view_name": "StyleView",
            "description_width": ""
          }
        },
        "10de180890374ad1a75b9cbeb142d0be": {
          "model_module": "@jupyter-widgets/base",
          "model_name": "LayoutModel",
          "model_module_version": "1.2.0",
          "state": {
            "_model_module": "@jupyter-widgets/base",
            "_model_module_version": "1.2.0",
            "_model_name": "LayoutModel",
            "_view_count": null,
            "_view_module": "@jupyter-widgets/base",
            "_view_module_version": "1.2.0",
            "_view_name": "LayoutView",
            "align_content": null,
            "align_items": null,
            "align_self": null,
            "border": null,
            "bottom": null,
            "display": null,
            "flex": null,
            "flex_flow": null,
            "grid_area": null,
            "grid_auto_columns": null,
            "grid_auto_flow": null,
            "grid_auto_rows": null,
            "grid_column": null,
            "grid_gap": null,
            "grid_row": null,
            "grid_template_areas": null,
            "grid_template_columns": null,
            "grid_template_rows": null,
            "height": null,
            "justify_content": null,
            "justify_items": null,
            "left": null,
            "margin": null,
            "max_height": null,
            "max_width": null,
            "min_height": null,
            "min_width": null,
            "object_fit": null,
            "object_position": null,
            "order": null,
            "overflow": null,
            "overflow_x": null,
            "overflow_y": null,
            "padding": null,
            "right": null,
            "top": null,
            "visibility": null,
            "width": null
          }
        },
        "adf7f8f129ab42e8ba3ef13b2c0b9f66": {
          "model_module": "@jupyter-widgets/controls",
          "model_name": "ProgressStyleModel",
          "model_module_version": "1.5.0",
          "state": {
            "_model_module": "@jupyter-widgets/controls",
            "_model_module_version": "1.5.0",
            "_model_name": "ProgressStyleModel",
            "_view_count": null,
            "_view_module": "@jupyter-widgets/base",
            "_view_module_version": "1.2.0",
            "_view_name": "StyleView",
            "bar_color": null,
            "description_width": ""
          }
        },
        "941bf1356e594e2fb2520eb826e8e2d9": {
          "model_module": "@jupyter-widgets/base",
          "model_name": "LayoutModel",
          "model_module_version": "1.2.0",
          "state": {
            "_model_module": "@jupyter-widgets/base",
            "_model_module_version": "1.2.0",
            "_model_name": "LayoutModel",
            "_view_count": null,
            "_view_module": "@jupyter-widgets/base",
            "_view_module_version": "1.2.0",
            "_view_name": "LayoutView",
            "align_content": null,
            "align_items": null,
            "align_self": null,
            "border": null,
            "bottom": null,
            "display": null,
            "flex": null,
            "flex_flow": null,
            "grid_area": null,
            "grid_auto_columns": null,
            "grid_auto_flow": null,
            "grid_auto_rows": null,
            "grid_column": null,
            "grid_gap": null,
            "grid_row": null,
            "grid_template_areas": null,
            "grid_template_columns": null,
            "grid_template_rows": null,
            "height": null,
            "justify_content": null,
            "justify_items": null,
            "left": null,
            "margin": null,
            "max_height": null,
            "max_width": null,
            "min_height": null,
            "min_width": null,
            "object_fit": null,
            "object_position": null,
            "order": null,
            "overflow": null,
            "overflow_x": null,
            "overflow_y": null,
            "padding": null,
            "right": null,
            "top": null,
            "visibility": null,
            "width": null
          }
        },
        "06c9475b02614e4bb9cc18c18f687619": {
          "model_module": "@jupyter-widgets/controls",
          "model_name": "DescriptionStyleModel",
          "model_module_version": "1.5.0",
          "state": {
            "_model_module": "@jupyter-widgets/controls",
            "_model_module_version": "1.5.0",
            "_model_name": "DescriptionStyleModel",
            "_view_count": null,
            "_view_module": "@jupyter-widgets/base",
            "_view_module_version": "1.2.0",
            "_view_name": "StyleView",
            "description_width": ""
          }
        },
        "6472f24fcef840e1b970f320f2d66136": {
          "model_module": "@jupyter-widgets/controls",
          "model_name": "HBoxModel",
          "model_module_version": "1.5.0",
          "state": {
            "_dom_classes": [],
            "_model_module": "@jupyter-widgets/controls",
            "_model_module_version": "1.5.0",
            "_model_name": "HBoxModel",
            "_view_count": null,
            "_view_module": "@jupyter-widgets/controls",
            "_view_module_version": "1.5.0",
            "_view_name": "HBoxView",
            "box_style": "",
            "children": [
              "IPY_MODEL_03209f79b918470a9e7bc7dfbadd5146",
              "IPY_MODEL_1e19465c14f34f71ad13abc49dbbb6b8",
              "IPY_MODEL_4df5a31b03064e61ad913df6a079916c"
            ],
            "layout": "IPY_MODEL_b4cc8cd1d5974ab7bca36638fcc20a15"
          }
        },
        "03209f79b918470a9e7bc7dfbadd5146": {
          "model_module": "@jupyter-widgets/controls",
          "model_name": "HTMLModel",
          "model_module_version": "1.5.0",
          "state": {
            "_dom_classes": [],
            "_model_module": "@jupyter-widgets/controls",
            "_model_module_version": "1.5.0",
            "_model_name": "HTMLModel",
            "_view_count": null,
            "_view_module": "@jupyter-widgets/controls",
            "_view_module_version": "1.5.0",
            "_view_name": "HTMLView",
            "description": "",
            "description_tooltip": null,
            "layout": "IPY_MODEL_9e03268d0efd42d7856ef3c8f700fceb",
            "placeholder": "​",
            "style": "IPY_MODEL_5a0d2d1309ad4e43817e4ae5e54477dd",
            "value": "Downloading: 100%"
          }
        },
        "1e19465c14f34f71ad13abc49dbbb6b8": {
          "model_module": "@jupyter-widgets/controls",
          "model_name": "FloatProgressModel",
          "model_module_version": "1.5.0",
          "state": {
            "_dom_classes": [],
            "_model_module": "@jupyter-widgets/controls",
            "_model_module_version": "1.5.0",
            "_model_name": "FloatProgressModel",
            "_view_count": null,
            "_view_module": "@jupyter-widgets/controls",
            "_view_module_version": "1.5.0",
            "_view_name": "ProgressView",
            "bar_style": "success",
            "description": "",
            "description_tooltip": null,
            "layout": "IPY_MODEL_6432a8f8939843fba2af8307f95eb6e5",
            "max": 456318,
            "min": 0,
            "orientation": "horizontal",
            "style": "IPY_MODEL_4a913f29adec47e881c6986f837b517a",
            "value": 456318
          }
        },
        "4df5a31b03064e61ad913df6a079916c": {
          "model_module": "@jupyter-widgets/controls",
          "model_name": "HTMLModel",
          "model_module_version": "1.5.0",
          "state": {
            "_dom_classes": [],
            "_model_module": "@jupyter-widgets/controls",
            "_model_module_version": "1.5.0",
            "_model_name": "HTMLModel",
            "_view_count": null,
            "_view_module": "@jupyter-widgets/controls",
            "_view_module_version": "1.5.0",
            "_view_name": "HTMLView",
            "description": "",
            "description_tooltip": null,
            "layout": "IPY_MODEL_698d7384fbb249c4bc53d51684a58fdd",
            "placeholder": "​",
            "style": "IPY_MODEL_a27d45f46c3142e5a7b83335a469c7b1",
            "value": " 456k/456k [00:00&lt;00:00, 4.77MB/s]"
          }
        },
        "b4cc8cd1d5974ab7bca36638fcc20a15": {
          "model_module": "@jupyter-widgets/base",
          "model_name": "LayoutModel",
          "model_module_version": "1.2.0",
          "state": {
            "_model_module": "@jupyter-widgets/base",
            "_model_module_version": "1.2.0",
            "_model_name": "LayoutModel",
            "_view_count": null,
            "_view_module": "@jupyter-widgets/base",
            "_view_module_version": "1.2.0",
            "_view_name": "LayoutView",
            "align_content": null,
            "align_items": null,
            "align_self": null,
            "border": null,
            "bottom": null,
            "display": null,
            "flex": null,
            "flex_flow": null,
            "grid_area": null,
            "grid_auto_columns": null,
            "grid_auto_flow": null,
            "grid_auto_rows": null,
            "grid_column": null,
            "grid_gap": null,
            "grid_row": null,
            "grid_template_areas": null,
            "grid_template_columns": null,
            "grid_template_rows": null,
            "height": null,
            "justify_content": null,
            "justify_items": null,
            "left": null,
            "margin": null,
            "max_height": null,
            "max_width": null,
            "min_height": null,
            "min_width": null,
            "object_fit": null,
            "object_position": null,
            "order": null,
            "overflow": null,
            "overflow_x": null,
            "overflow_y": null,
            "padding": null,
            "right": null,
            "top": null,
            "visibility": null,
            "width": null
          }
        },
        "9e03268d0efd42d7856ef3c8f700fceb": {
          "model_module": "@jupyter-widgets/base",
          "model_name": "LayoutModel",
          "model_module_version": "1.2.0",
          "state": {
            "_model_module": "@jupyter-widgets/base",
            "_model_module_version": "1.2.0",
            "_model_name": "LayoutModel",
            "_view_count": null,
            "_view_module": "@jupyter-widgets/base",
            "_view_module_version": "1.2.0",
            "_view_name": "LayoutView",
            "align_content": null,
            "align_items": null,
            "align_self": null,
            "border": null,
            "bottom": null,
            "display": null,
            "flex": null,
            "flex_flow": null,
            "grid_area": null,
            "grid_auto_columns": null,
            "grid_auto_flow": null,
            "grid_auto_rows": null,
            "grid_column": null,
            "grid_gap": null,
            "grid_row": null,
            "grid_template_areas": null,
            "grid_template_columns": null,
            "grid_template_rows": null,
            "height": null,
            "justify_content": null,
            "justify_items": null,
            "left": null,
            "margin": null,
            "max_height": null,
            "max_width": null,
            "min_height": null,
            "min_width": null,
            "object_fit": null,
            "object_position": null,
            "order": null,
            "overflow": null,
            "overflow_x": null,
            "overflow_y": null,
            "padding": null,
            "right": null,
            "top": null,
            "visibility": null,
            "width": null
          }
        },
        "5a0d2d1309ad4e43817e4ae5e54477dd": {
          "model_module": "@jupyter-widgets/controls",
          "model_name": "DescriptionStyleModel",
          "model_module_version": "1.5.0",
          "state": {
            "_model_module": "@jupyter-widgets/controls",
            "_model_module_version": "1.5.0",
            "_model_name": "DescriptionStyleModel",
            "_view_count": null,
            "_view_module": "@jupyter-widgets/base",
            "_view_module_version": "1.2.0",
            "_view_name": "StyleView",
            "description_width": ""
          }
        },
        "6432a8f8939843fba2af8307f95eb6e5": {
          "model_module": "@jupyter-widgets/base",
          "model_name": "LayoutModel",
          "model_module_version": "1.2.0",
          "state": {
            "_model_module": "@jupyter-widgets/base",
            "_model_module_version": "1.2.0",
            "_model_name": "LayoutModel",
            "_view_count": null,
            "_view_module": "@jupyter-widgets/base",
            "_view_module_version": "1.2.0",
            "_view_name": "LayoutView",
            "align_content": null,
            "align_items": null,
            "align_self": null,
            "border": null,
            "bottom": null,
            "display": null,
            "flex": null,
            "flex_flow": null,
            "grid_area": null,
            "grid_auto_columns": null,
            "grid_auto_flow": null,
            "grid_auto_rows": null,
            "grid_column": null,
            "grid_gap": null,
            "grid_row": null,
            "grid_template_areas": null,
            "grid_template_columns": null,
            "grid_template_rows": null,
            "height": null,
            "justify_content": null,
            "justify_items": null,
            "left": null,
            "margin": null,
            "max_height": null,
            "max_width": null,
            "min_height": null,
            "min_width": null,
            "object_fit": null,
            "object_position": null,
            "order": null,
            "overflow": null,
            "overflow_x": null,
            "overflow_y": null,
            "padding": null,
            "right": null,
            "top": null,
            "visibility": null,
            "width": null
          }
        },
        "4a913f29adec47e881c6986f837b517a": {
          "model_module": "@jupyter-widgets/controls",
          "model_name": "ProgressStyleModel",
          "model_module_version": "1.5.0",
          "state": {
            "_model_module": "@jupyter-widgets/controls",
            "_model_module_version": "1.5.0",
            "_model_name": "ProgressStyleModel",
            "_view_count": null,
            "_view_module": "@jupyter-widgets/base",
            "_view_module_version": "1.2.0",
            "_view_name": "StyleView",
            "bar_color": null,
            "description_width": ""
          }
        },
        "698d7384fbb249c4bc53d51684a58fdd": {
          "model_module": "@jupyter-widgets/base",
          "model_name": "LayoutModel",
          "model_module_version": "1.2.0",
          "state": {
            "_model_module": "@jupyter-widgets/base",
            "_model_module_version": "1.2.0",
            "_model_name": "LayoutModel",
            "_view_count": null,
            "_view_module": "@jupyter-widgets/base",
            "_view_module_version": "1.2.0",
            "_view_name": "LayoutView",
            "align_content": null,
            "align_items": null,
            "align_self": null,
            "border": null,
            "bottom": null,
            "display": null,
            "flex": null,
            "flex_flow": null,
            "grid_area": null,
            "grid_auto_columns": null,
            "grid_auto_flow": null,
            "grid_auto_rows": null,
            "grid_column": null,
            "grid_gap": null,
            "grid_row": null,
            "grid_template_areas": null,
            "grid_template_columns": null,
            "grid_template_rows": null,
            "height": null,
            "justify_content": null,
            "justify_items": null,
            "left": null,
            "margin": null,
            "max_height": null,
            "max_width": null,
            "min_height": null,
            "min_width": null,
            "object_fit": null,
            "object_position": null,
            "order": null,
            "overflow": null,
            "overflow_x": null,
            "overflow_y": null,
            "padding": null,
            "right": null,
            "top": null,
            "visibility": null,
            "width": null
          }
        },
        "a27d45f46c3142e5a7b83335a469c7b1": {
          "model_module": "@jupyter-widgets/controls",
          "model_name": "DescriptionStyleModel",
          "model_module_version": "1.5.0",
          "state": {
            "_model_module": "@jupyter-widgets/controls",
            "_model_module_version": "1.5.0",
            "_model_name": "DescriptionStyleModel",
            "_view_count": null,
            "_view_module": "@jupyter-widgets/base",
            "_view_module_version": "1.2.0",
            "_view_name": "StyleView",
            "description_width": ""
          }
        },
        "f15242bdbfe749e1850d65beac58ddec": {
          "model_module": "@jupyter-widgets/controls",
          "model_name": "HBoxModel",
          "model_module_version": "1.5.0",
          "state": {
            "_dom_classes": [],
            "_model_module": "@jupyter-widgets/controls",
            "_model_module_version": "1.5.0",
            "_model_name": "HBoxModel",
            "_view_count": null,
            "_view_module": "@jupyter-widgets/controls",
            "_view_module_version": "1.5.0",
            "_view_name": "HBoxView",
            "box_style": "",
            "children": [
              "IPY_MODEL_7e2a160a683a4ee2bf2f5da59eec8975",
              "IPY_MODEL_e3a2f4d333dc44ff801723d0e0065919",
              "IPY_MODEL_5af59ceed7864f99afa0ae688ccb51b2"
            ],
            "layout": "IPY_MODEL_173134764b914b129f5c60f8edd6f398"
          }
        },
        "7e2a160a683a4ee2bf2f5da59eec8975": {
          "model_module": "@jupyter-widgets/controls",
          "model_name": "HTMLModel",
          "model_module_version": "1.5.0",
          "state": {
            "_dom_classes": [],
            "_model_module": "@jupyter-widgets/controls",
            "_model_module_version": "1.5.0",
            "_model_name": "HTMLModel",
            "_view_count": null,
            "_view_module": "@jupyter-widgets/controls",
            "_view_module_version": "1.5.0",
            "_view_name": "HTMLView",
            "description": "",
            "description_tooltip": null,
            "layout": "IPY_MODEL_5cc0efbaa0c04ee2b8b6d293194acf40",
            "placeholder": "​",
            "style": "IPY_MODEL_8fc3f51ed4cf4eafb622dacf4168e655",
            "value": "Downloading: 100%"
          }
        },
        "e3a2f4d333dc44ff801723d0e0065919": {
          "model_module": "@jupyter-widgets/controls",
          "model_name": "FloatProgressModel",
          "model_module_version": "1.5.0",
          "state": {
            "_dom_classes": [],
            "_model_module": "@jupyter-widgets/controls",
            "_model_module_version": "1.5.0",
            "_model_name": "FloatProgressModel",
            "_view_count": null,
            "_view_module": "@jupyter-widgets/controls",
            "_view_module_version": "1.5.0",
            "_view_name": "ProgressView",
            "bar_style": "success",
            "description": "",
            "description_tooltip": null,
            "layout": "IPY_MODEL_b5de8e45f2924801a78a15cff3b4b594",
            "max": 481,
            "min": 0,
            "orientation": "horizontal",
            "style": "IPY_MODEL_576c00e7ffdc436fae79d7fe44c2d69e",
            "value": 481
          }
        },
        "5af59ceed7864f99afa0ae688ccb51b2": {
          "model_module": "@jupyter-widgets/controls",
          "model_name": "HTMLModel",
          "model_module_version": "1.5.0",
          "state": {
            "_dom_classes": [],
            "_model_module": "@jupyter-widgets/controls",
            "_model_module_version": "1.5.0",
            "_model_name": "HTMLModel",
            "_view_count": null,
            "_view_module": "@jupyter-widgets/controls",
            "_view_module_version": "1.5.0",
            "_view_name": "HTMLView",
            "description": "",
            "description_tooltip": null,
            "layout": "IPY_MODEL_64dd4c5831ef473ab35ccd839596ef5e",
            "placeholder": "​",
            "style": "IPY_MODEL_d27edad4c63447f8a5497b43c89f082d",
            "value": " 481/481 [00:00&lt;00:00, 35.6kB/s]"
          }
        },
        "173134764b914b129f5c60f8edd6f398": {
          "model_module": "@jupyter-widgets/base",
          "model_name": "LayoutModel",
          "model_module_version": "1.2.0",
          "state": {
            "_model_module": "@jupyter-widgets/base",
            "_model_module_version": "1.2.0",
            "_model_name": "LayoutModel",
            "_view_count": null,
            "_view_module": "@jupyter-widgets/base",
            "_view_module_version": "1.2.0",
            "_view_name": "LayoutView",
            "align_content": null,
            "align_items": null,
            "align_self": null,
            "border": null,
            "bottom": null,
            "display": null,
            "flex": null,
            "flex_flow": null,
            "grid_area": null,
            "grid_auto_columns": null,
            "grid_auto_flow": null,
            "grid_auto_rows": null,
            "grid_column": null,
            "grid_gap": null,
            "grid_row": null,
            "grid_template_areas": null,
            "grid_template_columns": null,
            "grid_template_rows": null,
            "height": null,
            "justify_content": null,
            "justify_items": null,
            "left": null,
            "margin": null,
            "max_height": null,
            "max_width": null,
            "min_height": null,
            "min_width": null,
            "object_fit": null,
            "object_position": null,
            "order": null,
            "overflow": null,
            "overflow_x": null,
            "overflow_y": null,
            "padding": null,
            "right": null,
            "top": null,
            "visibility": null,
            "width": null
          }
        },
        "5cc0efbaa0c04ee2b8b6d293194acf40": {
          "model_module": "@jupyter-widgets/base",
          "model_name": "LayoutModel",
          "model_module_version": "1.2.0",
          "state": {
            "_model_module": "@jupyter-widgets/base",
            "_model_module_version": "1.2.0",
            "_model_name": "LayoutModel",
            "_view_count": null,
            "_view_module": "@jupyter-widgets/base",
            "_view_module_version": "1.2.0",
            "_view_name": "LayoutView",
            "align_content": null,
            "align_items": null,
            "align_self": null,
            "border": null,
            "bottom": null,
            "display": null,
            "flex": null,
            "flex_flow": null,
            "grid_area": null,
            "grid_auto_columns": null,
            "grid_auto_flow": null,
            "grid_auto_rows": null,
            "grid_column": null,
            "grid_gap": null,
            "grid_row": null,
            "grid_template_areas": null,
            "grid_template_columns": null,
            "grid_template_rows": null,
            "height": null,
            "justify_content": null,
            "justify_items": null,
            "left": null,
            "margin": null,
            "max_height": null,
            "max_width": null,
            "min_height": null,
            "min_width": null,
            "object_fit": null,
            "object_position": null,
            "order": null,
            "overflow": null,
            "overflow_x": null,
            "overflow_y": null,
            "padding": null,
            "right": null,
            "top": null,
            "visibility": null,
            "width": null
          }
        },
        "8fc3f51ed4cf4eafb622dacf4168e655": {
          "model_module": "@jupyter-widgets/controls",
          "model_name": "DescriptionStyleModel",
          "model_module_version": "1.5.0",
          "state": {
            "_model_module": "@jupyter-widgets/controls",
            "_model_module_version": "1.5.0",
            "_model_name": "DescriptionStyleModel",
            "_view_count": null,
            "_view_module": "@jupyter-widgets/base",
            "_view_module_version": "1.2.0",
            "_view_name": "StyleView",
            "description_width": ""
          }
        },
        "b5de8e45f2924801a78a15cff3b4b594": {
          "model_module": "@jupyter-widgets/base",
          "model_name": "LayoutModel",
          "model_module_version": "1.2.0",
          "state": {
            "_model_module": "@jupyter-widgets/base",
            "_model_module_version": "1.2.0",
            "_model_name": "LayoutModel",
            "_view_count": null,
            "_view_module": "@jupyter-widgets/base",
            "_view_module_version": "1.2.0",
            "_view_name": "LayoutView",
            "align_content": null,
            "align_items": null,
            "align_self": null,
            "border": null,
            "bottom": null,
            "display": null,
            "flex": null,
            "flex_flow": null,
            "grid_area": null,
            "grid_auto_columns": null,
            "grid_auto_flow": null,
            "grid_auto_rows": null,
            "grid_column": null,
            "grid_gap": null,
            "grid_row": null,
            "grid_template_areas": null,
            "grid_template_columns": null,
            "grid_template_rows": null,
            "height": null,
            "justify_content": null,
            "justify_items": null,
            "left": null,
            "margin": null,
            "max_height": null,
            "max_width": null,
            "min_height": null,
            "min_width": null,
            "object_fit": null,
            "object_position": null,
            "order": null,
            "overflow": null,
            "overflow_x": null,
            "overflow_y": null,
            "padding": null,
            "right": null,
            "top": null,
            "visibility": null,
            "width": null
          }
        },
        "576c00e7ffdc436fae79d7fe44c2d69e": {
          "model_module": "@jupyter-widgets/controls",
          "model_name": "ProgressStyleModel",
          "model_module_version": "1.5.0",
          "state": {
            "_model_module": "@jupyter-widgets/controls",
            "_model_module_version": "1.5.0",
            "_model_name": "ProgressStyleModel",
            "_view_count": null,
            "_view_module": "@jupyter-widgets/base",
            "_view_module_version": "1.2.0",
            "_view_name": "StyleView",
            "bar_color": null,
            "description_width": ""
          }
        },
        "64dd4c5831ef473ab35ccd839596ef5e": {
          "model_module": "@jupyter-widgets/base",
          "model_name": "LayoutModel",
          "model_module_version": "1.2.0",
          "state": {
            "_model_module": "@jupyter-widgets/base",
            "_model_module_version": "1.2.0",
            "_model_name": "LayoutModel",
            "_view_count": null,
            "_view_module": "@jupyter-widgets/base",
            "_view_module_version": "1.2.0",
            "_view_name": "LayoutView",
            "align_content": null,
            "align_items": null,
            "align_self": null,
            "border": null,
            "bottom": null,
            "display": null,
            "flex": null,
            "flex_flow": null,
            "grid_area": null,
            "grid_auto_columns": null,
            "grid_auto_flow": null,
            "grid_auto_rows": null,
            "grid_column": null,
            "grid_gap": null,
            "grid_row": null,
            "grid_template_areas": null,
            "grid_template_columns": null,
            "grid_template_rows": null,
            "height": null,
            "justify_content": null,
            "justify_items": null,
            "left": null,
            "margin": null,
            "max_height": null,
            "max_width": null,
            "min_height": null,
            "min_width": null,
            "object_fit": null,
            "object_position": null,
            "order": null,
            "overflow": null,
            "overflow_x": null,
            "overflow_y": null,
            "padding": null,
            "right": null,
            "top": null,
            "visibility": null,
            "width": null
          }
        },
        "d27edad4c63447f8a5497b43c89f082d": {
          "model_module": "@jupyter-widgets/controls",
          "model_name": "DescriptionStyleModel",
          "model_module_version": "1.5.0",
          "state": {
            "_model_module": "@jupyter-widgets/controls",
            "_model_module_version": "1.5.0",
            "_model_name": "DescriptionStyleModel",
            "_view_count": null,
            "_view_module": "@jupyter-widgets/base",
            "_view_module_version": "1.2.0",
            "_view_name": "StyleView",
            "description_width": ""
          }
        }
      }
    }
  },
  "cells": [
    {
      "cell_type": "markdown",
      "metadata": {
        "id": "view-in-github",
        "colab_type": "text"
      },
      "source": [
        "<a href=\"https://colab.research.google.com/github/DaryaTereshchenko/HateSpeechDetection/blob/main/RoBerta_all_moodels.ipynb\" target=\"_parent\"><img src=\"https://colab.research.google.com/assets/colab-badge.svg\" alt=\"Open In Colab\"/></a>"
      ]
    },
    {
      "cell_type": "code",
      "execution_count": 1,
      "metadata": {
        "id": "a1AdP7YlpgMi",
        "colab": {
          "base_uri": "https://localhost:8080/"
        },
        "outputId": "3f02495b-abf6-4929-8679-297110af920f"
      },
      "outputs": [
        {
          "output_type": "stream",
          "name": "stdout",
          "text": [
            "Installing collected packages: tokenizers, sentencepiece, huggingface-hub, transformers, sentence_transformers\n",
            "Successfully installed huggingface-hub-0.11.1 sentence_transformers-2.2.2 sentencepiece-0.1.97 tokenizers-0.13.2 transformers-4.25.1\n",
            "Looking in indexes: https://pypi.org/simple, https://us-python.pkg.dev/colab-wheels/public/simple/\n",
            "Requirement already satisfied: transformers in /usr/local/lib/python3.8/dist-packages (4.25.1)\n",
            "Requirement already satisfied: numpy>=1.17 in /usr/local/lib/python3.8/dist-packages (from transformers) (1.21.6)\n",
            "Requirement already satisfied: huggingface-hub<1.0,>=0.10.0 in /usr/local/lib/python3.8/dist-packages (from transformers) (0.11.1)\n",
            "Requirement already satisfied: packaging>=20.0 in /usr/local/lib/python3.8/dist-packages (from transformers) (21.3)\n",
            "Requirement already satisfied: regex!=2019.12.17 in /usr/local/lib/python3.8/dist-packages (from transformers) (2022.6.2)\n",
            "Requirement already satisfied: requests in /usr/local/lib/python3.8/dist-packages (from transformers) (2.25.1)\n",
            "Requirement already satisfied: tqdm>=4.27 in /usr/local/lib/python3.8/dist-packages (from transformers) (4.64.1)\n",
            "Requirement already satisfied: pyyaml>=5.1 in /usr/local/lib/python3.8/dist-packages (from transformers) (6.0)\n",
            "Requirement already satisfied: tokenizers!=0.11.3,<0.14,>=0.11.1 in /usr/local/lib/python3.8/dist-packages (from transformers) (0.13.2)\n",
            "Requirement already satisfied: filelock in /usr/local/lib/python3.8/dist-packages (from transformers) (3.9.0)\n",
            "Requirement already satisfied: typing-extensions>=3.7.4.3 in /usr/local/lib/python3.8/dist-packages (from huggingface-hub<1.0,>=0.10.0->transformers) (4.4.0)\n",
            "Requirement already satisfied: pyparsing!=3.0.5,>=2.0.2 in /usr/local/lib/python3.8/dist-packages (from packaging>=20.0->transformers) (3.0.9)\n",
            "Requirement already satisfied: certifi>=2017.4.17 in /usr/local/lib/python3.8/dist-packages (from requests->transformers) (2022.12.7)\n",
            "Requirement already satisfied: idna<3,>=2.5 in /usr/local/lib/python3.8/dist-packages (from requests->transformers) (2.10)\n",
            "Requirement already satisfied: urllib3<1.27,>=1.21.1 in /usr/local/lib/python3.8/dist-packages (from requests->transformers) (1.24.3)\n",
            "Requirement already satisfied: chardet<5,>=3.0.2 in /usr/local/lib/python3.8/dist-packages (from requests->transformers) (4.0.0)\n"
          ]
        }
      ],
      "source": [
        "!pip install sentence_transformers\n",
        "!pip install transformers"
      ]
    },
    {
      "cell_type": "code",
      "source": [
        "import numpy as np\n",
        "import pandas as pd"
      ],
      "metadata": {
        "id": "qFw2tJmvqQrL"
      },
      "execution_count": 2,
      "outputs": []
    },
    {
      "cell_type": "code",
      "source": [
        "import matplotlib.pyplot as plt\n",
        "import seaborn as sns\n",
        "import string\n",
        "from nltk import word_tokenize\n",
        "from nltk.corpus import stopwords\n",
        "import nltk\n",
        "nltk.download('stopwords')\n",
        "nltk.download('punkt')"
      ],
      "metadata": {
        "id": "ZGpjX5WXqYfZ",
        "colab": {
          "base_uri": "https://localhost:8080/"
        },
        "outputId": "b21923e3-f179-4ae0-d712-20dbcb914ced"
      },
      "execution_count": 3,
      "outputs": [
        {
          "output_type": "stream",
          "name": "stderr",
          "text": [
            "[nltk_data] Downloading package stopwords to /root/nltk_data...\n",
            "[nltk_data]   Unzipping corpora/stopwords.zip.\n",
            "[nltk_data] Downloading package punkt to /root/nltk_data...\n",
            "[nltk_data]   Unzipping tokenizers/punkt.zip.\n"
          ]
        },
        {
          "output_type": "execute_result",
          "data": {
            "text/plain": [
              "True"
            ]
          },
          "metadata": {},
          "execution_count": 3
        }
      ]
    },
    {
      "cell_type": "code",
      "source": [
        "import tensorflow as tf\n",
        "from sentence_transformers import SentenceTransformer\n",
        "from transformers import RobertaTokenizer"
      ],
      "metadata": {
        "id": "1ovvuxH8erOM"
      },
      "execution_count": 4,
      "outputs": []
    },
    {
      "cell_type": "code",
      "source": [
        "from transformers import RobertaTokenizer, RobertaConfig, TFRobertaModel"
      ],
      "metadata": {
        "id": "ouf4VesE82ME"
      },
      "execution_count": 5,
      "outputs": []
    },
    {
      "cell_type": "code",
      "source": [
        "ethos_hate = pd.read_csv(\"ethos_hate.csv\", sep=\",\", encoding=\"unicode_escape\").drop(columns=\"label\")\n",
        "ethos_hate[\"label\"] = 1\n",
        "\n",
        "ethos_neutral = pd.read_csv(\"ethos_neutral.csv\", sep=\",\", encoding=\"unicode_escape\").drop(columns=\"label\")\n",
        "ethos_neutral[\"label\"] = 0\n",
        "\n",
        "train_n = ethos_neutral.sample(frac=0.9, random_state=0)\n",
        "test_n = ethos_neutral.drop(train_n.index)\n",
        "\n",
        "train_hate = ethos_hate.sample(frac=0.9, random_state=0)\n",
        "test_hate = ethos_hate.drop(train_hate.index)\n",
        "\n",
        "\n",
        "train = pd.concat([train_n, train_hate]).sample(frac=1, random_state=300).reset_index(drop=True)\n",
        "test = pd.concat([test_n, test_hate]).sample(frac=1, random_state=300).reset_index(drop=True)\n",
        "\n",
        "print(train.text[0])\n"
      ],
      "metadata": {
        "id": "QrZgSlY7qaC3",
        "colab": {
          "base_uri": "https://localhost:8080/"
        },
        "outputId": "9b885d28-dc5c-4520-bce6-f64374c7648f"
      },
      "execution_count": 6,
      "outputs": [
        {
          "output_type": "stream",
          "name": "stdout",
          "text": [
            "What episode number was this?\n"
          ]
        }
      ]
    },
    {
      "cell_type": "code",
      "source": [
        "print(test.label)"
      ],
      "metadata": {
        "colab": {
          "base_uri": "https://localhost:8080/"
        },
        "id": "ctNF_3mCMbD5",
        "outputId": "b27a4888-784f-4cff-99fe-e492a96e1547"
      },
      "execution_count": null,
      "outputs": [
        {
          "output_type": "stream",
          "name": "stdout",
          "text": [
            "0     0\n",
            "1     1\n",
            "2     0\n",
            "3     1\n",
            "4     0\n",
            "     ..\n",
            "95    0\n",
            "96    1\n",
            "97    0\n",
            "98    1\n",
            "99    1\n",
            "Name: label, Length: 100, dtype: int64\n"
          ]
        }
      ]
    },
    {
      "cell_type": "code",
      "source": [
        "train.text"
      ],
      "metadata": {
        "id": "ZeMKxEJLIy2d",
        "colab": {
          "base_uri": "https://localhost:8080/"
        },
        "outputId": "e8295fee-95fd-4ff7-98c6-4041a1ba53c4"
      },
      "execution_count": null,
      "outputs": [
        {
          "output_type": "execute_result",
          "data": {
            "text/plain": [
              "0                          What episode number was this?\n",
              "1      Why don't you go beck your god to murder you? ...\n",
              "2      I don't like jew soap, but if we are to get ri...\n",
              "3      By calling period, a natural procedure, as an ...\n",
              "4         MASS BLACK WORLDWIDE GENOCIDE IS OUR ONLY HOPE\n",
              "                             ...                        \n",
              "893    Is this world filled by those stupid female bi...\n",
              "894                   What type of question it is???????\n",
              "895                    Die fucking arab dude sand niggas\n",
              "896               Japanese culture is ancient and unique\n",
              "897    People who say \"YAAAASSSS QUEEN\" should be ste...\n",
              "Name: text, Length: 898, dtype: object"
            ]
          },
          "metadata": {},
          "execution_count": 9
        }
      ]
    },
    {
      "cell_type": "code",
      "source": [
        "print(\"Longest sentence?\")\n",
        "print(max(len(x) for x in train.text.values))\n",
        "print(\"Average length?\")\n",
        "print(sum(len(x) for x in train.text.values) / len(train.text.values))\n"
      ],
      "metadata": {
        "colab": {
          "base_uri": "https://localhost:8080/"
        },
        "id": "vL6OJip-5gpO",
        "outputId": "4ec08cc4-dbca-4e8b-a32e-3b1cb93b545d"
      },
      "execution_count": null,
      "outputs": [
        {
          "output_type": "stream",
          "name": "stdout",
          "text": [
            "Longest sentence?\n",
            "3009\n",
            "Average length?\n",
            "111.76948775055679\n"
          ]
        }
      ]
    },
    {
      "cell_type": "code",
      "source": [
        "def clean_text(line):\n",
        "  processed_line = line.lower()\n",
        "  words = [word for word in word_tokenize(processed_line)]\n",
        "  processed_line = [word for word in words if word not in set(string.punctuation)]\n",
        "  text = \" \".join(processed_line)\n",
        "  return text"
      ],
      "metadata": {
        "id": "3OJKw5IruC6n"
      },
      "execution_count": 7,
      "outputs": []
    },
    {
      "cell_type": "code",
      "source": [
        "# Sentences for embeddings\n",
        "train_sentence_list = list(map(clean_text, train.text.values))\n",
        "test_sentence_list = list(map(clean_text, test.text.values))"
      ],
      "metadata": {
        "id": "t48Le1B0emun"
      },
      "execution_count": 8,
      "outputs": []
    },
    {
      "cell_type": "code",
      "source": [
        "train_sentence_list"
      ],
      "metadata": {
        "id": "g0jSIoMQpj_W"
      },
      "execution_count": null,
      "outputs": []
    },
    {
      "cell_type": "code",
      "source": [
        "from transformers import AutoTokenizer, TFAutoModel"
      ],
      "metadata": {
        "id": "LDJ4uJuiSbx8"
      },
      "execution_count": 9,
      "outputs": []
    },
    {
      "cell_type": "code",
      "source": [
        "MODEL_NAME = 'roberta-base'\n",
        "MAX_LEN = 128\n",
        "\n",
        "tokenizer = RobertaTokenizer.from_pretrained(MODEL_NAME)"
      ],
      "metadata": {
        "id": "I6H_digUgSNU",
        "outputId": "123fc04b-ae47-4395-b16f-51c34ce1e562",
        "colab": {
          "base_uri": "https://localhost:8080/",
          "height": 113,
          "referenced_widgets": [
            "c94f9ced400a40e1b6f97c0c85956e39",
            "1b527d221fa747a2b91f6d7433200c40",
            "3dd9546dc3a945459df2326a3426bca3",
            "c9e5986166924ec5bbc267c03e494ce3",
            "1e1785739ee64917bd0e06721cc39e69",
            "f00166e256994e05847301c340da4690",
            "29b243c688a94dd0964fc085ac9ed370",
            "10de180890374ad1a75b9cbeb142d0be",
            "adf7f8f129ab42e8ba3ef13b2c0b9f66",
            "941bf1356e594e2fb2520eb826e8e2d9",
            "06c9475b02614e4bb9cc18c18f687619",
            "6472f24fcef840e1b970f320f2d66136",
            "03209f79b918470a9e7bc7dfbadd5146",
            "1e19465c14f34f71ad13abc49dbbb6b8",
            "4df5a31b03064e61ad913df6a079916c",
            "b4cc8cd1d5974ab7bca36638fcc20a15",
            "9e03268d0efd42d7856ef3c8f700fceb",
            "5a0d2d1309ad4e43817e4ae5e54477dd",
            "6432a8f8939843fba2af8307f95eb6e5",
            "4a913f29adec47e881c6986f837b517a",
            "698d7384fbb249c4bc53d51684a58fdd",
            "a27d45f46c3142e5a7b83335a469c7b1",
            "f15242bdbfe749e1850d65beac58ddec",
            "7e2a160a683a4ee2bf2f5da59eec8975",
            "e3a2f4d333dc44ff801723d0e0065919",
            "5af59ceed7864f99afa0ae688ccb51b2",
            "173134764b914b129f5c60f8edd6f398",
            "5cc0efbaa0c04ee2b8b6d293194acf40",
            "8fc3f51ed4cf4eafb622dacf4168e655",
            "b5de8e45f2924801a78a15cff3b4b594",
            "576c00e7ffdc436fae79d7fe44c2d69e",
            "64dd4c5831ef473ab35ccd839596ef5e",
            "d27edad4c63447f8a5497b43c89f082d"
          ]
        }
      },
      "execution_count": 10,
      "outputs": [
        {
          "output_type": "display_data",
          "data": {
            "text/plain": [
              "Downloading:   0%|          | 0.00/899k [00:00<?, ?B/s]"
            ],
            "application/vnd.jupyter.widget-view+json": {
              "version_major": 2,
              "version_minor": 0,
              "model_id": "c94f9ced400a40e1b6f97c0c85956e39"
            }
          },
          "metadata": {}
        },
        {
          "output_type": "display_data",
          "data": {
            "text/plain": [
              "Downloading:   0%|          | 0.00/456k [00:00<?, ?B/s]"
            ],
            "application/vnd.jupyter.widget-view+json": {
              "version_major": 2,
              "version_minor": 0,
              "model_id": "6472f24fcef840e1b970f320f2d66136"
            }
          },
          "metadata": {}
        },
        {
          "output_type": "display_data",
          "data": {
            "text/plain": [
              "Downloading:   0%|          | 0.00/481 [00:00<?, ?B/s]"
            ],
            "application/vnd.jupyter.widget-view+json": {
              "version_major": 2,
              "version_minor": 0,
              "model_id": "f15242bdbfe749e1850d65beac58ddec"
            }
          },
          "metadata": {}
        }
      ]
    },
    {
      "cell_type": "code",
      "source": [
        "def roberta_encode(texts, tokenizer):\n",
        "    ct = len(texts)\n",
        "    input_ids = np.ones((ct, MAX_LEN), dtype='int32')\n",
        "    attention_mask = np.zeros((ct, MAX_LEN), dtype='int32')\n",
        "    token_type_ids = np.zeros((ct, MAX_LEN), dtype='int32') # Not used in text classification\n",
        "\n",
        "    for k, text in enumerate(texts):\n",
        "        # Tokenize\n",
        "        tok_text = tokenizer.tokenize(text)\n",
        "        \n",
        "        # Truncate and convert tokens to numerical IDs\n",
        "        enc_text = tokenizer.convert_tokens_to_ids(tok_text[:(MAX_LEN-2)])\n",
        "        \n",
        "        input_length = len(enc_text) + 2\n",
        "        input_length = input_length if input_length < MAX_LEN else MAX_LEN\n",
        "        \n",
        "        # Add tokens [CLS] and [SEP] at the beginning and the end\n",
        "        input_ids[k,:input_length] = np.asarray([0] + enc_text + [2], dtype='int32')\n",
        "        \n",
        "        # Set to 1s in the attention input\n",
        "        attention_mask[k,:input_length] = 1\n",
        "\n",
        "    return {\n",
        "        'input_word_ids': input_ids,\n",
        "        'input_mask': attention_mask,\n",
        "        'input_type_ids': token_type_ids\n",
        "    }"
      ],
      "metadata": {
        "id": "AjhMIoP2L451"
      },
      "execution_count": 11,
      "outputs": []
    },
    {
      "cell_type": "code",
      "source": [
        "X_train = roberta_encode(train_sentence_list, tokenizer)\n",
        "X_test = roberta_encode(test_sentence_list, tokenizer)\n",
        "\n",
        "y_train = np.asarray(train.label, dtype='int32').reshape(-1,1)\n",
        "y_test = np.asarray(test.label, dtype='int32').reshape(-1,1)"
      ],
      "metadata": {
        "id": "F20F-ThJ_EIz"
      },
      "execution_count": 12,
      "outputs": []
    },
    {
      "cell_type": "code",
      "source": [
        "\"\"\"\n",
        "========================================\n",
        "ROBERTA\n",
        "========================================\n",
        "\"\"\"\n",
        "def build_model1():\n",
        "  input_word_ids = tf.keras.Input(shape=(MAX_LEN,), dtype=tf.int32, name='input_word_ids')\n",
        "  input_mask = tf.keras.Input(shape=(MAX_LEN,), dtype=tf.int32, name='input_mask')\n",
        "  input_type_ids = tf.keras.Input(shape=(MAX_LEN,), dtype=tf.int32, name='input_type_ids')\n",
        "\n",
        "  # Import RoBERTa model from HuggingFace\n",
        "  roberta_model = TFRobertaModel.from_pretrained(MODEL_NAME)\n",
        "  x = roberta_model(input_word_ids, attention_mask=input_mask, token_type_ids=input_type_ids)\n",
        "  x = x[0]\n",
        "\n",
        "  x = tf.keras.layers.Dropout(0.3)(x)\n",
        "  x = tf.keras.layers.Flatten()(x)\n",
        "  x = tf.keras.layers.Dense(16, activation='relu')(x)\n",
        "  x = tf.keras.layers.Dense(1, activation='sigmoid')(x)\n",
        "\n",
        "  model1 = tf.keras.Model(inputs=[input_word_ids, input_mask, input_type_ids], outputs=x)\n",
        "  model1.compile(\n",
        "      optimizer=tf.keras.optimizers.Adam(learning_rate=1e-5),\n",
        "      loss= tf.keras.losses.binary_crossentropy,\n",
        "      metrics=['accuracy'])\n",
        "\n",
        "  return model1"
      ],
      "metadata": {
        "id": "srs7396Y_jWN"
      },
      "execution_count": 14,
      "outputs": []
    },
    {
      "cell_type": "code",
      "source": [
        "\"\"\"\n",
        "========================================\n",
        "ROBERTA + CNN\n",
        "========================================\n",
        "\"\"\"\n",
        "def build_model2(conv_size=128, max_features = 50000, embed_size=128):\n",
        "  input_word_ids = tf.keras.Input(shape=(MAX_LEN,), dtype=tf.int32, name='input_word_ids')\n",
        "  input_mask = tf.keras.Input(shape=(MAX_LEN,), dtype=tf.int32, name='input_mask')\n",
        "  input_type_ids = tf.keras.Input(shape=(MAX_LEN,), dtype=tf.int32, name='input_type_ids')\n",
        "\n",
        "  # Import RoBERTa model from HuggingFace\n",
        "  roberta_model = TFRobertaModel.from_pretrained(MODEL_NAME)\n",
        "  mod = roberta_model(input_word_ids, attention_mask=input_mask, token_type_ids=input_type_ids)\n",
        "\n",
        "  # Huggingface transformers have multiple outputs, embeddings are the first one,\n",
        "  # so let's slice out the first position\n",
        "  bert = mod[0]\n",
        "\n",
        "  x1 =  tf.keras.layers.SpatialDropout1D(rate=0.1)(bert)\n",
        "  # x = tf.keras.layers.Dropout(0.5)(bert)\n",
        "  # x2 = tf.keras.layers.Flatten()(x1)\n",
        "  # att = tf.keras.layers.Attention(MAX_LEN)(x2)\n",
        "  x = tf.keras.layers.Conv1D(conv_size, 2, activation='relu', padding='same')(x1)\n",
        "  x = tf.keras.layers.MaxPooling1D(5, padding='same')(x)\n",
        "  x = tf.keras.layers.Conv1D(conv_size, 3, activation='relu', padding='same')(x)\n",
        "  x = tf.keras.layers.MaxPooling1D(5, padding='same')(x)\n",
        "  x = tf.keras.layers.Flatten()(x)\n",
        "  x = tf.keras.layers.Dropout(0.5)(x)\n",
        "  x = tf.keras.layers.Dense(64, activation='relu')(x)\n",
        "  x = tf.keras.layers.Dense(1, activation='sigmoid')(x)\n",
        "\n",
        "  model = tf.keras.Model(inputs=[input_word_ids, input_mask, input_type_ids], outputs=x)\n",
        "  model.compile(\n",
        "      optimizer=tf.keras.optimizers.Adam(learning_rate=1e-5),\n",
        "      loss= tf.keras.losses.binary_crossentropy,\n",
        "      metrics=['accuracy'])\n",
        "\n",
        "  return model"
      ],
      "metadata": {
        "id": "enqaiTje2_Ue"
      },
      "execution_count": 28,
      "outputs": []
    },
    {
      "cell_type": "code",
      "source": [
        "\"\"\"\n",
        "========================================\n",
        "ROBERTA + CNN + LSTM \n",
        "========================================\n",
        "\"\"\"\n",
        "def build_model3(conv_size=128):\n",
        "  input_word_ids = tf.keras.Input(shape=(MAX_LEN,), dtype=tf.int32, name='input_word_ids')\n",
        "  input_mask = tf.keras.Input(shape=(MAX_LEN,), dtype=tf.int32, name='input_mask')\n",
        "  input_type_ids = tf.keras.Input(shape=(MAX_LEN,), dtype=tf.int32, name='input_type_ids')\n",
        "\n",
        "  # Import RoBERTa model from HuggingFace\n",
        "  roberta_model = TFRobertaModel.from_pretrained(MODEL_NAME)\n",
        "  mod = roberta_model(input_word_ids, attention_mask=input_mask, token_type_ids=input_type_ids)\n",
        "\n",
        "  # Huggingface transformers have multiple outputs, embeddings are the first one,\n",
        "  # so let's slice out the first position\n",
        "  bert = mod[0]\n",
        "\n",
        "  n =  tf.keras.layers.SpatialDropout1D(rate=0.1)(bert)\n",
        "  x0 = tf.keras.layers.Conv1D(128, 10, activation='relu')(n)\n",
        "  x1 = tf.keras.layers.Conv1D(64, 5, activation='relu')(x0)\n",
        "  x2 = tf.keras.layers.Conv1D(32, 4, activation='relu')(x1)\n",
        "  x3 = tf.keras.layers.Conv1D(16, 3, activation='relu')(x2)\n",
        "  x4 = tf.keras.layers.Conv1D(8, 5, activation='relu')(x3)\n",
        "  x = tf.keras.layers.MaxPooling1D(pool_size=3)(x4)\n",
        "  x = tf.keras.layers.Dropout(rate=0.5)(x)\n",
        "  x = tf.keras.layers.LSTM(100)(x)\n",
        "\n",
        "  p = tf.keras.layers.MaxPooling1D(pool_size=10)(x0)\n",
        "  p = tf.keras.layers.Dropout(rate=0.5)(p)\n",
        "  p = tf.keras.layers.LSTM(100)(p)\n",
        "\n",
        "  o = tf.keras.layers.MaxPooling1D(pool_size=8)(x1)\n",
        "  o = tf.keras.layers.Dropout(rate=0.5)(o)\n",
        "  o = tf.keras.layers.LSTM(100)(o)\n",
        "\n",
        "  i = tf.keras.layers.MaxPooling1D(pool_size=6)(x2)\n",
        "  i = tf.keras.layers.Dropout(rate=0.5)(i)\n",
        "  i = tf.keras.layers.LSTM(100)(i)\n",
        "\n",
        "  r = tf.keras.layers.MaxPooling1D(pool_size=4)(x3)\n",
        "  r = tf.keras.layers.Dropout(rate=0.5)(r)\n",
        "  r = tf.keras.layers.LSTM(100)(r)\n",
        "\n",
        "  t = tf.keras.layers.MaxPooling1D(pool_size=3)(x4)\n",
        "  t = tf.keras.layers.Dropout(rate=0.5)(t)\n",
        "  t = tf.keras.layers.LSTM(100)(t)\n",
        "\n",
        "  y = tf.keras.layers.LSTM(500)(bert)\n",
        "  y = tf.keras.layers.Dense(250, activation='relu')(y)\n",
        "  y = tf.keras.layers.Dropout(rate=0.5)(y)\n",
        "\n",
        "  z = tf.keras.layers.concatenate([x, p, o, i, r, t, y])\n",
        "\n",
        "  z = tf.keras.layers.Dense(400, activation='relu')(z)\n",
        "  z = tf.keras.layers.Dropout(0.5)(z)\n",
        "  z = tf.keras.layers.Dense(200, activation='relu')(z)\n",
        "  z = tf.keras.layers.Dense(100, activation='relu')(z)\n",
        "  z = tf.keras.layers.Dropout(0.5)(z)\n",
        "  z = tf.keras.layers.Dense(50, activation='relu')(z)\n",
        "  output_lay = tf.keras.layers.Dense(1, activation='sigmoid')(z)\n",
        "\n",
        "  model = tf.keras.Model(inputs=[input_word_ids, input_mask, input_type_ids], outputs=[output_lay])\n",
        "  model.compile(\n",
        "      optimizer=tf.keras.optimizers.Adam(learning_rate=1e-5),\n",
        "      loss= tf.keras.losses.binary_crossentropy,\n",
        "      metrics=['accuracy'])\n",
        "\n",
        "  return model"
      ],
      "metadata": {
        "id": "B-ldTv4j41BK"
      },
      "execution_count": 31,
      "outputs": []
    },
    {
      "cell_type": "code",
      "source": [
        "\"\"\"\n",
        "========================================\n",
        "ROBERTA + LSTM \n",
        "========================================\n",
        "\"\"\"\n",
        "def build_model4(conv_size=128, max_features = 50000, embed_size=128):\n",
        "  input_word_ids = tf.keras.Input(shape=(MAX_LEN,), dtype=tf.int32, name='input_word_ids')\n",
        "  input_mask = tf.keras.Input(shape=(MAX_LEN,), dtype=tf.int32, name='input_mask')\n",
        "  input_type_ids = tf.keras.Input(shape=(MAX_LEN,), dtype=tf.int32, name='input_type_ids')\n",
        "\n",
        "  # Import RoBERTa model from HuggingFace\n",
        "  roberta_model = TFRobertaModel.from_pretrained(MODEL_NAME)\n",
        "  mod = roberta_model(input_word_ids, attention_mask=input_mask, token_type_ids=input_type_ids)\n",
        "\n",
        "  # Huggingface transformers have multiple outputs, embeddings are the first one,\n",
        "  # so let's slice out the first position\n",
        "  bert = mod[0]\n",
        "\n",
        "  x1 =  tf.keras.layers.LSTM(300)(bert)\n",
        "  x = tf.keras.layers.Dropout(rate=0.5)(x1)\n",
        "  x = tf.keras.layers.Dense(100, activation='relu')(x)\n",
        "  x = tf.keras.layers.Dropout(rate=0.4)(x)\n",
        "  x = tf.keras.layers.Dense(1, activation='sigmoid')(x)\n",
        "\n",
        "  model = tf.keras.Model(inputs=[input_word_ids, input_mask, input_type_ids], outputs=x)\n",
        "  model.compile(\n",
        "      optimizer=tf.keras.optimizers.Adam(learning_rate=1e-5),\n",
        "      loss= tf.keras.losses.binary_crossentropy,\n",
        "      metrics=['accuracy'])\n",
        "\n",
        "  return model"
      ],
      "metadata": {
        "id": "1WtNg4RoBsuk"
      },
      "execution_count": 42,
      "outputs": []
    },
    {
      "cell_type": "code",
      "source": [
        "\"\"\"\n",
        "========================================\n",
        "ROBERTA + BiLSTM \n",
        "========================================\n",
        "\"\"\"\n",
        "def build_model5(conv_size=128, max_features = 50000, embed_size=128):\n",
        "  input_word_ids = tf.keras.Input(shape=(MAX_LEN,), dtype=tf.int32, name='input_word_ids')\n",
        "  input_mask = tf.keras.Input(shape=(MAX_LEN,), dtype=tf.int32, name='input_mask')\n",
        "  input_type_ids = tf.keras.Input(shape=(MAX_LEN,), dtype=tf.int32, name='input_type_ids')\n",
        "\n",
        "  # Import RoBERTa model from HuggingFace\n",
        "  roberta_model = TFRobertaModel.from_pretrained(MODEL_NAME)\n",
        "  mod = roberta_model(input_word_ids, attention_mask=input_mask, token_type_ids=input_type_ids)\n",
        "\n",
        "  # Huggingface transformers have multiple outputs, embeddings are the first one,\n",
        "  # so let's slice out the first position\n",
        "  bert = mod[0]\n",
        "\n",
        "  x1 = tf.keras.layers.SpatialDropout1D(0.1)(bert)\n",
        "  x = tf.keras.layers.Bidirectional(tf.keras.layers.LSTM(128, return_sequences=True))(x1)\n",
        "  x = tf.keras.layers.Dropout(0.5)(x)\n",
        "  x = tf.keras.layers.Bidirectional(tf.keras.layers.LSTM(128, return_sequences=True))(x)\n",
        "  hidden = tf.keras.layers.concatenate([\n",
        "        tf.keras.layers.GlobalMaxPooling1D()(x),\n",
        "        tf.keras.layers.GlobalAveragePooling1D()(x)])\n",
        "  hidden = tf.keras.layers.Dense(128, activation='relu')(hidden)\n",
        "  hidden = tf.keras.layers.Dropout(0.5)(hidden)\n",
        "  # hidden = tf.keras.layers.Dense(128, activation='relu')(hidden)\n",
        "  # hidden = tf.keras.layers.Dropout(0.5)(hidden)\n",
        "  x = tf.keras.layers.Dense(1, activation='sigmoid')(hidden)\n",
        "\n",
        "  model = tf.keras.Model(inputs=[input_word_ids, input_mask, input_type_ids], outputs=x)\n",
        "  model.compile(\n",
        "      optimizer=tf.keras.optimizers.Adam(learning_rate=1e-5),\n",
        "      loss= tf.keras.losses.binary_crossentropy,\n",
        "      metrics=['accuracy'])\n",
        "\n",
        "  return model"
      ],
      "metadata": {
        "id": "7UFD6jTgCLFv"
      },
      "execution_count": 52,
      "outputs": []
    },
    {
      "cell_type": "code",
      "source": [
        "model = build_model5()\n",
        "\n",
        "model.summary()\n",
        "tf.keras.utils.plot_model(model)"
      ],
      "metadata": {
        "colab": {
          "base_uri": "https://localhost:8080/",
          "height": 1000
        },
        "id": "Jh6Csgcf_lOZ",
        "outputId": "fe6cdfe1-cf5a-4926-f169-e7913c7a6456"
      },
      "execution_count": 53,
      "outputs": [
        {
          "output_type": "stream",
          "name": "stderr",
          "text": [
            "Some layers from the model checkpoint at roberta-base were not used when initializing TFRobertaModel: ['lm_head']\n",
            "- This IS expected if you are initializing TFRobertaModel from the checkpoint of a model trained on another task or with another architecture (e.g. initializing a BertForSequenceClassification model from a BertForPreTraining model).\n",
            "- This IS NOT expected if you are initializing TFRobertaModel from the checkpoint of a model that you expect to be exactly identical (initializing a BertForSequenceClassification model from a BertForSequenceClassification model).\n",
            "All the layers of TFRobertaModel were initialized from the model checkpoint at roberta-base.\n",
            "If your task is similar to the task the model of the checkpoint was trained on, you can already use TFRobertaModel for predictions without further training.\n"
          ]
        },
        {
          "output_type": "stream",
          "name": "stdout",
          "text": [
            "Model: \"model_7\"\n",
            "__________________________________________________________________________________________________\n",
            " Layer (type)                   Output Shape         Param #     Connected to                     \n",
            "==================================================================================================\n",
            " input_word_ids (InputLayer)    [(None, 128)]        0           []                               \n",
            "                                                                                                  \n",
            " input_mask (InputLayer)        [(None, 128)]        0           []                               \n",
            "                                                                                                  \n",
            " input_type_ids (InputLayer)    [(None, 128)]        0           []                               \n",
            "                                                                                                  \n",
            " tf_roberta_model_7 (TFRobertaM  TFBaseModelOutputWi  124645632  ['input_word_ids[0][0]',         \n",
            " odel)                          thPoolingAndCrossAt               'input_mask[0][0]',             \n",
            "                                tentions(last_hidde               'input_type_ids[0][0]']         \n",
            "                                n_state=(None, 128,                                               \n",
            "                                 768),                                                            \n",
            "                                 pooler_output=(Non                                               \n",
            "                                e, 768),                                                          \n",
            "                                 past_key_values=No                                               \n",
            "                                ne, hidden_states=N                                               \n",
            "                                one, attentions=Non                                               \n",
            "                                e, cross_attentions                                               \n",
            "                                =None)                                                            \n",
            "                                                                                                  \n",
            " spatial_dropout1d_3 (SpatialDr  (None, 128, 768)    0           ['tf_roberta_model_7[0][0]']     \n",
            " opout1D)                                                                                         \n",
            "                                                                                                  \n",
            " bidirectional (Bidirectional)  (None, 128, 256)     918528      ['spatial_dropout1d_3[0][0]']    \n",
            "                                                                                                  \n",
            " dropout_312 (Dropout)          (None, 128, 256)     0           ['bidirectional[0][0]']          \n",
            "                                                                                                  \n",
            " bidirectional_1 (Bidirectional  (None, 128, 256)    394240      ['dropout_312[0][0]']            \n",
            " )                                                                                                \n",
            "                                                                                                  \n",
            " global_max_pooling1d (GlobalMa  (None, 256)         0           ['bidirectional_1[0][0]']        \n",
            " xPooling1D)                                                                                      \n",
            "                                                                                                  \n",
            " global_average_pooling1d (Glob  (None, 256)         0           ['bidirectional_1[0][0]']        \n",
            " alAveragePooling1D)                                                                              \n",
            "                                                                                                  \n",
            " concatenate_1 (Concatenate)    (None, 512)          0           ['global_max_pooling1d[0][0]',   \n",
            "                                                                  'global_average_pooling1d[0][0]'\n",
            "                                                                 ]                                \n",
            "                                                                                                  \n",
            " dense_18 (Dense)               (None, 256)          131328      ['concatenate_1[0][0]']          \n",
            "                                                                                                  \n",
            " dropout_313 (Dropout)          (None, 256)          0           ['dense_18[0][0]']               \n",
            "                                                                                                  \n",
            " dense_19 (Dense)               (None, 128)          32896       ['dropout_313[0][0]']            \n",
            "                                                                                                  \n",
            " dropout_314 (Dropout)          (None, 128)          0           ['dense_19[0][0]']               \n",
            "                                                                                                  \n",
            " dense_20 (Dense)               (None, 1)            129         ['dropout_314[0][0]']            \n",
            "                                                                                                  \n",
            "==================================================================================================\n",
            "Total params: 126,122,753\n",
            "Trainable params: 126,122,753\n",
            "Non-trainable params: 0\n",
            "__________________________________________________________________________________________________\n"
          ]
        },
        {
          "output_type": "execute_result",
          "data": {
            "image/png": "[encoded data removed]",
            "text/plain": [
              "<IPython.core.display.Image object>"
            ]
          },
          "metadata": {},
          "execution_count": 53
        }
      ]
    },
    {
      "cell_type": "code",
      "source": [
        "print('Training...')\n",
        "history = model.fit(X_train,\n",
        "                    y_train,\n",
        "                    epochs=3,\n",
        "                    batch_size=16,\n",
        "                    verbose=1,\n",
        "                    validation_data=(X_test, y_test))"
      ],
      "metadata": {
        "colab": {
          "base_uri": "https://localhost:8080/"
        },
        "id": "5IN2tGiPBzkw",
        "outputId": "b8bed978-54c8-49ff-88c4-7b01486be620"
      },
      "execution_count": 58,
      "outputs": [
        {
          "output_type": "stream",
          "name": "stdout",
          "text": [
            "Training...\n",
            "Epoch 1/3\n",
            "57/57 [==============================] - 27s 474ms/step - loss: 0.0417 - accuracy: 0.9922 - val_loss: 0.7001 - val_accuracy: 0.8000\n",
            "Epoch 2/3\n",
            "57/57 [==============================] - 26s 463ms/step - loss: 0.0320 - accuracy: 0.9967 - val_loss: 0.7596 - val_accuracy: 0.8100\n",
            "Epoch 3/3\n",
            "57/57 [==============================] - 26s 458ms/step - loss: 0.0304 - accuracy: 0.9955 - val_loss: 0.7648 - val_accuracy: 0.8400\n"
          ]
        }
      ]
    },
    {
      "cell_type": "code",
      "source": [
        "# This plot will look much better if we train models with more epochs, but anyway here is\n",
        "plt.figure(figsize=(10, 10))\n",
        "plt.title('Accuracy')\n",
        "\n",
        "xaxis = np.arange(len(history.history['accuracy']))\n",
        "plt.plot(xaxis, history.history['accuracy'], label='Train set')\n",
        "plt.plot(xaxis, history.history['val_accuracy'], label='Validation set')\n",
        "plt.legend()\n"
      ],
      "metadata": {
        "id": "LDhHKGOiCVPI",
        "colab": {
          "base_uri": "https://localhost:8080/",
          "height": 625
        },
        "outputId": "5216a9ac-4b2a-47fd-9a45-380d2222b700"
      },
      "execution_count": 59,
      "outputs": [
        {
          "output_type": "execute_result",
          "data": {
            "text/plain": [
              "<matplotlib.legend.Legend at 0x7fddc1ec7070>"
            ]
          },
          "metadata": {},
          "execution_count": 59
        },
        {
          "output_type": "display_data",
          "data": {
            "text/plain": [
              "<Figure size 720x720 with 1 Axes>"
            ],
            "image/png": "[encoded data removed]"
          },
          "metadata": {
            "needs_background": "light"
          }
        }
      ]
    },
    {
      "cell_type": "code",
      "source": [
        "scores = model.evaluate(X_test, y_test, verbose=0)\n",
        "print(\"Accuracy: %.2f%%\" % (scores[1] * 100))"
      ],
      "metadata": {
        "colab": {
          "base_uri": "https://localhost:8080/"
        },
        "id": "bX_CM482IXlI",
        "outputId": "537f3417-dfe2-4e15-fb16-adb2b022b7dd"
      },
      "execution_count": 60,
      "outputs": [
        {
          "output_type": "stream",
          "name": "stdout",
          "text": [
            "Accuracy: 84.00%\n"
          ]
        }
      ]
    },
    {
      "cell_type": "code",
      "source": [
        "y_pred = [int(np.round(i,0)) for i in model.predict(X_test)]\n"
      ],
      "metadata": {
        "colab": {
          "base_uri": "https://localhost:8080/"
        },
        "id": "iDSNyGT_OXBS",
        "outputId": "ba6aa1fb-7591-424f-ff27-d6b3a5253f9f"
      },
      "execution_count": 61,
      "outputs": [
        {
          "output_type": "stream",
          "name": "stdout",
          "text": [
            "4/4 [==============================] - 5s 193ms/step\n"
          ]
        }
      ]
    },
    {
      "cell_type": "code",
      "source": [
        "from sklearn.metrics import classification_report\n",
        "print(classification_report(y_test, y_pred))"
      ],
      "metadata": {
        "id": "KO7Nd6EZQrqa",
        "outputId": "3085833e-6b72-4110-cc24-6254e55bd010",
        "colab": {
          "base_uri": "https://localhost:8080/"
        }
      },
      "execution_count": 62,
      "outputs": [
        {
          "output_type": "stream",
          "name": "stdout",
          "text": [
            "              precision    recall  f1-score   support\n",
            "\n",
            "           0       0.87      0.84      0.86        57\n",
            "           1       0.80      0.84      0.82        43\n",
            "\n",
            "    accuracy                           0.84       100\n",
            "   macro avg       0.84      0.84      0.84       100\n",
            "weighted avg       0.84      0.84      0.84       100\n",
            "\n"
          ]
        }
      ]
    },
    {
      "cell_type": "code",
      "source": [
        "from sklearn.metrics import confusion_matrix\n",
        "con_mat_df = confusion_matrix(y_test, y_pred)\n",
        "con_mat_df = con_mat_df.astype('float') / con_mat_df.sum(axis=1)[:, np.newaxis]"
      ],
      "metadata": {
        "id": "RbqxYogiNyKC"
      },
      "execution_count": 63,
      "outputs": []
    },
    {
      "cell_type": "code",
      "source": [
        "import seaborn as sns\n",
        "figure = plt.figure(figsize=(10, 10))\n",
        "sns.heatmap(con_mat_df, cmap=plt.cm.Blues, annot=True)\n",
        "plt.ylabel('True label')\n",
        "plt.xlabel('Predicted label')\n",
        "print(con_mat_df)"
      ],
      "metadata": {
        "colab": {
          "base_uri": "https://localhost:8080/",
          "height": 642
        },
        "id": "Xtm2nyDILd8N",
        "outputId": "36af136b-4c87-4b50-c0e8-d6c859beb86b"
      },
      "execution_count": 64,
      "outputs": [
        {
          "output_type": "stream",
          "name": "stdout",
          "text": [
            "[[0.84210526 0.15789474]\n",
            " [0.1627907  0.8372093 ]]\n"
          ]
        },
        {
          "output_type": "display_data",
          "data": {
            "text/plain": [
              "<Figure size 720x720 with 2 Axes>"
            ],
            "image/png": "[encoded data removed]"
          },
          "metadata": {
            "needs_background": "light"
          }
        }
      ]
    },
    {
      "cell_type": "code",
      "source": [],
      "metadata": {
        "id": "-rATpH3MNO0e"
      },
      "execution_count": null,
      "outputs": []
    }
  ]
}