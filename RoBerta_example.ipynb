{
  "nbformat": 4,
  "nbformat_minor": 0,
  "metadata": {
    "colab": {
      "provenance": [],
      "authorship_tag": "ABX9TyOK/4GlfwpWhhZ/xiuTHTNF",
      "include_colab_link": true
    },
    "kernelspec": {
      "name": "python3",
      "display_name": "Python 3"
    },
    "language_info": {
      "name": "python"
    }
  },
  "cells": [
    {
      "cell_type": "markdown",
      "metadata": {
        "id": "view-in-github",
        "colab_type": "text"
      },
      "source": [
        "<a href=\"https://colab.research.google.com/github/DaryaTereshchenko/HateSpeechDetection/blob/main/RoBerta_example.ipynb\" target=\"_parent\"><img src=\"https://colab.research.google.com/assets/colab-badge.svg\" alt=\"Open In Colab\"/></a>"
      ]
    },
    {
      "cell_type": "code",
      "execution_count": null,
      "metadata": {
        "id": "a1AdP7YlpgMi"
      },
      "outputs": [],
      "source": [
        "!pip install sentence_transformers\n",
        "!pip install transformers"
      ]
    },
    {
      "cell_type": "code",
      "source": [
        "!pip install tensorflow_text"
      ],
      "metadata": {
        "id": "JJyLJCUQlL3t"
      },
      "execution_count": null,
      "outputs": []
    },
    {
      "cell_type": "code",
      "source": [
        "import numpy as np\n",
        "import pandas as pd"
      ],
      "metadata": {
        "id": "qFw2tJmvqQrL"
      },
      "execution_count": null,
      "outputs": []
    },
    {
      "cell_type": "code",
      "source": [
        "import matplotlib.pyplot as plt\n",
        "import seaborn as sns\n",
        "import string\n",
        "from nltk import word_tokenize\n",
        "from nltk.corpus import stopwords\n",
        "import nltk\n",
        "nltk.download('stopwords')\n",
        "nltk.download('punkt')"
      ],
      "metadata": {
        "id": "ZGpjX5WXqYfZ"
      },
      "execution_count": null,
      "outputs": []
    },
    {
      "cell_type": "code",
      "source": [
        "from transformers import RobertaTokenizer, RobertaConfig, TFRobertaPreTrainedModel\n",
        "from transformers import TFRobertaMainLayer\n",
        "import tensorflow as tf"
      ],
      "metadata": {
        "id": "1ovvuxH8erOM"
      },
      "execution_count": null,
      "outputs": []
    },
    {
      "cell_type": "code",
      "source": [
        "ethos_hate = pd.read_csv(\"ethos_hate.csv\", sep=\",\", encoding=\"unicode_escape\").drop(columns=\"label\")\n",
        "ethos_hate[\"label\"] = 1\n",
        "\n",
        "ethos_neutral = pd.read_csv(\"ethos_neutral.csv\", sep=\",\", encoding=\"unicode_escape\").drop(columns=\"label\")\n",
        "ethos_neutral[\"label\"] = 0\n",
        "\n",
        "train_n = ethos_neutral.sample(frac=0.9, random_state=0)\n",
        "test_n = ethos_neutral.drop(train_n.index)\n",
        "\n",
        "train_hate = ethos_hate.sample(frac=0.9, random_state=0)\n",
        "test_hate = ethos_hate.drop(train_hate.index)\n",
        "\n",
        "train = pd.concat([train_n, train_hate]).sample(frac=1, random_state=300).reset_index(drop=True)\n",
        "test = pd.concat([test_n, test_hate]).sample(frac=1, random_state=300).reset_index(drop=True)\n",
        "\n",
        "print(train.text[0])\n",
        "print(test.shape)"
      ],
      "metadata": {
        "colab": {
          "base_uri": "https://localhost:8080/"
        },
        "id": "QrZgSlY7qaC3",
        "outputId": "efc8e54a-4416-4949-b00d-05fce1c3a16f"
      },
      "execution_count": null,
      "outputs": [
        {
          "output_type": "stream",
          "name": "stdout",
          "text": [
            "What episode number was this?\n",
            "(100, 2)\n"
          ]
        }
      ]
    },
    {
      "cell_type": "code",
      "source": [
        "def clean_text(line):\n",
        "  stops = set(stopwords.words(\"english\"))\n",
        "  processed_line = line.lower()\n",
        "  words = [word for word in word_tokenize(processed_line)]\n",
        "  processed_line = [word for word in words if word not in stops \n",
        "                    and word not in set(string.punctuation)]\n",
        "  text = \" \".join(processed_line)\n",
        "  return text"
      ],
      "metadata": {
        "id": "3OJKw5IruC6n"
      },
      "execution_count": null,
      "outputs": []
    },
    {
      "cell_type": "code",
      "source": [
        "# Sentences for embeddings\n",
        "train_sentence_list = list(map(clean_text, train.text.values))\n",
        "test_sentence_list = list(map(clean_text, test.text.values))"
      ],
      "metadata": {
        "id": "t48Le1B0emun"
      },
      "execution_count": null,
      "outputs": []
    },
    {
      "cell_type": "code",
      "source": [
        "train_sentence_list"
      ],
      "metadata": {
        "id": "g0jSIoMQpj_W"
      },
      "execution_count": null,
      "outputs": []
    },
    {
      "cell_type": "code",
      "source": [
        "# df_train = pd.DataFrame(list(map(lambda i: np.asarray(i), train_sentence_list)))\n",
        "# df_test = pd.DataFrame(list(map(lambda i: np.asarray(i), test_sentence_list)))"
      ],
      "metadata": {
        "id": "12myt5PgfSzS"
      },
      "execution_count": null,
      "outputs": []
    },
    {
      "cell_type": "code",
      "source": [
        "MODEL_NAME = 'roberta-base'\n",
        "MAX_LEN = 128\n",
        "tokenizer = RobertaTokenizer.from_pretrained(MODEL_NAME)"
      ],
      "metadata": {
        "id": "I6H_digUgSNU"
      },
      "execution_count": null,
      "outputs": []
    },
    {
      "cell_type": "code",
      "source": [
        "def to_tokens(input_text, tokenizer):\n",
        "    output = tokenizer.encode_plus(input_text, max_length=MAX_LEN, padding=\"max_length\")\n",
        "    return output\n",
        "\n",
        "def select_field(features, field):\n",
        "    return [feature[field] for feature in features]"
      ],
      "metadata": {
        "id": "o-Rov4B_m5jK"
      },
      "execution_count": null,
      "outputs": []
    },
    {
      "cell_type": "code",
      "source": [
        "tokenizer_output_train = [to_tokens(sent, tokenizer)  for sent in train_sentence_list]\n",
        "tokenizer_output_test = [to_tokens(sent, tokenizer)  for sent in test_sentence_list]"
      ],
      "metadata": {
        "id": "VsJWYWhOiX2N"
      },
      "execution_count": 99,
      "outputs": []
    },
    {
      "cell_type": "markdown",
      "source": [
        "We create and store the input ids as well as attention masks as an numpy array. The input ids are the numbers which are understood by the Neural Network."
      ],
      "metadata": {
        "id": "wtL0hzh8u6IS"
      }
    },
    {
      "cell_type": "code",
      "source": [
        "input_ids_train = np.array(select_field(tokenizer_output_train, 'input_ids'), dtype=object)\n",
        "attention_masks_train = np.array(select_field(tokenizer_output_train, 'attention_mask'), dtype=object)"
      ],
      "metadata": {
        "id": "Cmo9GATIkx9N"
      },
      "execution_count": 104,
      "outputs": []
    },
    {
      "cell_type": "code",
      "source": [
        "input_ids_test = np.array(select_field(tokenizer_output_test, 'input_ids'), dtype=object)\n",
        "attention_masks_test = np.array(select_field(tokenizer_output_test, 'attention_mask'), dtype=object)"
      ],
      "metadata": {
        "id": "T56yy_n-k2sg"
      },
      "execution_count": 108,
      "outputs": []
    },
    {
      "cell_type": "code",
      "source": [],
      "metadata": {
        "id": "xuxv-fYzvM7B"
      },
      "execution_count": null,
      "outputs": []
    }
  ]
}