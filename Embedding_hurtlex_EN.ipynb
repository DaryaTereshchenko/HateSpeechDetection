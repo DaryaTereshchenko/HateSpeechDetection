{
  "nbformat": 4,
  "nbformat_minor": 0,
  "metadata": {
    "colab": {
      "provenance": [],
      "authorship_tag": "ABX9TyOozrp3vTh9t7M8/UWA8AGD",
      "include_colab_link": true
    },
    "kernelspec": {
      "name": "python3",
      "display_name": "Python 3"
    },
    "language_info": {
      "name": "python"
    }
  },
  "cells": [
    {
      "cell_type": "markdown",
      "metadata": {
        "id": "view-in-github",
        "colab_type": "text"
      },
      "source": [
        "<a href=\"https://colab.research.google.com/github/DaryaTereshchenko/HateSpeechDetection/blob/main/Embedding_hurtlex_EN.ipynb\" target=\"_parent\"><img src=\"https://colab.research.google.com/assets/colab-badge.svg\" alt=\"Open In Colab\"/></a>"
      ]
    },
    {
      "cell_type": "code",
      "execution_count": 1,
      "metadata": {
        "id": "goohHusnM86x",
        "colab": {
          "base_uri": "https://localhost:8080/"
        },
        "outputId": "aa0d7179-ddc5-4a43-ecae-bfa684a5ad4b"
      },
      "outputs": [
        {
          "output_type": "stream",
          "name": "stdout",
          "text": [
            "Installing collected packages: tokenizers, sentencepiece, huggingface-hub, transformers, sentence_transformers\n",
            "Successfully installed huggingface-hub-0.11.1 sentence_transformers-2.2.2 sentencepiece-0.1.97 tokenizers-0.13.2 transformers-4.25.1\n",
            "Looking in indexes: https://pypi.org/simple, https://us-python.pkg.dev/colab-wheels/public/simple/\n",
            "Requirement already satisfied: transformers in /usr/local/lib/python3.8/dist-packages (4.25.1)\n",
            "Requirement already satisfied: regex!=2019.12.17 in /usr/local/lib/python3.8/dist-packages (from transformers) (2022.6.2)\n",
            "Requirement already satisfied: huggingface-hub<1.0,>=0.10.0 in /usr/local/lib/python3.8/dist-packages (from transformers) (0.11.1)\n",
            "Requirement already satisfied: numpy>=1.17 in /usr/local/lib/python3.8/dist-packages (from transformers) (1.21.6)\n",
            "Requirement already satisfied: filelock in /usr/local/lib/python3.8/dist-packages (from transformers) (3.9.0)\n",
            "Requirement already satisfied: packaging>=20.0 in /usr/local/lib/python3.8/dist-packages (from transformers) (21.3)\n",
            "Requirement already satisfied: tqdm>=4.27 in /usr/local/lib/python3.8/dist-packages (from transformers) (4.64.1)\n",
            "Requirement already satisfied: tokenizers!=0.11.3,<0.14,>=0.11.1 in /usr/local/lib/python3.8/dist-packages (from transformers) (0.13.2)\n",
            "Requirement already satisfied: requests in /usr/local/lib/python3.8/dist-packages (from transformers) (2.25.1)\n",
            "Requirement already satisfied: pyyaml>=5.1 in /usr/local/lib/python3.8/dist-packages (from transformers) (6.0)\n",
            "Requirement already satisfied: typing-extensions>=3.7.4.3 in /usr/local/lib/python3.8/dist-packages (from huggingface-hub<1.0,>=0.10.0->transformers) (4.4.0)\n",
            "Requirement already satisfied: pyparsing!=3.0.5,>=2.0.2 in /usr/local/lib/python3.8/dist-packages (from packaging>=20.0->transformers) (3.0.9)\n",
            "Requirement already satisfied: certifi>=2017.4.17 in /usr/local/lib/python3.8/dist-packages (from requests->transformers) (2022.12.7)\n",
            "Requirement already satisfied: idna<3,>=2.5 in /usr/local/lib/python3.8/dist-packages (from requests->transformers) (2.10)\n",
            "Requirement already satisfied: urllib3<1.27,>=1.21.1 in /usr/local/lib/python3.8/dist-packages (from requests->transformers) (1.24.3)\n",
            "Requirement already satisfied: chardet<5,>=3.0.2 in /usr/local/lib/python3.8/dist-packages (from requests->transformers) (4.0.0)\n"
          ]
        }
      ],
      "source": [
        "!pip install sentence_transformers\n",
        "!pip install transformers\n"
      ]
    },
    {
      "cell_type": "code",
      "source": [
        "import numpy as np\n",
        "import pandas as pd"
      ],
      "metadata": {
        "id": "6e2lQDnCNBa_"
      },
      "execution_count": 2,
      "outputs": []
    },
    {
      "cell_type": "code",
      "source": [
        "import matplotlib.pyplot as plt\n",
        "import seaborn as sns\n",
        "import string\n",
        "from nltk import word_tokenize\n",
        "from nltk.corpus import stopwords\n",
        "import nltk\n",
        "nltk.download('stopwords')\n",
        "nltk.download('punkt')"
      ],
      "metadata": {
        "id": "nItYCYs7NCx-",
        "colab": {
          "base_uri": "https://localhost:8080/"
        },
        "outputId": "93a4a2e9-c7d6-4de3-c49f-71a9beb878e1"
      },
      "execution_count": 3,
      "outputs": [
        {
          "output_type": "stream",
          "name": "stderr",
          "text": [
            "[nltk_data] Downloading package stopwords to /root/nltk_data...\n",
            "[nltk_data]   Unzipping corpora/stopwords.zip.\n",
            "[nltk_data] Downloading package punkt to /root/nltk_data...\n",
            "[nltk_data]   Unzipping tokenizers/punkt.zip.\n"
          ]
        },
        {
          "output_type": "execute_result",
          "data": {
            "text/plain": [
              "True"
            ]
          },
          "metadata": {},
          "execution_count": 3
        }
      ]
    },
    {
      "cell_type": "code",
      "source": [
        "import tensorflow as tf\n",
        "from tensorflow.keras.models import Model\n",
        "from tensorflow.keras.layers import Embedding, TextVectorization, Input"
      ],
      "metadata": {
        "id": "ZbG0AbT5fJvg"
      },
      "execution_count": 37,
      "outputs": []
    },
    {
      "cell_type": "code",
      "source": [
        "ethos_hate = pd.read_csv(\"ethos_hate.csv\", sep=\",\", encoding=\"unicode_escape\").drop(columns=\"label\")\n",
        "ethos_hate[\"label\"] = 1\n",
        "\n",
        "ethos_neutral = pd.read_csv(\"ethos_neutral.csv\", sep=\",\", encoding=\"unicode_escape\").drop(columns=\"label\")\n",
        "ethos_neutral[\"label\"] = 0\n",
        "\n",
        "train_n = ethos_neutral.sample(frac=0.9, random_state=0)\n",
        "test_n = ethos_neutral.drop(train_n.index)\n",
        "\n",
        "train_hate = ethos_hate.sample(frac=0.9, random_state=0)\n",
        "test_hate = ethos_hate.drop(train_hate.index)\n",
        "\n",
        "\n",
        "train = pd.concat([train_n, train_hate]).sample(frac=1, random_state=300).reset_index(drop=True)\n",
        "test = pd.concat([test_n, test_hate]).sample(frac=1, random_state=300).reset_index(drop=True)\n",
        "\n",
        "print(train.text[0])\n"
      ],
      "metadata": {
        "id": "gNTOCR8JNETK",
        "colab": {
          "base_uri": "https://localhost:8080/"
        },
        "outputId": "9a3d2df8-8439-47ea-fdb6-c08061860cce"
      },
      "execution_count": 4,
      "outputs": [
        {
          "output_type": "stream",
          "name": "stdout",
          "text": [
            "What episode number was this?\n"
          ]
        }
      ]
    },
    {
      "cell_type": "code",
      "source": [
        "hate_speech = pd.read_csv('ethos_sm_hate.csv', sep=\";\", decimal=\",\", skiprows=[1,2,3,4], low_memory=False, on_bad_lines='skip').sort_values(by=[\"CODE\"])\n",
        "neutral_speech = pd.read_csv('ethos_sm_neutral.csv', sep=\";\", decimal=\",\", skiprows=[1,2,3,4], low_memory=False, on_bad_lines='skip').sort_values(by=[\"CODE\"])\n",
        "\n",
        "hate_speech = hate_speech.drop(columns=\"CODE\")\n",
        "neutral_speech = neutral_speech.drop(columns=\"CODE\")"
      ],
      "metadata": {
        "id": "8LQAvwaSNIPH"
      },
      "execution_count": 5,
      "outputs": []
    },
    {
      "cell_type": "code",
      "source": [
        "train_sm_n = neutral_speech.sample(frac=0.9, random_state=0)\n",
        "test_sm_n = neutral_speech.drop(train_sm_n.index)\n",
        "\n",
        "train_sm_hate = hate_speech.sample(frac=0.9, random_state=0)\n",
        "test_sm_hate = hate_speech.drop(train_sm_hate.index)\n",
        "\n",
        "TrainSM = pd.concat([train_sm_n, train_sm_hate]).sample(frac=1, random_state=300).reset_index(drop=True)\n",
        "TestSM = pd.concat([test_sm_n, test_sm_hate]).sample(frac=1, random_state=300).reset_index(drop=True)"
      ],
      "metadata": {
        "id": "PhzDpGHHNJ43"
      },
      "execution_count": 6,
      "outputs": []
    },
    {
      "cell_type": "code",
      "source": [
        "def clean_text(line):\n",
        "  processed_line = line.lower()\n",
        "  words = [word for word in word_tokenize(processed_line)]\n",
        "  processed_line = [word for word in words if word not in set(string.punctuation)]\n",
        "  text = \" \".join(processed_line)\n",
        "  return text"
      ],
      "metadata": {
        "id": "IAkCS2E7NL_X"
      },
      "execution_count": 7,
      "outputs": []
    },
    {
      "cell_type": "code",
      "source": [
        "# Sentences for embeddings\n",
        "train_sentence_list = np.asarray(list((map(clean_text, train.text.values))))\n",
        "test_sentence_list = np.asarray(list(map(clean_text, test.text.values)))"
      ],
      "metadata": {
        "id": "V_JvHdoHN5tf"
      },
      "execution_count": 49,
      "outputs": []
    },
    {
      "cell_type": "code",
      "source": [
        "\n",
        "y_train = np.asarray(train.label, dtype='int32').reshape(-1,1)\n",
        "y_test = np.asarray(test.label, dtype='int32').reshape(-1,1)"
      ],
      "metadata": {
        "id": "IiFN9OrahKG8"
      },
      "execution_count": 38,
      "outputs": []
    },
    {
      "cell_type": "code",
      "source": [
        "df = pd.read_csv('hurtlex_EN.tsv', sep='\\t')"
      ],
      "metadata": {
        "id": "Jkvpd98cOkAY"
      },
      "execution_count": 20,
      "outputs": []
    },
    {
      "cell_type": "code",
      "source": [
        "inclusive = df.loc[df[\"level\"] == \"inclusive\", \"lemma\"]"
      ],
      "metadata": {
        "id": "90MpTiiqY23T"
      },
      "execution_count": 22,
      "outputs": []
    },
    {
      "cell_type": "code",
      "source": [
        "df"
      ],
      "metadata": {
        "colab": {
          "base_uri": "https://localhost:8080/",
          "height": 423
        },
        "id": "1yaIwra_Y45w",
        "outputId": "221a24a3-1f3b-4a50-8c6b-c86065e1fd27"
      },
      "execution_count": 23,
      "outputs": [
        {
          "output_type": "execute_result",
          "data": {
            "text/plain": [
              "          id pos category stereotype           lemma         level\n",
              "0     EN1382   n      qas         no        gag reel     inclusive\n",
              "1     EN7077   a      cds         no          snotty  conservative\n",
              "2     EN6856   n       is        yes       mendicant  conservative\n",
              "3     EN5485   n       re         no         maffias  conservative\n",
              "4     EN5024   n      cds         no  lying in trade  conservative\n",
              "...      ...  ..      ...        ...             ...           ...\n",
              "8223  EN7899   n       an         no      perosuchus     inclusive\n",
              "8224  EN1319   n      cds         no    mother fucka  conservative\n",
              "8225  EN2597   n      cds         no          refuse  conservative\n",
              "8226   EN521   n      asm         no          simple     inclusive\n",
              "8227   EN195   a       an         no        stubborn     inclusive\n",
              "\n",
              "[8228 rows x 6 columns]"
            ],
            "text/html": [
              "\n",
              "  <div id=\"df-a2188dee-aa51-43bb-96bc-055ee4896cd9\">\n",
              "    <div class=\"colab-df-container\">\n",
              "      <div>\n",
              "<style scoped>\n",
              "    .dataframe tbody tr th:only-of-type {\n",
              "        vertical-align: middle;\n",
              "    }\n",
              "\n",
              "    .dataframe tbody tr th {\n",
              "        vertical-align: top;\n",
              "    }\n",
              "\n",
              "    .dataframe thead th {\n",
              "        text-align: right;\n",
              "    }\n",
              "</style>\n",
              "<table border=\"1\" class=\"dataframe\">\n",
              "  <thead>\n",
              "    <tr style=\"text-align: right;\">\n",
              "      <th></th>\n",
              "      <th>id</th>\n",
              "      <th>pos</th>\n",
              "      <th>category</th>\n",
              "      <th>stereotype</th>\n",
              "      <th>lemma</th>\n",
              "      <th>level</th>\n",
              "    </tr>\n",
              "  </thead>\n",
              "  <tbody>\n",
              "    <tr>\n",
              "      <th>0</th>\n",
              "      <td>EN1382</td>\n",
              "      <td>n</td>\n",
              "      <td>qas</td>\n",
              "      <td>no</td>\n",
              "      <td>gag reel</td>\n",
              "      <td>inclusive</td>\n",
              "    </tr>\n",
              "    <tr>\n",
              "      <th>1</th>\n",
              "      <td>EN7077</td>\n",
              "      <td>a</td>\n",
              "      <td>cds</td>\n",
              "      <td>no</td>\n",
              "      <td>snotty</td>\n",
              "      <td>conservative</td>\n",
              "    </tr>\n",
              "    <tr>\n",
              "      <th>2</th>\n",
              "      <td>EN6856</td>\n",
              "      <td>n</td>\n",
              "      <td>is</td>\n",
              "      <td>yes</td>\n",
              "      <td>mendicant</td>\n",
              "      <td>conservative</td>\n",
              "    </tr>\n",
              "    <tr>\n",
              "      <th>3</th>\n",
              "      <td>EN5485</td>\n",
              "      <td>n</td>\n",
              "      <td>re</td>\n",
              "      <td>no</td>\n",
              "      <td>maffias</td>\n",
              "      <td>conservative</td>\n",
              "    </tr>\n",
              "    <tr>\n",
              "      <th>4</th>\n",
              "      <td>EN5024</td>\n",
              "      <td>n</td>\n",
              "      <td>cds</td>\n",
              "      <td>no</td>\n",
              "      <td>lying in trade</td>\n",
              "      <td>conservative</td>\n",
              "    </tr>\n",
              "    <tr>\n",
              "      <th>...</th>\n",
              "      <td>...</td>\n",
              "      <td>...</td>\n",
              "      <td>...</td>\n",
              "      <td>...</td>\n",
              "      <td>...</td>\n",
              "      <td>...</td>\n",
              "    </tr>\n",
              "    <tr>\n",
              "      <th>8223</th>\n",
              "      <td>EN7899</td>\n",
              "      <td>n</td>\n",
              "      <td>an</td>\n",
              "      <td>no</td>\n",
              "      <td>perosuchus</td>\n",
              "      <td>inclusive</td>\n",
              "    </tr>\n",
              "    <tr>\n",
              "      <th>8224</th>\n",
              "      <td>EN1319</td>\n",
              "      <td>n</td>\n",
              "      <td>cds</td>\n",
              "      <td>no</td>\n",
              "      <td>mother fucka</td>\n",
              "      <td>conservative</td>\n",
              "    </tr>\n",
              "    <tr>\n",
              "      <th>8225</th>\n",
              "      <td>EN2597</td>\n",
              "      <td>n</td>\n",
              "      <td>cds</td>\n",
              "      <td>no</td>\n",
              "      <td>refuse</td>\n",
              "      <td>conservative</td>\n",
              "    </tr>\n",
              "    <tr>\n",
              "      <th>8226</th>\n",
              "      <td>EN521</td>\n",
              "      <td>n</td>\n",
              "      <td>asm</td>\n",
              "      <td>no</td>\n",
              "      <td>simple</td>\n",
              "      <td>inclusive</td>\n",
              "    </tr>\n",
              "    <tr>\n",
              "      <th>8227</th>\n",
              "      <td>EN195</td>\n",
              "      <td>a</td>\n",
              "      <td>an</td>\n",
              "      <td>no</td>\n",
              "      <td>stubborn</td>\n",
              "      <td>inclusive</td>\n",
              "    </tr>\n",
              "  </tbody>\n",
              "</table>\n",
              "<p>8228 rows × 6 columns</p>\n",
              "</div>\n",
              "      <button class=\"colab-df-convert\" onclick=\"convertToInteractive('df-a2188dee-aa51-43bb-96bc-055ee4896cd9')\"\n",
              "              title=\"Convert this dataframe to an interactive table.\"\n",
              "              style=\"display:none;\">\n",
              "        \n",
              "  <svg xmlns=\"http://www.w3.org/2000/svg\" height=\"24px\"viewBox=\"0 0 24 24\"\n",
              "       width=\"24px\">\n",
              "    <path d=\"M0 0h24v24H0V0z\" fill=\"none\"/>\n",
              "    <path d=\"M18.56 5.44l.94 2.06.94-2.06 2.06-.94-2.06-.94-.94-2.06-.94 2.06-2.06.94zm-11 1L8.5 8.5l.94-2.06 2.06-.94-2.06-.94L8.5 2.5l-.94 2.06-2.06.94zm10 10l.94 2.06.94-2.06 2.06-.94-2.06-.94-.94-2.06-.94 2.06-2.06.94z\"/><path d=\"M17.41 7.96l-1.37-1.37c-.4-.4-.92-.59-1.43-.59-.52 0-1.04.2-1.43.59L10.3 9.45l-7.72 7.72c-.78.78-.78 2.05 0 2.83L4 21.41c.39.39.9.59 1.41.59.51 0 1.02-.2 1.41-.59l7.78-7.78 2.81-2.81c.8-.78.8-2.07 0-2.86zM5.41 20L4 18.59l7.72-7.72 1.47 1.35L5.41 20z\"/>\n",
              "  </svg>\n",
              "      </button>\n",
              "      \n",
              "  <style>\n",
              "    .colab-df-container {\n",
              "      display:flex;\n",
              "      flex-wrap:wrap;\n",
              "      gap: 12px;\n",
              "    }\n",
              "\n",
              "    .colab-df-convert {\n",
              "      background-color: #E8F0FE;\n",
              "      border: none;\n",
              "      border-radius: 50%;\n",
              "      cursor: pointer;\n",
              "      display: none;\n",
              "      fill: #1967D2;\n",
              "      height: 32px;\n",
              "      padding: 0 0 0 0;\n",
              "      width: 32px;\n",
              "    }\n",
              "\n",
              "    .colab-df-convert:hover {\n",
              "      background-color: #E2EBFA;\n",
              "      box-shadow: 0px 1px 2px rgba(60, 64, 67, 0.3), 0px 1px 3px 1px rgba(60, 64, 67, 0.15);\n",
              "      fill: #174EA6;\n",
              "    }\n",
              "\n",
              "    [theme=dark] .colab-df-convert {\n",
              "      background-color: #3B4455;\n",
              "      fill: #D2E3FC;\n",
              "    }\n",
              "\n",
              "    [theme=dark] .colab-df-convert:hover {\n",
              "      background-color: #434B5C;\n",
              "      box-shadow: 0px 1px 3px 1px rgba(0, 0, 0, 0.15);\n",
              "      filter: drop-shadow(0px 1px 2px rgba(0, 0, 0, 0.3));\n",
              "      fill: #FFFFFF;\n",
              "    }\n",
              "  </style>\n",
              "\n",
              "      <script>\n",
              "        const buttonEl =\n",
              "          document.querySelector('#df-a2188dee-aa51-43bb-96bc-055ee4896cd9 button.colab-df-convert');\n",
              "        buttonEl.style.display =\n",
              "          google.colab.kernel.accessAllowed ? 'block' : 'none';\n",
              "\n",
              "        async function convertToInteractive(key) {\n",
              "          const element = document.querySelector('#df-a2188dee-aa51-43bb-96bc-055ee4896cd9');\n",
              "          const dataTable =\n",
              "            await google.colab.kernel.invokeFunction('convertToInteractive',\n",
              "                                                     [key], {});\n",
              "          if (!dataTable) return;\n",
              "\n",
              "          const docLinkHtml = 'Like what you see? Visit the ' +\n",
              "            '<a target=\"_blank\" href=https://colab.research.google.com/notebooks/data_table.ipynb>data table notebook</a>'\n",
              "            + ' to learn more about interactive tables.';\n",
              "          element.innerHTML = '';\n",
              "          dataTable['output_type'] = 'display_data';\n",
              "          await google.colab.output.renderOutput(dataTable, element);\n",
              "          const docLink = document.createElement('div');\n",
              "          docLink.innerHTML = docLinkHtml;\n",
              "          element.appendChild(docLink);\n",
              "        }\n",
              "      </script>\n",
              "    </div>\n",
              "  </div>\n",
              "  "
            ]
          },
          "metadata": {},
          "execution_count": 23
        }
      ]
    },
    {
      "cell_type": "code",
      "source": [
        "vocab = df[\"lemma\"].unique()"
      ],
      "metadata": {
        "id": "_hqY-eu-c4t0"
      },
      "execution_count": 34,
      "outputs": []
    },
    {
      "cell_type": "code",
      "source": [
        "vocab"
      ],
      "metadata": {
        "colab": {
          "base_uri": "https://localhost:8080/"
        },
        "id": "T4UKd_8YgVNr",
        "outputId": "b27a2354-e09c-4105-9f80-dedbe5ba6299"
      },
      "execution_count": 35,
      "outputs": [
        {
          "output_type": "execute_result",
          "data": {
            "text/plain": [
              "array(['gag reel', 'snotty', 'mendicant', ..., 'egoistic', 'perosuchus',\n",
              "       'stubborn'], dtype=object)"
            ]
          },
          "metadata": {},
          "execution_count": 35
        }
      ]
    },
    {
      "cell_type": "code",
      "source": [
        "MAX_LEN = 128\n",
        "max_features = 10000  # maximum word number\n",
        "embedding_dims = 2"
      ],
      "metadata": {
        "id": "oltAtNbtdQ9_"
      },
      "execution_count": 72,
      "outputs": []
    },
    {
      "cell_type": "code",
      "source": [
        "input = Input(shape=(), dtype=tf.string)\n",
        "vectorize_layer = TextVectorization(max_tokens=max_features, output_mode='int', output_sequence_length=MAX_LEN, vocabulary=vocab)(input)\n",
        "emb =  Embedding(input_dim=max_features, output_dim=20, input_length=MAX_LEN)(vectorize_layer)\n",
        "model = Model(inputs=input, outputs=emb)\n",
        "model.predict(test_sentence_list)"
      ],
      "metadata": {
        "id": "VEBmdr-_n6pB"
      },
      "execution_count": null,
      "outputs": []
    },
    {
      "cell_type": "code",
      "source": [
        "def build_model():\n",
        "  input = Input(shape=(), dtype=tf.string)\n",
        "  np_sm = Input(shape=(157,), dtype=tf.float32, name='np_sm')\n",
        "\n",
        "  vectorize_layer = TextVectorization(max_tokens=max_features, output_mode='int', output_sequence_length=MAX_LEN, vocabulary=vocab)(input)\n",
        "  x = Embedding(input_dim=max_features, output_dim=20, input_length=MAX_LEN)(vectorize_layer)\n",
        "  # x = tf.keras.layers.Conv1D(128, 10, activation='relu')(x)\n",
        "  x = tf.keras.layers.Dropout(rate=0.5)(x)\n",
        "  x = tf.keras.layers.Flatten()(x)\n",
        "  x = tf.keras.layers.concatenate([x, np_sm])\n",
        "  x = tf.keras.layers.Dense(64, activation='relu')(x)\n",
        "  x = tf.keras.layers.Dense(1, activation='sigmoid')(x)\n",
        "\n",
        "  model = Model(inputs=[input, np_sm], outputs=x)\n",
        "\n",
        "  model.compile(\n",
        "      optimizer=tf.keras.optimizers.Adam(learning_rate=1e-5),\n",
        "      loss= tf.keras.losses.binary_crossentropy,\n",
        "      metrics=['accuracy'])\n",
        "  \n",
        "  return model\n"
      ],
      "metadata": {
        "id": "50GDftT9f-gc"
      },
      "execution_count": 103,
      "outputs": []
    },
    {
      "cell_type": "code",
      "source": [
        "model = build_model()\n",
        "model.summary()\n",
        "tf.keras.utils.plot_model(model)"
      ],
      "metadata": {
        "colab": {
          "base_uri": "https://localhost:8080/",
          "height": 1000
        },
        "id": "17MYcG4Ckmc9",
        "outputId": "4bc408d1-bd90-4faf-bd5c-96f5aab7c8d3"
      },
      "execution_count": 104,
      "outputs": [
        {
          "output_type": "stream",
          "name": "stdout",
          "text": [
            "Model: \"model_13\"\n",
            "__________________________________________________________________________________________________\n",
            " Layer (type)                   Output Shape         Param #     Connected to                     \n",
            "==================================================================================================\n",
            " input_24 (InputLayer)          [(None,)]            0           []                               \n",
            "                                                                                                  \n",
            " text_vectorization_24 (TextVec  (None, 128)         0           ['input_24[0][0]']               \n",
            " torization)                                                                                      \n",
            "                                                                                                  \n",
            " embedding_18 (Embedding)       (None, 128, 20)      200000      ['text_vectorization_24[0][0]']  \n",
            "                                                                                                  \n",
            " dropout_18 (Dropout)           (None, 128, 20)      0           ['embedding_18[0][0]']           \n",
            "                                                                                                  \n",
            " flatten_15 (Flatten)           (None, 2560)         0           ['dropout_18[0][0]']             \n",
            "                                                                                                  \n",
            " np_sm (InputLayer)             [(None, 157)]        0           []                               \n",
            "                                                                                                  \n",
            " concatenate (Concatenate)      (None, 2717)         0           ['flatten_15[0][0]',             \n",
            "                                                                  'np_sm[0][0]']                  \n",
            "                                                                                                  \n",
            " dense_22 (Dense)               (None, 64)           173952      ['concatenate[0][0]']            \n",
            "                                                                                                  \n",
            " dense_23 (Dense)               (None, 1)            65          ['dense_22[0][0]']               \n",
            "                                                                                                  \n",
            "==================================================================================================\n",
            "Total params: 374,017\n",
            "Trainable params: 374,017\n",
            "Non-trainable params: 0\n",
            "__________________________________________________________________________________________________\n"
          ]
        },
        {
          "output_type": "execute_result",
          "data": {
            "image/png": "[encoded data removed]",
            "text/plain": [
              "<IPython.core.display.Image object>"
            ]
          },
          "metadata": {},
          "execution_count": 104
        }
      ]
    },
    {
      "cell_type": "code",
      "source": [
        "\n",
        "print('Training...')\n",
        "history = model.fit([train_sentence_list, np.asarray(TrainSM.values, dtype=\"float32\")],\n",
        "                    y_train,\n",
        "                    epochs=5,\n",
        "                    batch_size=16,\n",
        "                    verbose=1,\n",
        "                    validation_data=([test_sentence_list, np.asarray(TestSM.values, dtype=\"float32\")], y_test))\n",
        "     "
      ],
      "metadata": {
        "colab": {
          "base_uri": "https://localhost:8080/"
        },
        "id": "9hfBnAiOksaX",
        "outputId": "6b1f8c06-6330-449f-98e9-ccf9e39bb379"
      },
      "execution_count": 105,
      "outputs": [
        {
          "output_type": "stream",
          "name": "stdout",
          "text": [
            "Training...\n",
            "Epoch 1/5\n",
            "57/57 [==============================] - 1s 13ms/step - loss: 0.6907 - accuracy: 0.5501 - val_loss: 0.6919 - val_accuracy: 0.5500\n",
            "Epoch 2/5\n",
            "57/57 [==============================] - 0s 8ms/step - loss: 0.6872 - accuracy: 0.5646 - val_loss: 0.6907 - val_accuracy: 0.5700\n",
            "Epoch 3/5\n",
            "57/57 [==============================] - 1s 9ms/step - loss: 0.6879 - accuracy: 0.5635 - val_loss: 0.6901 - val_accuracy: 0.5700\n",
            "Epoch 4/5\n",
            "57/57 [==============================] - 1s 10ms/step - loss: 0.6854 - accuracy: 0.5646 - val_loss: 0.6894 - val_accuracy: 0.5700\n",
            "Epoch 5/5\n",
            "57/57 [==============================] - 1s 11ms/step - loss: 0.6860 - accuracy: 0.5657 - val_loss: 0.6889 - val_accuracy: 0.5700\n"
          ]
        }
      ]
    },
    {
      "cell_type": "code",
      "source": [
        "y_pred = [int(np.round(i,0)) for i in model.predict([test_sentence_list, np.asarray(TestSM.values, dtype=\"float32\")])]"
      ],
      "metadata": {
        "colab": {
          "base_uri": "https://localhost:8080/"
        },
        "id": "oABiyq5gs9wy",
        "outputId": "c5796fe4-36e6-4e02-b8a6-a074591eac4b"
      },
      "execution_count": 107,
      "outputs": [
        {
          "output_type": "stream",
          "name": "stdout",
          "text": [
            "4/4 [==============================] - 0s 4ms/step\n"
          ]
        }
      ]
    },
    {
      "cell_type": "code",
      "source": [
        "from sklearn.metrics import classification_report\n",
        "print(classification_report(y_test, y_pred))"
      ],
      "metadata": {
        "colab": {
          "base_uri": "https://localhost:8080/"
        },
        "id": "4TNH-tzkk_WY",
        "outputId": "0ad0cd4b-0a82-42a6-9bb5-fdc036f0baa8"
      },
      "execution_count": 108,
      "outputs": [
        {
          "output_type": "stream",
          "name": "stdout",
          "text": [
            "              precision    recall  f1-score   support\n",
            "\n",
            "           0       0.57      1.00      0.73        57\n",
            "           1       0.00      0.00      0.00        43\n",
            "\n",
            "    accuracy                           0.57       100\n",
            "   macro avg       0.28      0.50      0.36       100\n",
            "weighted avg       0.32      0.57      0.41       100\n",
            "\n"
          ]
        },
        {
          "output_type": "stream",
          "name": "stderr",
          "text": [
            "/usr/local/lib/python3.8/dist-packages/sklearn/metrics/_classification.py:1318: UndefinedMetricWarning: Precision and F-score are ill-defined and being set to 0.0 in labels with no predicted samples. Use `zero_division` parameter to control this behavior.\n",
            "  _warn_prf(average, modifier, msg_start, len(result))\n",
            "/usr/local/lib/python3.8/dist-packages/sklearn/metrics/_classification.py:1318: UndefinedMetricWarning: Precision and F-score are ill-defined and being set to 0.0 in labels with no predicted samples. Use `zero_division` parameter to control this behavior.\n",
            "  _warn_prf(average, modifier, msg_start, len(result))\n",
            "/usr/local/lib/python3.8/dist-packages/sklearn/metrics/_classification.py:1318: UndefinedMetricWarning: Precision and F-score are ill-defined and being set to 0.0 in labels with no predicted samples. Use `zero_division` parameter to control this behavior.\n",
            "  _warn_prf(average, modifier, msg_start, len(result))\n"
          ]
        }
      ]
    },
    {
      "cell_type": "code",
      "source": [],
      "metadata": {
        "id": "GMF5IesxuzpZ"
      },
      "execution_count": null,
      "outputs": []
    }
  ]
}