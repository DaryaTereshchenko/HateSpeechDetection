{
  "nbformat": 4,
  "nbformat_minor": 0,
  "metadata": {
    "colab": {
      "provenance": [],
      "machine_shape": "hm",
      "include_colab_link": true
    },
    "kernelspec": {
      "name": "python3",
      "display_name": "Python 3"
    },
    "language_info": {
      "name": "python"
    },
    "accelerator": "GPU",
    "gpuClass": "premium",
    "widgets": {
      "application/vnd.jupyter.widget-state+json": {
        "aa510ab1d7e04828bbda513ee43bca73": {
          "model_module": "@jupyter-widgets/controls",
          "model_name": "HBoxModel",
          "model_module_version": "1.5.0",
          "state": {
            "_dom_classes": [],
            "_model_module": "@jupyter-widgets/controls",
            "_model_module_version": "1.5.0",
            "_model_name": "HBoxModel",
            "_view_count": null,
            "_view_module": "@jupyter-widgets/controls",
            "_view_module_version": "1.5.0",
            "_view_name": "HBoxView",
            "box_style": "",
            "children": [
              "IPY_MODEL_6f485223c16c4d788249c69e3e5d3064",
              "IPY_MODEL_cf5f51e6dcd64f93a01545857c59446e",
              "IPY_MODEL_ccfa1143902f40d1bb720394853e9ac6"
            ],
            "layout": "IPY_MODEL_dffc24dcf2ac441e81b9426c8f2dd253"
          }
        },
        "6f485223c16c4d788249c69e3e5d3064": {
          "model_module": "@jupyter-widgets/controls",
          "model_name": "HTMLModel",
          "model_module_version": "1.5.0",
          "state": {
            "_dom_classes": [],
            "_model_module": "@jupyter-widgets/controls",
            "_model_module_version": "1.5.0",
            "_model_name": "HTMLModel",
            "_view_count": null,
            "_view_module": "@jupyter-widgets/controls",
            "_view_module_version": "1.5.0",
            "_view_name": "HTMLView",
            "description": "",
            "description_tooltip": null,
            "layout": "IPY_MODEL_84475bb00fce458ba627267f3d43a2ab",
            "placeholder": "​",
            "style": "IPY_MODEL_a6fedb7fc37c4ec89c64dfe9465ba87f",
            "value": "Downloading: 100%"
          }
        },
        "cf5f51e6dcd64f93a01545857c59446e": {
          "model_module": "@jupyter-widgets/controls",
          "model_name": "FloatProgressModel",
          "model_module_version": "1.5.0",
          "state": {
            "_dom_classes": [],
            "_model_module": "@jupyter-widgets/controls",
            "_model_module_version": "1.5.0",
            "_model_name": "FloatProgressModel",
            "_view_count": null,
            "_view_module": "@jupyter-widgets/controls",
            "_view_module_version": "1.5.0",
            "_view_name": "ProgressView",
            "bar_style": "success",
            "description": "",
            "description_tooltip": null,
            "layout": "IPY_MODEL_22641d77ea7e448b84484acd4172c807",
            "max": 151,
            "min": 0,
            "orientation": "horizontal",
            "style": "IPY_MODEL_fee307dd07be4e78980692c0281d7454",
            "value": 151
          }
        },
        "ccfa1143902f40d1bb720394853e9ac6": {
          "model_module": "@jupyter-widgets/controls",
          "model_name": "HTMLModel",
          "model_module_version": "1.5.0",
          "state": {
            "_dom_classes": [],
            "_model_module": "@jupyter-widgets/controls",
            "_model_module_version": "1.5.0",
            "_model_name": "HTMLModel",
            "_view_count": null,
            "_view_module": "@jupyter-widgets/controls",
            "_view_module_version": "1.5.0",
            "_view_name": "HTMLView",
            "description": "",
            "description_tooltip": null,
            "layout": "IPY_MODEL_7c6b70ebfe8c41d8860303218d2e4ac9",
            "placeholder": "​",
            "style": "IPY_MODEL_07a4bd075a0a4060913f8027f52dfb3b",
            "value": " 151/151 [00:00&lt;00:00, 11.0kB/s]"
          }
        },
        "dffc24dcf2ac441e81b9426c8f2dd253": {
          "model_module": "@jupyter-widgets/base",
          "model_name": "LayoutModel",
          "model_module_version": "1.2.0",
          "state": {
            "_model_module": "@jupyter-widgets/base",
            "_model_module_version": "1.2.0",
            "_model_name": "LayoutModel",
            "_view_count": null,
            "_view_module": "@jupyter-widgets/base",
            "_view_module_version": "1.2.0",
            "_view_name": "LayoutView",
            "align_content": null,
            "align_items": null,
            "align_self": null,
            "border": null,
            "bottom": null,
            "display": null,
            "flex": null,
            "flex_flow": null,
            "grid_area": null,
            "grid_auto_columns": null,
            "grid_auto_flow": null,
            "grid_auto_rows": null,
            "grid_column": null,
            "grid_gap": null,
            "grid_row": null,
            "grid_template_areas": null,
            "grid_template_columns": null,
            "grid_template_rows": null,
            "height": null,
            "justify_content": null,
            "justify_items": null,
            "left": null,
            "margin": null,
            "max_height": null,
            "max_width": null,
            "min_height": null,
            "min_width": null,
            "object_fit": null,
            "object_position": null,
            "order": null,
            "overflow": null,
            "overflow_x": null,
            "overflow_y": null,
            "padding": null,
            "right": null,
            "top": null,
            "visibility": null,
            "width": null
          }
        },
        "84475bb00fce458ba627267f3d43a2ab": {
          "model_module": "@jupyter-widgets/base",
          "model_name": "LayoutModel",
          "model_module_version": "1.2.0",
          "state": {
            "_model_module": "@jupyter-widgets/base",
            "_model_module_version": "1.2.0",
            "_model_name": "LayoutModel",
            "_view_count": null,
            "_view_module": "@jupyter-widgets/base",
            "_view_module_version": "1.2.0",
            "_view_name": "LayoutView",
            "align_content": null,
            "align_items": null,
            "align_self": null,
            "border": null,
            "bottom": null,
            "display": null,
            "flex": null,
            "flex_flow": null,
            "grid_area": null,
            "grid_auto_columns": null,
            "grid_auto_flow": null,
            "grid_auto_rows": null,
            "grid_column": null,
            "grid_gap": null,
            "grid_row": null,
            "grid_template_areas": null,
            "grid_template_columns": null,
            "grid_template_rows": null,
            "height": null,
            "justify_content": null,
            "justify_items": null,
            "left": null,
            "margin": null,
            "max_height": null,
            "max_width": null,
            "min_height": null,
            "min_width": null,
            "object_fit": null,
            "object_position": null,
            "order": null,
            "overflow": null,
            "overflow_x": null,
            "overflow_y": null,
            "padding": null,
            "right": null,
            "top": null,
            "visibility": null,
            "width": null
          }
        },
        "a6fedb7fc37c4ec89c64dfe9465ba87f": {
          "model_module": "@jupyter-widgets/controls",
          "model_name": "DescriptionStyleModel",
          "model_module_version": "1.5.0",
          "state": {
            "_model_module": "@jupyter-widgets/controls",
            "_model_module_version": "1.5.0",
            "_model_name": "DescriptionStyleModel",
            "_view_count": null,
            "_view_module": "@jupyter-widgets/base",
            "_view_module_version": "1.2.0",
            "_view_name": "StyleView",
            "description_width": ""
          }
        },
        "22641d77ea7e448b84484acd4172c807": {
          "model_module": "@jupyter-widgets/base",
          "model_name": "LayoutModel",
          "model_module_version": "1.2.0",
          "state": {
            "_model_module": "@jupyter-widgets/base",
            "_model_module_version": "1.2.0",
            "_model_name": "LayoutModel",
            "_view_count": null,
            "_view_module": "@jupyter-widgets/base",
            "_view_module_version": "1.2.0",
            "_view_name": "LayoutView",
            "align_content": null,
            "align_items": null,
            "align_self": null,
            "border": null,
            "bottom": null,
            "display": null,
            "flex": null,
            "flex_flow": null,
            "grid_area": null,
            "grid_auto_columns": null,
            "grid_auto_flow": null,
            "grid_auto_rows": null,
            "grid_column": null,
            "grid_gap": null,
            "grid_row": null,
            "grid_template_areas": null,
            "grid_template_columns": null,
            "grid_template_rows": null,
            "height": null,
            "justify_content": null,
            "justify_items": null,
            "left": null,
            "margin": null,
            "max_height": null,
            "max_width": null,
            "min_height": null,
            "min_width": null,
            "object_fit": null,
            "object_position": null,
            "order": null,
            "overflow": null,
            "overflow_x": null,
            "overflow_y": null,
            "padding": null,
            "right": null,
            "top": null,
            "visibility": null,
            "width": null
          }
        },
        "fee307dd07be4e78980692c0281d7454": {
          "model_module": "@jupyter-widgets/controls",
          "model_name": "ProgressStyleModel",
          "model_module_version": "1.5.0",
          "state": {
            "_model_module": "@jupyter-widgets/controls",
            "_model_module_version": "1.5.0",
            "_model_name": "ProgressStyleModel",
            "_view_count": null,
            "_view_module": "@jupyter-widgets/base",
            "_view_module_version": "1.2.0",
            "_view_name": "StyleView",
            "bar_color": null,
            "description_width": ""
          }
        },
        "7c6b70ebfe8c41d8860303218d2e4ac9": {
          "model_module": "@jupyter-widgets/base",
          "model_name": "LayoutModel",
          "model_module_version": "1.2.0",
          "state": {
            "_model_module": "@jupyter-widgets/base",
            "_model_module_version": "1.2.0",
            "_model_name": "LayoutModel",
            "_view_count": null,
            "_view_module": "@jupyter-widgets/base",
            "_view_module_version": "1.2.0",
            "_view_name": "LayoutView",
            "align_content": null,
            "align_items": null,
            "align_self": null,
            "border": null,
            "bottom": null,
            "display": null,
            "flex": null,
            "flex_flow": null,
            "grid_area": null,
            "grid_auto_columns": null,
            "grid_auto_flow": null,
            "grid_auto_rows": null,
            "grid_column": null,
            "grid_gap": null,
            "grid_row": null,
            "grid_template_areas": null,
            "grid_template_columns": null,
            "grid_template_rows": null,
            "height": null,
            "justify_content": null,
            "justify_items": null,
            "left": null,
            "margin": null,
            "max_height": null,
            "max_width": null,
            "min_height": null,
            "min_width": null,
            "object_fit": null,
            "object_position": null,
            "order": null,
            "overflow": null,
            "overflow_x": null,
            "overflow_y": null,
            "padding": null,
            "right": null,
            "top": null,
            "visibility": null,
            "width": null
          }
        },
        "07a4bd075a0a4060913f8027f52dfb3b": {
          "model_module": "@jupyter-widgets/controls",
          "model_name": "DescriptionStyleModel",
          "model_module_version": "1.5.0",
          "state": {
            "_model_module": "@jupyter-widgets/controls",
            "_model_module_version": "1.5.0",
            "_model_name": "DescriptionStyleModel",
            "_view_count": null,
            "_view_module": "@jupyter-widgets/base",
            "_view_module_version": "1.2.0",
            "_view_name": "StyleView",
            "description_width": ""
          }
        },
        "8ba9b5f76179425583ddf6956702a888": {
          "model_module": "@jupyter-widgets/controls",
          "model_name": "HBoxModel",
          "model_module_version": "1.5.0",
          "state": {
            "_dom_classes": [],
            "_model_module": "@jupyter-widgets/controls",
            "_model_module_version": "1.5.0",
            "_model_name": "HBoxModel",
            "_view_count": null,
            "_view_module": "@jupyter-widgets/controls",
            "_view_module_version": "1.5.0",
            "_view_name": "HBoxView",
            "box_style": "",
            "children": [
              "IPY_MODEL_9c94e77ea1b347c2a946aa246b4dcb44",
              "IPY_MODEL_614810ea98cb4e01b2519e97d3b7cd62",
              "IPY_MODEL_7a29f70a7af24d49ac4e761f63615976"
            ],
            "layout": "IPY_MODEL_e2c56d596e30485f82f102183f56a16c"
          }
        },
        "9c94e77ea1b347c2a946aa246b4dcb44": {
          "model_module": "@jupyter-widgets/controls",
          "model_name": "HTMLModel",
          "model_module_version": "1.5.0",
          "state": {
            "_dom_classes": [],
            "_model_module": "@jupyter-widgets/controls",
            "_model_module_version": "1.5.0",
            "_model_name": "HTMLModel",
            "_view_count": null,
            "_view_module": "@jupyter-widgets/controls",
            "_view_module_version": "1.5.0",
            "_view_name": "HTMLView",
            "description": "",
            "description_tooltip": null,
            "layout": "IPY_MODEL_77bf242509644109a62189ef0e0c9712",
            "placeholder": "​",
            "style": "IPY_MODEL_338b56ff20424ec89ae10cac1add27be",
            "value": "Downloading: 100%"
          }
        },
        "614810ea98cb4e01b2519e97d3b7cd62": {
          "model_module": "@jupyter-widgets/controls",
          "model_name": "FloatProgressModel",
          "model_module_version": "1.5.0",
          "state": {
            "_dom_classes": [],
            "_model_module": "@jupyter-widgets/controls",
            "_model_module_version": "1.5.0",
            "_model_name": "FloatProgressModel",
            "_view_count": null,
            "_view_module": "@jupyter-widgets/controls",
            "_view_module_version": "1.5.0",
            "_view_name": "ProgressView",
            "bar_style": "success",
            "description": "",
            "description_tooltip": null,
            "layout": "IPY_MODEL_b5396c190e0144bb8101d33ba4f5a393",
            "max": 1235,
            "min": 0,
            "orientation": "horizontal",
            "style": "IPY_MODEL_ff929ba589104b73a8e877bd4c1ebafd",
            "value": 1235
          }
        },
        "7a29f70a7af24d49ac4e761f63615976": {
          "model_module": "@jupyter-widgets/controls",
          "model_name": "HTMLModel",
          "model_module_version": "1.5.0",
          "state": {
            "_dom_classes": [],
            "_model_module": "@jupyter-widgets/controls",
            "_model_module_version": "1.5.0",
            "_model_name": "HTMLModel",
            "_view_count": null,
            "_view_module": "@jupyter-widgets/controls",
            "_view_module_version": "1.5.0",
            "_view_name": "HTMLView",
            "description": "",
            "description_tooltip": null,
            "layout": "IPY_MODEL_33f2a15e967d40d3a34f0e94873eb278",
            "placeholder": "​",
            "style": "IPY_MODEL_86bcedbf78aa4ef3809882dd1fcc9cad",
            "value": " 1.24k/1.24k [00:00&lt;00:00, 83.6kB/s]"
          }
        },
        "e2c56d596e30485f82f102183f56a16c": {
          "model_module": "@jupyter-widgets/base",
          "model_name": "LayoutModel",
          "model_module_version": "1.2.0",
          "state": {
            "_model_module": "@jupyter-widgets/base",
            "_model_module_version": "1.2.0",
            "_model_name": "LayoutModel",
            "_view_count": null,
            "_view_module": "@jupyter-widgets/base",
            "_view_module_version": "1.2.0",
            "_view_name": "LayoutView",
            "align_content": null,
            "align_items": null,
            "align_self": null,
            "border": null,
            "bottom": null,
            "display": null,
            "flex": null,
            "flex_flow": null,
            "grid_area": null,
            "grid_auto_columns": null,
            "grid_auto_flow": null,
            "grid_auto_rows": null,
            "grid_column": null,
            "grid_gap": null,
            "grid_row": null,
            "grid_template_areas": null,
            "grid_template_columns": null,
            "grid_template_rows": null,
            "height": null,
            "justify_content": null,
            "justify_items": null,
            "left": null,
            "margin": null,
            "max_height": null,
            "max_width": null,
            "min_height": null,
            "min_width": null,
            "object_fit": null,
            "object_position": null,
            "order": null,
            "overflow": null,
            "overflow_x": null,
            "overflow_y": null,
            "padding": null,
            "right": null,
            "top": null,
            "visibility": null,
            "width": null
          }
        },
        "77bf242509644109a62189ef0e0c9712": {
          "model_module": "@jupyter-widgets/base",
          "model_name": "LayoutModel",
          "model_module_version": "1.2.0",
          "state": {
            "_model_module": "@jupyter-widgets/base",
            "_model_module_version": "1.2.0",
            "_model_name": "LayoutModel",
            "_view_count": null,
            "_view_module": "@jupyter-widgets/base",
            "_view_module_version": "1.2.0",
            "_view_name": "LayoutView",
            "align_content": null,
            "align_items": null,
            "align_self": null,
            "border": null,
            "bottom": null,
            "display": null,
            "flex": null,
            "flex_flow": null,
            "grid_area": null,
            "grid_auto_columns": null,
            "grid_auto_flow": null,
            "grid_auto_rows": null,
            "grid_column": null,
            "grid_gap": null,
            "grid_row": null,
            "grid_template_areas": null,
            "grid_template_columns": null,
            "grid_template_rows": null,
            "height": null,
            "justify_content": null,
            "justify_items": null,
            "left": null,
            "margin": null,
            "max_height": null,
            "max_width": null,
            "min_height": null,
            "min_width": null,
            "object_fit": null,
            "object_position": null,
            "order": null,
            "overflow": null,
            "overflow_x": null,
            "overflow_y": null,
            "padding": null,
            "right": null,
            "top": null,
            "visibility": null,
            "width": null
          }
        },
        "338b56ff20424ec89ae10cac1add27be": {
          "model_module": "@jupyter-widgets/controls",
          "model_name": "DescriptionStyleModel",
          "model_module_version": "1.5.0",
          "state": {
            "_model_module": "@jupyter-widgets/controls",
            "_model_module_version": "1.5.0",
            "_model_name": "DescriptionStyleModel",
            "_view_count": null,
            "_view_module": "@jupyter-widgets/base",
            "_view_module_version": "1.2.0",
            "_view_name": "StyleView",
            "description_width": ""
          }
        },
        "b5396c190e0144bb8101d33ba4f5a393": {
          "model_module": "@jupyter-widgets/base",
          "model_name": "LayoutModel",
          "model_module_version": "1.2.0",
          "state": {
            "_model_module": "@jupyter-widgets/base",
            "_model_module_version": "1.2.0",
            "_model_name": "LayoutModel",
            "_view_count": null,
            "_view_module": "@jupyter-widgets/base",
            "_view_module_version": "1.2.0",
            "_view_name": "LayoutView",
            "align_content": null,
            "align_items": null,
            "align_self": null,
            "border": null,
            "bottom": null,
            "display": null,
            "flex": null,
            "flex_flow": null,
            "grid_area": null,
            "grid_auto_columns": null,
            "grid_auto_flow": null,
            "grid_auto_rows": null,
            "grid_column": null,
            "grid_gap": null,
            "grid_row": null,
            "grid_template_areas": null,
            "grid_template_columns": null,
            "grid_template_rows": null,
            "height": null,
            "justify_content": null,
            "justify_items": null,
            "left": null,
            "margin": null,
            "max_height": null,
            "max_width": null,
            "min_height": null,
            "min_width": null,
            "object_fit": null,
            "object_position": null,
            "order": null,
            "overflow": null,
            "overflow_x": null,
            "overflow_y": null,
            "padding": null,
            "right": null,
            "top": null,
            "visibility": null,
            "width": null
          }
        },
        "ff929ba589104b73a8e877bd4c1ebafd": {
          "model_module": "@jupyter-widgets/controls",
          "model_name": "ProgressStyleModel",
          "model_module_version": "1.5.0",
          "state": {
            "_model_module": "@jupyter-widgets/controls",
            "_model_module_version": "1.5.0",
            "_model_name": "ProgressStyleModel",
            "_view_count": null,
            "_view_module": "@jupyter-widgets/base",
            "_view_module_version": "1.2.0",
            "_view_name": "StyleView",
            "bar_color": null,
            "description_width": ""
          }
        },
        "33f2a15e967d40d3a34f0e94873eb278": {
          "model_module": "@jupyter-widgets/base",
          "model_name": "LayoutModel",
          "model_module_version": "1.2.0",
          "state": {
            "_model_module": "@jupyter-widgets/base",
            "_model_module_version": "1.2.0",
            "_model_name": "LayoutModel",
            "_view_count": null,
            "_view_module": "@jupyter-widgets/base",
            "_view_module_version": "1.2.0",
            "_view_name": "LayoutView",
            "align_content": null,
            "align_items": null,
            "align_self": null,
            "border": null,
            "bottom": null,
            "display": null,
            "flex": null,
            "flex_flow": null,
            "grid_area": null,
            "grid_auto_columns": null,
            "grid_auto_flow": null,
            "grid_auto_rows": null,
            "grid_column": null,
            "grid_gap": null,
            "grid_row": null,
            "grid_template_areas": null,
            "grid_template_columns": null,
            "grid_template_rows": null,
            "height": null,
            "justify_content": null,
            "justify_items": null,
            "left": null,
            "margin": null,
            "max_height": null,
            "max_width": null,
            "min_height": null,
            "min_width": null,
            "object_fit": null,
            "object_position": null,
            "order": null,
            "overflow": null,
            "overflow_x": null,
            "overflow_y": null,
            "padding": null,
            "right": null,
            "top": null,
            "visibility": null,
            "width": null
          }
        },
        "86bcedbf78aa4ef3809882dd1fcc9cad": {
          "model_module": "@jupyter-widgets/controls",
          "model_name": "DescriptionStyleModel",
          "model_module_version": "1.5.0",
          "state": {
            "_model_module": "@jupyter-widgets/controls",
            "_model_module_version": "1.5.0",
            "_model_name": "DescriptionStyleModel",
            "_view_count": null,
            "_view_module": "@jupyter-widgets/base",
            "_view_module_version": "1.2.0",
            "_view_name": "StyleView",
            "description_width": ""
          }
        },
        "2e0a17be14524a119ceab693526659c6": {
          "model_module": "@jupyter-widgets/controls",
          "model_name": "HBoxModel",
          "model_module_version": "1.5.0",
          "state": {
            "_dom_classes": [],
            "_model_module": "@jupyter-widgets/controls",
            "_model_module_version": "1.5.0",
            "_model_name": "HBoxModel",
            "_view_count": null,
            "_view_module": "@jupyter-widgets/controls",
            "_view_module_version": "1.5.0",
            "_view_name": "HBoxView",
            "box_style": "",
            "children": [
              "IPY_MODEL_60fbb49679de47839ef8ce6d3f29d9cd",
              "IPY_MODEL_686c4c5e35634930a03b8f2268106891",
              "IPY_MODEL_587aa73fa8f641f19dfac7c2f3dec791"
            ],
            "layout": "IPY_MODEL_9c340a6c81be47bdb79bb7698e680922"
          }
        },
        "60fbb49679de47839ef8ce6d3f29d9cd": {
          "model_module": "@jupyter-widgets/controls",
          "model_name": "HTMLModel",
          "model_module_version": "1.5.0",
          "state": {
            "_dom_classes": [],
            "_model_module": "@jupyter-widgets/controls",
            "_model_module_version": "1.5.0",
            "_model_name": "HTMLModel",
            "_view_count": null,
            "_view_module": "@jupyter-widgets/controls",
            "_view_module_version": "1.5.0",
            "_view_name": "HTMLView",
            "description": "",
            "description_tooltip": null,
            "layout": "IPY_MODEL_4d130e39e88d4dbf937d2ce43a0b970d",
            "placeholder": "​",
            "style": "IPY_MODEL_c50ef52b3a7f451ca4d28004c984f8c8",
            "value": "Downloading: 100%"
          }
        },
        "686c4c5e35634930a03b8f2268106891": {
          "model_module": "@jupyter-widgets/controls",
          "model_name": "FloatProgressModel",
          "model_module_version": "1.5.0",
          "state": {
            "_dom_classes": [],
            "_model_module": "@jupyter-widgets/controls",
            "_model_module_version": "1.5.0",
            "_model_name": "FloatProgressModel",
            "_view_count": null,
            "_view_module": "@jupyter-widgets/controls",
            "_view_module_version": "1.5.0",
            "_view_name": "ProgressView",
            "bar_style": "success",
            "description": "",
            "description_tooltip": null,
            "layout": "IPY_MODEL_3d1a5aabf6e146bfb21ce9bc06acd275",
            "max": 231508,
            "min": 0,
            "orientation": "horizontal",
            "style": "IPY_MODEL_a8ec313f93c44e3c921a3d9f7cf67835",
            "value": 231508
          }
        },
        "587aa73fa8f641f19dfac7c2f3dec791": {
          "model_module": "@jupyter-widgets/controls",
          "model_name": "HTMLModel",
          "model_module_version": "1.5.0",
          "state": {
            "_dom_classes": [],
            "_model_module": "@jupyter-widgets/controls",
            "_model_module_version": "1.5.0",
            "_model_name": "HTMLModel",
            "_view_count": null,
            "_view_module": "@jupyter-widgets/controls",
            "_view_module_version": "1.5.0",
            "_view_name": "HTMLView",
            "description": "",
            "description_tooltip": null,
            "layout": "IPY_MODEL_cb2cc7007c3745978f4ea8c8c8259345",
            "placeholder": "​",
            "style": "IPY_MODEL_c4c28d1bc83646a0a5339bddc49f82cd",
            "value": " 232k/232k [00:00&lt;00:00, 289kB/s]"
          }
        },
        "9c340a6c81be47bdb79bb7698e680922": {
          "model_module": "@jupyter-widgets/base",
          "model_name": "LayoutModel",
          "model_module_version": "1.2.0",
          "state": {
            "_model_module": "@jupyter-widgets/base",
            "_model_module_version": "1.2.0",
            "_model_name": "LayoutModel",
            "_view_count": null,
            "_view_module": "@jupyter-widgets/base",
            "_view_module_version": "1.2.0",
            "_view_name": "LayoutView",
            "align_content": null,
            "align_items": null,
            "align_self": null,
            "border": null,
            "bottom": null,
            "display": null,
            "flex": null,
            "flex_flow": null,
            "grid_area": null,
            "grid_auto_columns": null,
            "grid_auto_flow": null,
            "grid_auto_rows": null,
            "grid_column": null,
            "grid_gap": null,
            "grid_row": null,
            "grid_template_areas": null,
            "grid_template_columns": null,
            "grid_template_rows": null,
            "height": null,
            "justify_content": null,
            "justify_items": null,
            "left": null,
            "margin": null,
            "max_height": null,
            "max_width": null,
            "min_height": null,
            "min_width": null,
            "object_fit": null,
            "object_position": null,
            "order": null,
            "overflow": null,
            "overflow_x": null,
            "overflow_y": null,
            "padding": null,
            "right": null,
            "top": null,
            "visibility": null,
            "width": null
          }
        },
        "4d130e39e88d4dbf937d2ce43a0b970d": {
          "model_module": "@jupyter-widgets/base",
          "model_name": "LayoutModel",
          "model_module_version": "1.2.0",
          "state": {
            "_model_module": "@jupyter-widgets/base",
            "_model_module_version": "1.2.0",
            "_model_name": "LayoutModel",
            "_view_count": null,
            "_view_module": "@jupyter-widgets/base",
            "_view_module_version": "1.2.0",
            "_view_name": "LayoutView",
            "align_content": null,
            "align_items": null,
            "align_self": null,
            "border": null,
            "bottom": null,
            "display": null,
            "flex": null,
            "flex_flow": null,
            "grid_area": null,
            "grid_auto_columns": null,
            "grid_auto_flow": null,
            "grid_auto_rows": null,
            "grid_column": null,
            "grid_gap": null,
            "grid_row": null,
            "grid_template_areas": null,
            "grid_template_columns": null,
            "grid_template_rows": null,
            "height": null,
            "justify_content": null,
            "justify_items": null,
            "left": null,
            "margin": null,
            "max_height": null,
            "max_width": null,
            "min_height": null,
            "min_width": null,
            "object_fit": null,
            "object_position": null,
            "order": null,
            "overflow": null,
            "overflow_x": null,
            "overflow_y": null,
            "padding": null,
            "right": null,
            "top": null,
            "visibility": null,
            "width": null
          }
        },
        "c50ef52b3a7f451ca4d28004c984f8c8": {
          "model_module": "@jupyter-widgets/controls",
          "model_name": "DescriptionStyleModel",
          "model_module_version": "1.5.0",
          "state": {
            "_model_module": "@jupyter-widgets/controls",
            "_model_module_version": "1.5.0",
            "_model_name": "DescriptionStyleModel",
            "_view_count": null,
            "_view_module": "@jupyter-widgets/base",
            "_view_module_version": "1.2.0",
            "_view_name": "StyleView",
            "description_width": ""
          }
        },
        "3d1a5aabf6e146bfb21ce9bc06acd275": {
          "model_module": "@jupyter-widgets/base",
          "model_name": "LayoutModel",
          "model_module_version": "1.2.0",
          "state": {
            "_model_module": "@jupyter-widgets/base",
            "_model_module_version": "1.2.0",
            "_model_name": "LayoutModel",
            "_view_count": null,
            "_view_module": "@jupyter-widgets/base",
            "_view_module_version": "1.2.0",
            "_view_name": "LayoutView",
            "align_content": null,
            "align_items": null,
            "align_self": null,
            "border": null,
            "bottom": null,
            "display": null,
            "flex": null,
            "flex_flow": null,
            "grid_area": null,
            "grid_auto_columns": null,
            "grid_auto_flow": null,
            "grid_auto_rows": null,
            "grid_column": null,
            "grid_gap": null,
            "grid_row": null,
            "grid_template_areas": null,
            "grid_template_columns": null,
            "grid_template_rows": null,
            "height": null,
            "justify_content": null,
            "justify_items": null,
            "left": null,
            "margin": null,
            "max_height": null,
            "max_width": null,
            "min_height": null,
            "min_width": null,
            "object_fit": null,
            "object_position": null,
            "order": null,
            "overflow": null,
            "overflow_x": null,
            "overflow_y": null,
            "padding": null,
            "right": null,
            "top": null,
            "visibility": null,
            "width": null
          }
        },
        "a8ec313f93c44e3c921a3d9f7cf67835": {
          "model_module": "@jupyter-widgets/controls",
          "model_name": "ProgressStyleModel",
          "model_module_version": "1.5.0",
          "state": {
            "_model_module": "@jupyter-widgets/controls",
            "_model_module_version": "1.5.0",
            "_model_name": "ProgressStyleModel",
            "_view_count": null,
            "_view_module": "@jupyter-widgets/base",
            "_view_module_version": "1.2.0",
            "_view_name": "StyleView",
            "bar_color": null,
            "description_width": ""
          }
        },
        "cb2cc7007c3745978f4ea8c8c8259345": {
          "model_module": "@jupyter-widgets/base",
          "model_name": "LayoutModel",
          "model_module_version": "1.2.0",
          "state": {
            "_model_module": "@jupyter-widgets/base",
            "_model_module_version": "1.2.0",
            "_model_name": "LayoutModel",
            "_view_count": null,
            "_view_module": "@jupyter-widgets/base",
            "_view_module_version": "1.2.0",
            "_view_name": "LayoutView",
            "align_content": null,
            "align_items": null,
            "align_self": null,
            "border": null,
            "bottom": null,
            "display": null,
            "flex": null,
            "flex_flow": null,
            "grid_area": null,
            "grid_auto_columns": null,
            "grid_auto_flow": null,
            "grid_auto_rows": null,
            "grid_column": null,
            "grid_gap": null,
            "grid_row": null,
            "grid_template_areas": null,
            "grid_template_columns": null,
            "grid_template_rows": null,
            "height": null,
            "justify_content": null,
            "justify_items": null,
            "left": null,
            "margin": null,
            "max_height": null,
            "max_width": null,
            "min_height": null,
            "min_width": null,
            "object_fit": null,
            "object_position": null,
            "order": null,
            "overflow": null,
            "overflow_x": null,
            "overflow_y": null,
            "padding": null,
            "right": null,
            "top": null,
            "visibility": null,
            "width": null
          }
        },
        "c4c28d1bc83646a0a5339bddc49f82cd": {
          "model_module": "@jupyter-widgets/controls",
          "model_name": "DescriptionStyleModel",
          "model_module_version": "1.5.0",
          "state": {
            "_model_module": "@jupyter-widgets/controls",
            "_model_module_version": "1.5.0",
            "_model_name": "DescriptionStyleModel",
            "_view_count": null,
            "_view_module": "@jupyter-widgets/base",
            "_view_module_version": "1.2.0",
            "_view_name": "StyleView",
            "description_width": ""
          }
        },
        "12f89a4d400c4293a0cf88c240ba6eef": {
          "model_module": "@jupyter-widgets/controls",
          "model_name": "HBoxModel",
          "model_module_version": "1.5.0",
          "state": {
            "_dom_classes": [],
            "_model_module": "@jupyter-widgets/controls",
            "_model_module_version": "1.5.0",
            "_model_name": "HBoxModel",
            "_view_count": null,
            "_view_module": "@jupyter-widgets/controls",
            "_view_module_version": "1.5.0",
            "_view_name": "HBoxView",
            "box_style": "",
            "children": [
              "IPY_MODEL_02802636f8d045d28871c87412b1ec5b",
              "IPY_MODEL_f763c18afd914e41a8484ce51e20cbb2",
              "IPY_MODEL_95b42d3983e74d65992539d14e33beee"
            ],
            "layout": "IPY_MODEL_9a005588373a4dd8a2058b7eb30161a1"
          }
        },
        "02802636f8d045d28871c87412b1ec5b": {
          "model_module": "@jupyter-widgets/controls",
          "model_name": "HTMLModel",
          "model_module_version": "1.5.0",
          "state": {
            "_dom_classes": [],
            "_model_module": "@jupyter-widgets/controls",
            "_model_module_version": "1.5.0",
            "_model_name": "HTMLModel",
            "_view_count": null,
            "_view_module": "@jupyter-widgets/controls",
            "_view_module_version": "1.5.0",
            "_view_name": "HTMLView",
            "description": "",
            "description_tooltip": null,
            "layout": "IPY_MODEL_7c67622c5fdd44b7b469216a871089fb",
            "placeholder": "​",
            "style": "IPY_MODEL_980975182cbb4a679645dad5a6ddb267",
            "value": "Downloading: 100%"
          }
        },
        "f763c18afd914e41a8484ce51e20cbb2": {
          "model_module": "@jupyter-widgets/controls",
          "model_name": "FloatProgressModel",
          "model_module_version": "1.5.0",
          "state": {
            "_dom_classes": [],
            "_model_module": "@jupyter-widgets/controls",
            "_model_module_version": "1.5.0",
            "_model_name": "FloatProgressModel",
            "_view_count": null,
            "_view_module": "@jupyter-widgets/controls",
            "_view_module_version": "1.5.0",
            "_view_name": "ProgressView",
            "bar_style": "success",
            "description": "",
            "description_tooltip": null,
            "layout": "IPY_MODEL_3bbc5a614043437581d4e6daabb11cff",
            "max": 112,
            "min": 0,
            "orientation": "horizontal",
            "style": "IPY_MODEL_25642b63be97451d8adcfbf09a300891",
            "value": 112
          }
        },
        "95b42d3983e74d65992539d14e33beee": {
          "model_module": "@jupyter-widgets/controls",
          "model_name": "HTMLModel",
          "model_module_version": "1.5.0",
          "state": {
            "_dom_classes": [],
            "_model_module": "@jupyter-widgets/controls",
            "_model_module_version": "1.5.0",
            "_model_name": "HTMLModel",
            "_view_count": null,
            "_view_module": "@jupyter-widgets/controls",
            "_view_module_version": "1.5.0",
            "_view_name": "HTMLView",
            "description": "",
            "description_tooltip": null,
            "layout": "IPY_MODEL_9a8911f13e864453834691fbf31ae561",
            "placeholder": "​",
            "style": "IPY_MODEL_5bddcb8a270d491a8a7c017a029e2c81",
            "value": " 112/112 [00:00&lt;00:00, 8.17kB/s]"
          }
        },
        "9a005588373a4dd8a2058b7eb30161a1": {
          "model_module": "@jupyter-widgets/base",
          "model_name": "LayoutModel",
          "model_module_version": "1.2.0",
          "state": {
            "_model_module": "@jupyter-widgets/base",
            "_model_module_version": "1.2.0",
            "_model_name": "LayoutModel",
            "_view_count": null,
            "_view_module": "@jupyter-widgets/base",
            "_view_module_version": "1.2.0",
            "_view_name": "LayoutView",
            "align_content": null,
            "align_items": null,
            "align_self": null,
            "border": null,
            "bottom": null,
            "display": null,
            "flex": null,
            "flex_flow": null,
            "grid_area": null,
            "grid_auto_columns": null,
            "grid_auto_flow": null,
            "grid_auto_rows": null,
            "grid_column": null,
            "grid_gap": null,
            "grid_row": null,
            "grid_template_areas": null,
            "grid_template_columns": null,
            "grid_template_rows": null,
            "height": null,
            "justify_content": null,
            "justify_items": null,
            "left": null,
            "margin": null,
            "max_height": null,
            "max_width": null,
            "min_height": null,
            "min_width": null,
            "object_fit": null,
            "object_position": null,
            "order": null,
            "overflow": null,
            "overflow_x": null,
            "overflow_y": null,
            "padding": null,
            "right": null,
            "top": null,
            "visibility": null,
            "width": null
          }
        },
        "7c67622c5fdd44b7b469216a871089fb": {
          "model_module": "@jupyter-widgets/base",
          "model_name": "LayoutModel",
          "model_module_version": "1.2.0",
          "state": {
            "_model_module": "@jupyter-widgets/base",
            "_model_module_version": "1.2.0",
            "_model_name": "LayoutModel",
            "_view_count": null,
            "_view_module": "@jupyter-widgets/base",
            "_view_module_version": "1.2.0",
            "_view_name": "LayoutView",
            "align_content": null,
            "align_items": null,
            "align_self": null,
            "border": null,
            "bottom": null,
            "display": null,
            "flex": null,
            "flex_flow": null,
            "grid_area": null,
            "grid_auto_columns": null,
            "grid_auto_flow": null,
            "grid_auto_rows": null,
            "grid_column": null,
            "grid_gap": null,
            "grid_row": null,
            "grid_template_areas": null,
            "grid_template_columns": null,
            "grid_template_rows": null,
            "height": null,
            "justify_content": null,
            "justify_items": null,
            "left": null,
            "margin": null,
            "max_height": null,
            "max_width": null,
            "min_height": null,
            "min_width": null,
            "object_fit": null,
            "object_position": null,
            "order": null,
            "overflow": null,
            "overflow_x": null,
            "overflow_y": null,
            "padding": null,
            "right": null,
            "top": null,
            "visibility": null,
            "width": null
          }
        },
        "980975182cbb4a679645dad5a6ddb267": {
          "model_module": "@jupyter-widgets/controls",
          "model_name": "DescriptionStyleModel",
          "model_module_version": "1.5.0",
          "state": {
            "_model_module": "@jupyter-widgets/controls",
            "_model_module_version": "1.5.0",
            "_model_name": "DescriptionStyleModel",
            "_view_count": null,
            "_view_module": "@jupyter-widgets/base",
            "_view_module_version": "1.2.0",
            "_view_name": "StyleView",
            "description_width": ""
          }
        },
        "3bbc5a614043437581d4e6daabb11cff": {
          "model_module": "@jupyter-widgets/base",
          "model_name": "LayoutModel",
          "model_module_version": "1.2.0",
          "state": {
            "_model_module": "@jupyter-widgets/base",
            "_model_module_version": "1.2.0",
            "_model_name": "LayoutModel",
            "_view_count": null,
            "_view_module": "@jupyter-widgets/base",
            "_view_module_version": "1.2.0",
            "_view_name": "LayoutView",
            "align_content": null,
            "align_items": null,
            "align_self": null,
            "border": null,
            "bottom": null,
            "display": null,
            "flex": null,
            "flex_flow": null,
            "grid_area": null,
            "grid_auto_columns": null,
            "grid_auto_flow": null,
            "grid_auto_rows": null,
            "grid_column": null,
            "grid_gap": null,
            "grid_row": null,
            "grid_template_areas": null,
            "grid_template_columns": null,
            "grid_template_rows": null,
            "height": null,
            "justify_content": null,
            "justify_items": null,
            "left": null,
            "margin": null,
            "max_height": null,
            "max_width": null,
            "min_height": null,
            "min_width": null,
            "object_fit": null,
            "object_position": null,
            "order": null,
            "overflow": null,
            "overflow_x": null,
            "overflow_y": null,
            "padding": null,
            "right": null,
            "top": null,
            "visibility": null,
            "width": null
          }
        },
        "25642b63be97451d8adcfbf09a300891": {
          "model_module": "@jupyter-widgets/controls",
          "model_name": "ProgressStyleModel",
          "model_module_version": "1.5.0",
          "state": {
            "_model_module": "@jupyter-widgets/controls",
            "_model_module_version": "1.5.0",
            "_model_name": "ProgressStyleModel",
            "_view_count": null,
            "_view_module": "@jupyter-widgets/base",
            "_view_module_version": "1.2.0",
            "_view_name": "StyleView",
            "bar_color": null,
            "description_width": ""
          }
        },
        "9a8911f13e864453834691fbf31ae561": {
          "model_module": "@jupyter-widgets/base",
          "model_name": "LayoutModel",
          "model_module_version": "1.2.0",
          "state": {
            "_model_module": "@jupyter-widgets/base",
            "_model_module_version": "1.2.0",
            "_model_name": "LayoutModel",
            "_view_count": null,
            "_view_module": "@jupyter-widgets/base",
            "_view_module_version": "1.2.0",
            "_view_name": "LayoutView",
            "align_content": null,
            "align_items": null,
            "align_self": null,
            "border": null,
            "bottom": null,
            "display": null,
            "flex": null,
            "flex_flow": null,
            "grid_area": null,
            "grid_auto_columns": null,
            "grid_auto_flow": null,
            "grid_auto_rows": null,
            "grid_column": null,
            "grid_gap": null,
            "grid_row": null,
            "grid_template_areas": null,
            "grid_template_columns": null,
            "grid_template_rows": null,
            "height": null,
            "justify_content": null,
            "justify_items": null,
            "left": null,
            "margin": null,
            "max_height": null,
            "max_width": null,
            "min_height": null,
            "min_width": null,
            "object_fit": null,
            "object_position": null,
            "order": null,
            "overflow": null,
            "overflow_x": null,
            "overflow_y": null,
            "padding": null,
            "right": null,
            "top": null,
            "visibility": null,
            "width": null
          }
        },
        "5bddcb8a270d491a8a7c017a029e2c81": {
          "model_module": "@jupyter-widgets/controls",
          "model_name": "DescriptionStyleModel",
          "model_module_version": "1.5.0",
          "state": {
            "_model_module": "@jupyter-widgets/controls",
            "_model_module_version": "1.5.0",
            "_model_name": "DescriptionStyleModel",
            "_view_count": null,
            "_view_module": "@jupyter-widgets/base",
            "_view_module_version": "1.2.0",
            "_view_name": "StyleView",
            "description_width": ""
          }
        }
      }
    }
  },
  "cells": [
    {
      "cell_type": "markdown",
      "metadata": {
        "id": "view-in-github",
        "colab_type": "text"
      },
      "source": [
        "<a href=\"https://colab.research.google.com/github/DaryaTereshchenko/HateSpeechDetection/blob/main/HateBert_all_moodels.ipynb\" target=\"_parent\"><img src=\"https://colab.research.google.com/assets/colab-badge.svg\" alt=\"Open In Colab\"/></a>"
      ]
    },
    {
      "cell_type": "code",
      "execution_count": null,
      "metadata": {
        "id": "a1AdP7YlpgMi"
      },
      "outputs": [],
      "source": [
        "!pip install sentence_transformers\n",
        "!pip install transformers"
      ]
    },
    {
      "cell_type": "code",
      "source": [
        "import numpy as np\n",
        "import pandas as pd"
      ],
      "metadata": {
        "id": "qFw2tJmvqQrL"
      },
      "execution_count": 2,
      "outputs": []
    },
    {
      "cell_type": "code",
      "source": [
        "import matplotlib.pyplot as plt\n",
        "import seaborn as sns\n",
        "import string\n",
        "from nltk import word_tokenize\n",
        "from nltk.corpus import stopwords\n",
        "import nltk\n",
        "nltk.download('stopwords')\n",
        "nltk.download('punkt')"
      ],
      "metadata": {
        "id": "ZGpjX5WXqYfZ",
        "colab": {
          "base_uri": "https://localhost:8080/"
        },
        "outputId": "e3b22bf4-1259-4513-aac1-1ccf51b5c4cd"
      },
      "execution_count": 3,
      "outputs": [
        {
          "output_type": "stream",
          "name": "stderr",
          "text": [
            "[nltk_data] Downloading package stopwords to /root/nltk_data...\n",
            "[nltk_data]   Unzipping corpora/stopwords.zip.\n",
            "[nltk_data] Downloading package punkt to /root/nltk_data...\n",
            "[nltk_data]   Unzipping tokenizers/punkt.zip.\n"
          ]
        },
        {
          "output_type": "execute_result",
          "data": {
            "text/plain": [
              "True"
            ]
          },
          "metadata": {},
          "execution_count": 3
        }
      ]
    },
    {
      "cell_type": "code",
      "source": [
        "import tensorflow as tf\n",
        "from sentence_transformers import SentenceTransformer\n",
        "from transformers import RobertaTokenizer"
      ],
      "metadata": {
        "id": "1ovvuxH8erOM"
      },
      "execution_count": 4,
      "outputs": []
    },
    {
      "cell_type": "code",
      "source": [
        "from transformers import RobertaTokenizer, RobertaConfig, TFRobertaModel"
      ],
      "metadata": {
        "id": "ouf4VesE82ME"
      },
      "execution_count": 5,
      "outputs": []
    },
    {
      "cell_type": "code",
      "source": [
        "ethos_hate = pd.read_csv(\"ethos_hate.csv\", sep=\",\", encoding=\"unicode_escape\").drop(columns=\"label\")\n",
        "ethos_hate[\"label\"] = 1\n",
        "\n",
        "ethos_neutral = pd.read_csv(\"ethos_neutral.csv\", sep=\",\", encoding=\"unicode_escape\").drop(columns=\"label\")\n",
        "ethos_neutral[\"label\"] = 0\n",
        "\n",
        "train_n = ethos_neutral.sample(frac=0.9, random_state=0)\n",
        "test_n = ethos_neutral.drop(train_n.index)\n",
        "\n",
        "train_hate = ethos_hate.sample(frac=0.9, random_state=0)\n",
        "test_hate = ethos_hate.drop(train_hate.index)\n",
        "\n",
        "\n",
        "train = pd.concat([train_n, train_hate]).sample(frac=1, random_state=300).reset_index(drop=True)\n",
        "test = pd.concat([test_n, test_hate]).sample(frac=1, random_state=300).reset_index(drop=True)\n",
        "\n",
        "print(train.text[0])\n"
      ],
      "metadata": {
        "id": "QrZgSlY7qaC3",
        "colab": {
          "base_uri": "https://localhost:8080/"
        },
        "outputId": "76a599ef-7a45-49e0-e34e-15a60afbf6b8"
      },
      "execution_count": 5,
      "outputs": [
        {
          "output_type": "stream",
          "name": "stdout",
          "text": [
            "What episode number was this?\n"
          ]
        }
      ]
    },
    {
      "cell_type": "code",
      "source": [
        "print(test.label)"
      ],
      "metadata": {
        "colab": {
          "base_uri": "https://localhost:8080/"
        },
        "id": "ctNF_3mCMbD5",
        "outputId": "b27a4888-784f-4cff-99fe-e492a96e1547"
      },
      "execution_count": null,
      "outputs": [
        {
          "output_type": "stream",
          "name": "stdout",
          "text": [
            "0     0\n",
            "1     1\n",
            "2     0\n",
            "3     1\n",
            "4     0\n",
            "     ..\n",
            "95    0\n",
            "96    1\n",
            "97    0\n",
            "98    1\n",
            "99    1\n",
            "Name: label, Length: 100, dtype: int64\n"
          ]
        }
      ]
    },
    {
      "cell_type": "code",
      "source": [
        "train.text"
      ],
      "metadata": {
        "id": "ZeMKxEJLIy2d",
        "colab": {
          "base_uri": "https://localhost:8080/"
        },
        "outputId": "e8295fee-95fd-4ff7-98c6-4041a1ba53c4"
      },
      "execution_count": null,
      "outputs": [
        {
          "output_type": "execute_result",
          "data": {
            "text/plain": [
              "0                          What episode number was this?\n",
              "1      Why don't you go beck your god to murder you? ...\n",
              "2      I don't like jew soap, but if we are to get ri...\n",
              "3      By calling period, a natural procedure, as an ...\n",
              "4         MASS BLACK WORLDWIDE GENOCIDE IS OUR ONLY HOPE\n",
              "                             ...                        \n",
              "893    Is this world filled by those stupid female bi...\n",
              "894                   What type of question it is???????\n",
              "895                    Die fucking arab dude sand niggas\n",
              "896               Japanese culture is ancient and unique\n",
              "897    People who say \"YAAAASSSS QUEEN\" should be ste...\n",
              "Name: text, Length: 898, dtype: object"
            ]
          },
          "metadata": {},
          "execution_count": 9
        }
      ]
    },
    {
      "cell_type": "code",
      "source": [
        "print(\"Longest sentence?\")\n",
        "print(max(len(x) for x in train.text.values))\n",
        "print(\"Average length?\")\n",
        "print(sum(len(x) for x in train.text.values) / len(train.text.values))\n"
      ],
      "metadata": {
        "colab": {
          "base_uri": "https://localhost:8080/"
        },
        "id": "vL6OJip-5gpO",
        "outputId": "4ec08cc4-dbca-4e8b-a32e-3b1cb93b545d"
      },
      "execution_count": null,
      "outputs": [
        {
          "output_type": "stream",
          "name": "stdout",
          "text": [
            "Longest sentence?\n",
            "3009\n",
            "Average length?\n",
            "111.76948775055679\n"
          ]
        }
      ]
    },
    {
      "cell_type": "code",
      "source": [
        "def clean_text(line):\n",
        "  processed_line = line.lower()\n",
        "  words = [word for word in word_tokenize(processed_line)]\n",
        "  processed_line = [word for word in words if word not in set(string.punctuation)]\n",
        "  text = \" \".join(processed_line)\n",
        "  return text"
      ],
      "metadata": {
        "id": "3OJKw5IruC6n"
      },
      "execution_count": 6,
      "outputs": []
    },
    {
      "cell_type": "code",
      "source": [
        "# Sentences for embeddings\n",
        "train_sentence_list = list(map(clean_text, train.text.values))\n",
        "test_sentence_list = list(map(clean_text, test.text.values))"
      ],
      "metadata": {
        "id": "t48Le1B0emun"
      },
      "execution_count": 7,
      "outputs": []
    },
    {
      "cell_type": "code",
      "source": [
        "train_sentence_list"
      ],
      "metadata": {
        "id": "g0jSIoMQpj_W"
      },
      "execution_count": null,
      "outputs": []
    },
    {
      "cell_type": "code",
      "source": [
        "from transformers import AutoTokenizer, TFAutoModel"
      ],
      "metadata": {
        "id": "LDJ4uJuiSbx8"
      },
      "execution_count": 8,
      "outputs": []
    },
    {
      "cell_type": "code",
      "source": [
        "MODEL_NAME = 'GroNLP/hateBERT'\n",
        "MAX_LEN = 128\n",
        "\n",
        "tokenizer = AutoTokenizer.from_pretrained(MODEL_NAME)"
      ],
      "metadata": {
        "id": "I6H_digUgSNU",
        "outputId": "6c488264-0257-4e52-8644-a94ceb1892aa",
        "colab": {
          "base_uri": "https://localhost:8080/",
          "height": 145,
          "referenced_widgets": [
            "aa510ab1d7e04828bbda513ee43bca73",
            "6f485223c16c4d788249c69e3e5d3064",
            "cf5f51e6dcd64f93a01545857c59446e",
            "ccfa1143902f40d1bb720394853e9ac6",
            "dffc24dcf2ac441e81b9426c8f2dd253",
            "84475bb00fce458ba627267f3d43a2ab",
            "a6fedb7fc37c4ec89c64dfe9465ba87f",
            "22641d77ea7e448b84484acd4172c807",
            "fee307dd07be4e78980692c0281d7454",
            "7c6b70ebfe8c41d8860303218d2e4ac9",
            "07a4bd075a0a4060913f8027f52dfb3b",
            "8ba9b5f76179425583ddf6956702a888",
            "9c94e77ea1b347c2a946aa246b4dcb44",
            "614810ea98cb4e01b2519e97d3b7cd62",
            "7a29f70a7af24d49ac4e761f63615976",
            "e2c56d596e30485f82f102183f56a16c",
            "77bf242509644109a62189ef0e0c9712",
            "338b56ff20424ec89ae10cac1add27be",
            "b5396c190e0144bb8101d33ba4f5a393",
            "ff929ba589104b73a8e877bd4c1ebafd",
            "33f2a15e967d40d3a34f0e94873eb278",
            "86bcedbf78aa4ef3809882dd1fcc9cad",
            "2e0a17be14524a119ceab693526659c6",
            "60fbb49679de47839ef8ce6d3f29d9cd",
            "686c4c5e35634930a03b8f2268106891",
            "587aa73fa8f641f19dfac7c2f3dec791",
            "9c340a6c81be47bdb79bb7698e680922",
            "4d130e39e88d4dbf937d2ce43a0b970d",
            "c50ef52b3a7f451ca4d28004c984f8c8",
            "3d1a5aabf6e146bfb21ce9bc06acd275",
            "a8ec313f93c44e3c921a3d9f7cf67835",
            "cb2cc7007c3745978f4ea8c8c8259345",
            "c4c28d1bc83646a0a5339bddc49f82cd",
            "12f89a4d400c4293a0cf88c240ba6eef",
            "02802636f8d045d28871c87412b1ec5b",
            "f763c18afd914e41a8484ce51e20cbb2",
            "95b42d3983e74d65992539d14e33beee",
            "9a005588373a4dd8a2058b7eb30161a1",
            "7c67622c5fdd44b7b469216a871089fb",
            "980975182cbb4a679645dad5a6ddb267",
            "3bbc5a614043437581d4e6daabb11cff",
            "25642b63be97451d8adcfbf09a300891",
            "9a8911f13e864453834691fbf31ae561",
            "5bddcb8a270d491a8a7c017a029e2c81"
          ]
        }
      },
      "execution_count": 9,
      "outputs": [
        {
          "output_type": "display_data",
          "data": {
            "text/plain": [
              "Downloading:   0%|          | 0.00/151 [00:00<?, ?B/s]"
            ],
            "application/vnd.jupyter.widget-view+json": {
              "version_major": 2,
              "version_minor": 0,
              "model_id": "aa510ab1d7e04828bbda513ee43bca73"
            }
          },
          "metadata": {}
        },
        {
          "output_type": "display_data",
          "data": {
            "text/plain": [
              "Downloading:   0%|          | 0.00/1.24k [00:00<?, ?B/s]"
            ],
            "application/vnd.jupyter.widget-view+json": {
              "version_major": 2,
              "version_minor": 0,
              "model_id": "8ba9b5f76179425583ddf6956702a888"
            }
          },
          "metadata": {}
        },
        {
          "output_type": "display_data",
          "data": {
            "text/plain": [
              "Downloading:   0%|          | 0.00/232k [00:00<?, ?B/s]"
            ],
            "application/vnd.jupyter.widget-view+json": {
              "version_major": 2,
              "version_minor": 0,
              "model_id": "2e0a17be14524a119ceab693526659c6"
            }
          },
          "metadata": {}
        },
        {
          "output_type": "display_data",
          "data": {
            "text/plain": [
              "Downloading:   0%|          | 0.00/112 [00:00<?, ?B/s]"
            ],
            "application/vnd.jupyter.widget-view+json": {
              "version_major": 2,
              "version_minor": 0,
              "model_id": "12f89a4d400c4293a0cf88c240ba6eef"
            }
          },
          "metadata": {}
        }
      ]
    },
    {
      "cell_type": "code",
      "source": [
        "def roberta_encode(texts, tokenizer):\n",
        "    ct = len(texts)\n",
        "    input_ids = np.ones((ct, MAX_LEN), dtype='int32')\n",
        "    attention_mask = np.zeros((ct, MAX_LEN), dtype='int32')\n",
        "    token_type_ids = np.zeros((ct, MAX_LEN), dtype='int32') # Not used in text classification\n",
        "\n",
        "    for k, text in enumerate(texts):\n",
        "        # Tokenize\n",
        "        tok_text = tokenizer.tokenize(text)\n",
        "        \n",
        "        # Truncate and convert tokens to numerical IDs\n",
        "        enc_text = tokenizer.convert_tokens_to_ids(tok_text[:(MAX_LEN-2)])\n",
        "        \n",
        "        input_length = len(enc_text) + 2\n",
        "        input_length = input_length if input_length < MAX_LEN else MAX_LEN\n",
        "        \n",
        "        # Add tokens [CLS] and [SEP] at the beginning and the end\n",
        "        input_ids[k,:input_length] = np.asarray([0] + enc_text + [2], dtype='int32')\n",
        "        \n",
        "        # Set to 1s in the attention input\n",
        "        attention_mask[k,:input_length] = 1\n",
        "\n",
        "    return {\n",
        "        'input_word_ids': input_ids,\n",
        "        'input_mask': attention_mask,\n",
        "        'input_type_ids': token_type_ids\n",
        "    }"
      ],
      "metadata": {
        "id": "AjhMIoP2L451"
      },
      "execution_count": 10,
      "outputs": []
    },
    {
      "cell_type": "code",
      "source": [
        "X_train = roberta_encode(train_sentence_list, tokenizer)\n",
        "X_test = roberta_encode(test_sentence_list, tokenizer)\n",
        "\n",
        "y_train = np.asarray(train.label, dtype='int32').reshape(-1,1)\n",
        "y_test = np.asarray(test.label, dtype='int32').reshape(-1,1)"
      ],
      "metadata": {
        "id": "F20F-ThJ_EIz",
        "colab": {
          "base_uri": "https://localhost:8080/"
        },
        "outputId": "4dfafdf2-d24f-4a8e-ca00-01be5715459a"
      },
      "execution_count": 11,
      "outputs": [
        {
          "output_type": "stream",
          "name": "stderr",
          "text": [
            "Token indices sequence length is longer than the specified maximum sequence length for this model (776 > 512). Running this sequence through the model will result in indexing errors\n"
          ]
        }
      ]
    },
    {
      "cell_type": "code",
      "source": [
        "\"\"\"\n",
        "========================================\n",
        "HATEBERT\n",
        "========================================\n",
        "\"\"\"\n",
        "def build_model1():\n",
        "  input_word_ids = tf.keras.Input(shape=(MAX_LEN,), dtype=tf.int32, name='input_word_ids')\n",
        "  input_mask = tf.keras.Input(shape=(MAX_LEN,), dtype=tf.int32, name='input_mask')\n",
        "  input_type_ids = tf.keras.Input(shape=(MAX_LEN,), dtype=tf.int32, name='input_type_ids')\n",
        "\n",
        "  # Import RoBERTa model from HuggingFace\n",
        "  roberta_model = TFAutoModel.from_pretrained(\"GroNLP/hateBERT\", from_pt=True)\n",
        "  x = roberta_model(input_word_ids, attention_mask=input_mask, token_type_ids=input_type_ids)\n",
        "  x = x[0]\n",
        "\n",
        "  x = tf.keras.layers.Dropout(0.1)(x)\n",
        "  x = tf.keras.layers.Flatten()(x)\n",
        "  x = tf.keras.layers.Dense(16, activation='relu')(x)\n",
        "  x = tf.keras.layers.Dense(1, activation='sigmoid')(x)\n",
        "\n",
        "  model1 = tf.keras.Model(inputs=[input_word_ids, input_mask, input_type_ids], outputs=x)\n",
        "  model1.compile(\n",
        "      optimizer=tf.keras.optimizers.Adam(learning_rate=1e-5),\n",
        "      loss= tf.keras.losses.binary_crossentropy,\n",
        "      metrics=['accuracy'])\n",
        "\n",
        "  return model1"
      ],
      "metadata": {
        "id": "srs7396Y_jWN"
      },
      "execution_count": null,
      "outputs": []
    },
    {
      "cell_type": "code",
      "source": [
        "\"\"\"\n",
        "========================================\n",
        "HATEBERT + CNN\n",
        "========================================\n",
        "\"\"\"\n",
        "def build_model2(conv_size=128, max_features = 50000, embed_size=128):\n",
        "  input_word_ids = tf.keras.Input(shape=(MAX_LEN,), dtype=tf.int32, name='input_word_ids')\n",
        "  input_mask = tf.keras.Input(shape=(MAX_LEN,), dtype=tf.int32, name='input_mask')\n",
        "  input_type_ids = tf.keras.Input(shape=(MAX_LEN,), dtype=tf.int32, name='input_type_ids')\n",
        "\n",
        "  # Import RoBERTa model from HuggingFace\n",
        "  roberta_model = TFAutoModel.from_pretrained(\"GroNLP/hateBERT\", from_pt=True)\n",
        "  mod = roberta_model(input_word_ids, attention_mask=input_mask, token_type_ids=input_type_ids)\n",
        "\n",
        "  # Huggingface transformers have multiple outputs, embeddings are the first one,\n",
        "  # so let's slice out the first position\n",
        "  bert = mod[0]\n",
        "\n",
        "  x1 =  tf.keras.layers.SpatialDropout1D(rate=0.1)(bert)\n",
        "  # x2 = tf.keras.layers.Flatten()(x1)\n",
        "  # att = tf.keras.layers.Attention(MAX_LEN)(x2)\n",
        "  x = tf.keras.layers.Conv1D(conv_size, 2, activation='relu', padding='same')(x1)\n",
        "  x = tf.keras.layers.MaxPooling1D(5, padding='same')(x)\n",
        "  x = tf.keras.layers.Conv1D(conv_size, 3, activation='relu', padding='same')(x)\n",
        "  x = tf.keras.layers.MaxPooling1D(5, padding='same')(x)\n",
        "  x = tf.keras.layers.Flatten()(x)\n",
        "  x = tf.keras.layers.Dropout(0.5)(x)\n",
        "  x = tf.keras.layers.Dense(1, activation='sigmoid')(x)\n",
        "\n",
        "  model = tf.keras.Model(inputs=[input_word_ids, input_mask, input_type_ids], outputs=x)\n",
        "  model.compile(\n",
        "      optimizer=tf.keras.optimizers.Adam(learning_rate=1e-5),\n",
        "      loss= tf.keras.losses.binary_crossentropy,\n",
        "      metrics=['accuracy'])\n",
        "\n",
        "  return model"
      ],
      "metadata": {
        "id": "enqaiTje2_Ue"
      },
      "execution_count": 34,
      "outputs": []
    },
    {
      "cell_type": "code",
      "source": [
        "\"\"\"\n",
        "========================================\n",
        "HATEBERT + CNN + LSTM \n",
        "========================================\n",
        "\"\"\"\n",
        "def build_model3(conv_size=128):\n",
        "  input_word_ids = tf.keras.Input(shape=(MAX_LEN,), dtype=tf.int32, name='input_word_ids')\n",
        "  input_mask = tf.keras.Input(shape=(MAX_LEN,), dtype=tf.int32, name='input_mask')\n",
        "  input_type_ids = tf.keras.Input(shape=(MAX_LEN,), dtype=tf.int32, name='input_type_ids')\n",
        "\n",
        "  # Import RoBERTa model from HuggingFace\n",
        "  roberta_model = TFAutoModel.from_pretrained(\"GroNLP/hateBERT\", from_pt=True)\n",
        "  mod = roberta_model(input_word_ids, attention_mask=input_mask, token_type_ids=input_type_ids)\n",
        "\n",
        "  # Huggingface transformers have multiple outputs, embeddings are the first one,\n",
        "  # so let's slice out the first position\n",
        "  bert = mod[0]\n",
        "\n",
        "  n =  tf.keras.layers.SpatialDropout1D(rate=0.0)(bert)\n",
        "  x0 = tf.keras.layers.Conv1D(128, 10, activation='relu')(n)\n",
        "  x1 = tf.keras.layers.Conv1D(64, 5, activation='relu')(x0)\n",
        "  x2 = tf.keras.layers.Conv1D(32, 4, activation='relu')(x1)\n",
        "  x3 = tf.keras.layers.Conv1D(16, 3, activation='relu')(x2)\n",
        "  x4 = tf.keras.layers.Conv1D(8, 5, activation='relu')(x3)\n",
        "  x = tf.keras.layers.MaxPooling1D(pool_size=3)(x4)\n",
        "  x = tf.keras.layers.Dropout(rate=0.5)(x)\n",
        "  x = tf.keras.layers.LSTM(100)(x)\n",
        "\n",
        "  p = tf.keras.layers.MaxPooling1D(pool_size=10)(x0)\n",
        "  p = tf.keras.layers.Dropout(rate=0.5)(p)\n",
        "  p = tf.keras.layers.LSTM(100)(p)\n",
        "\n",
        "  o = tf.keras.layers.MaxPooling1D(pool_size=8)(x1)\n",
        "  o = tf.keras.layers.Dropout(rate=0.5)(o)\n",
        "  o = tf.keras.layers.LSTM(100)(o)\n",
        "\n",
        "  i = tf.keras.layers.MaxPooling1D(pool_size=6)(x2)\n",
        "  i = tf.keras.layers.Dropout(rate=0.5)(i)\n",
        "  i = tf.keras.layers.LSTM(100)(i)\n",
        "\n",
        "  r = tf.keras.layers.MaxPooling1D(pool_size=4)(x3)\n",
        "  r = tf.keras.layers.Dropout(rate=0.5)(r)\n",
        "  r = tf.keras.layers.LSTM(100)(r)\n",
        "\n",
        "  t = tf.keras.layers.MaxPooling1D(pool_size=3)(x4)\n",
        "  t = tf.keras.layers.Dropout(rate=0.5)(t)\n",
        "  t = tf.keras.layers.LSTM(100)(t)\n",
        "\n",
        "  y = tf.keras.layers.LSTM(500)(bert)\n",
        "  y = tf.keras.layers.Dense(250, activation='relu')(y)\n",
        "  y = tf.keras.layers.Dropout(rate=0.5)(y)\n",
        "\n",
        "  z = tf.keras.layers.concatenate([x, p, o, i, r, t, y])\n",
        "\n",
        "  z = tf.keras.layers.Dense(400, activation='relu')(z)\n",
        "  z = tf.keras.layers.Dropout(0.5)(z)\n",
        "  z = tf.keras.layers.Dense(200, activation='relu')(z)\n",
        "  z = tf.keras.layers.Dense(100, activation='relu')(z)\n",
        "  z = tf.keras.layers.Dropout(0.5)(z)\n",
        "  z = tf.keras.layers.Dense(50, activation='relu')(z)\n",
        "  output_lay = tf.keras.layers.Dense(1, activation='sigmoid')(z)\n",
        "\n",
        "  model = tf.keras.Model(inputs=[input_word_ids, input_mask, input_type_ids], outputs=[output_lay])\n",
        "  model.compile(\n",
        "      optimizer=tf.keras.optimizers.Adam(learning_rate=1e-5),\n",
        "      loss= tf.keras.losses.binary_crossentropy,\n",
        "      metrics=['accuracy'])\n",
        "\n",
        "  return model"
      ],
      "metadata": {
        "id": "B-ldTv4j41BK"
      },
      "execution_count": 18,
      "outputs": []
    },
    {
      "cell_type": "code",
      "source": [
        "\"\"\"\n",
        "========================================\n",
        "HATEBERT + LSTM \n",
        "========================================\n",
        "\"\"\"\n",
        "def build_model4(conv_size=128, max_features = 50000, embed_size=128):\n",
        "  input_word_ids = tf.keras.Input(shape=(MAX_LEN,), dtype=tf.int32, name='input_word_ids')\n",
        "  input_mask = tf.keras.Input(shape=(MAX_LEN,), dtype=tf.int32, name='input_mask')\n",
        "  input_type_ids = tf.keras.Input(shape=(MAX_LEN,), dtype=tf.int32, name='input_type_ids')\n",
        "\n",
        "  # Import RoBERTa model from HuggingFace\n",
        "  roberta_model = TFAutoModel.from_pretrained(\"GroNLP/hateBERT\", from_pt=True)\n",
        "  mod = roberta_model(input_word_ids, attention_mask=input_mask, token_type_ids=input_type_ids)\n",
        "\n",
        "  # Huggingface transformers have multiple outputs, embeddings are the first one,\n",
        "  # so let's slice out the first position\n",
        "  bert = mod[0]\n",
        "\n",
        "  x1 =  tf.keras.layers.LSTM(100)(bert)\n",
        "  x = tf.keras.layers.Dropout(rate=0.5)(x1)\n",
        "  x = tf.keras.layers.Dense(100, activation='relu')(x)\n",
        "  x = tf.keras.layers.Dropout(rate=0.4)(x)\n",
        "  x = tf.keras.layers.Dense(64, activation='relu')(x)\n",
        "  x = tf.keras.layers.Dense(1, activation='sigmoid')(x)\n",
        "\n",
        "  model = tf.keras.Model(inputs=[input_word_ids, input_mask, input_type_ids], outputs=x)\n",
        "  model.compile(\n",
        "      optimizer=tf.keras.optimizers.Adam(learning_rate=1e-5),\n",
        "      loss= tf.keras.losses.binary_crossentropy,\n",
        "      metrics=['accuracy'])\n",
        "\n",
        "  return model"
      ],
      "metadata": {
        "id": "1WtNg4RoBsuk"
      },
      "execution_count": 19,
      "outputs": []
    },
    {
      "cell_type": "code",
      "source": [
        "\"\"\"\n",
        "========================================\n",
        "HATEBERT + BiLSTM \n",
        "========================================\n",
        "\"\"\"\n",
        "def build_model5(conv_size=128, max_features = 50000, embed_size=128):\n",
        "  input_word_ids = tf.keras.Input(shape=(MAX_LEN,), dtype=tf.int32, name='input_word_ids')\n",
        "  input_mask = tf.keras.Input(shape=(MAX_LEN,), dtype=tf.int32, name='input_mask')\n",
        "  input_type_ids = tf.keras.Input(shape=(MAX_LEN,), dtype=tf.int32, name='input_type_ids')\n",
        "\n",
        "  # Import RoBERTa model from HuggingFace\n",
        "  roberta_model = TFAutoModel.from_pretrained(\"GroNLP/hateBERT\", from_pt=True)\n",
        "  mod = roberta_model(input_word_ids, attention_mask=input_mask, token_type_ids=input_type_ids)\n",
        "\n",
        "  # Huggingface transformers have multiple outputs, embeddings are the first one,\n",
        "  # so let's slice out the first position\n",
        "  bert = mod[0]\n",
        "\n",
        "  x1 = tf.keras.layers.SpatialDropout1D(0.3)(bert)\n",
        "  x = tf.keras.layers.Bidirectional(tf.keras.layers.LSTM(128, return_sequences=True))(x1)\n",
        "  x = tf.keras.layers.Dropout(0.5)(x)\n",
        "  x = tf.keras.layers.Bidirectional(tf.keras.layers.LSTM(128, return_sequences=True))(x)\n",
        "  hidden = tf.keras.layers.concatenate([\n",
        "        tf.keras.layers.GlobalMaxPooling1D()(x),\n",
        "        tf.keras.layers.GlobalAveragePooling1D()(x)])\n",
        "  hidden = tf.keras.layers.Dense(256, activation='relu')(hidden)\n",
        "  hidden = tf.keras.layers.Dropout(0.5)(hidden)\n",
        "  hidden = tf.keras.layers.Dense(128, activation='relu')(hidden)\n",
        "  hidden = tf.keras.layers.Dropout(0.5)(hidden)\n",
        "  x = tf.keras.layers.Dense(1, activation='sigmoid')(hidden)\n",
        "\n",
        "  model = tf.keras.Model(inputs=[input_word_ids, input_mask, input_type_ids], outputs=x)\n",
        "  model.compile(\n",
        "      optimizer=tf.keras.optimizers.Adam(learning_rate=1e-5),\n",
        "      loss= tf.keras.losses.binary_crossentropy,\n",
        "      metrics=['accuracy'])\n",
        "\n",
        "  return model"
      ],
      "metadata": {
        "id": "7UFD6jTgCLFv"
      },
      "execution_count": 28,
      "outputs": []
    },
    {
      "cell_type": "code",
      "source": [
        "model = build_model5()\n",
        "model.summary()\n",
        "tf.keras.utils.plot_model(model)"
      ],
      "metadata": {
        "colab": {
          "base_uri": "https://localhost:8080/",
          "height": 1000
        },
        "id": "Jh6Csgcf_lOZ",
        "outputId": "44b98271-7cba-4497-c08a-f74655c80f3c"
      },
      "execution_count": 29,
      "outputs": [
        {
          "output_type": "stream",
          "name": "stderr",
          "text": [
            "Some weights of the PyTorch model were not used when initializing the TF 2.0 model TFBertModel: ['cls.predictions.transform.LayerNorm.weight', 'cls.predictions.decoder.bias', 'cls.predictions.transform.dense.bias', 'cls.predictions.bias', 'cls.predictions.transform.dense.weight', 'cls.predictions.transform.LayerNorm.bias', 'cls.predictions.decoder.weight']\n",
            "- This IS expected if you are initializing TFBertModel from a PyTorch model trained on another task or with another architecture (e.g. initializing a TFBertForSequenceClassification model from a BertForPreTraining model).\n",
            "- This IS NOT expected if you are initializing TFBertModel from a PyTorch model that you expect to be exactly identical (e.g. initializing a TFBertForSequenceClassification model from a BertForSequenceClassification model).\n",
            "All the weights of TFBertModel were initialized from the PyTorch model.\n",
            "If your task is similar to the task the model of the checkpoint was trained on, you can already use TFBertModel for predictions without further training.\n"
          ]
        },
        {
          "output_type": "stream",
          "name": "stdout",
          "text": [
            "Model: \"model_3\"\n",
            "__________________________________________________________________________________________________\n",
            " Layer (type)                   Output Shape         Param #     Connected to                     \n",
            "==================================================================================================\n",
            " input_word_ids (InputLayer)    [(None, 128)]        0           []                               \n",
            "                                                                                                  \n",
            " input_mask (InputLayer)        [(None, 128)]        0           []                               \n",
            "                                                                                                  \n",
            " input_type_ids (InputLayer)    [(None, 128)]        0           []                               \n",
            "                                                                                                  \n",
            " tf_bert_model_3 (TFBertModel)  TFBaseModelOutputWi  109482240   ['input_word_ids[0][0]',         \n",
            "                                thPoolingAndCrossAt               'input_mask[0][0]',             \n",
            "                                tentions(last_hidde               'input_type_ids[0][0]']         \n",
            "                                n_state=(None, 128,                                               \n",
            "                                 768),                                                            \n",
            "                                 pooler_output=(Non                                               \n",
            "                                e, 768),                                                          \n",
            "                                 past_key_values=No                                               \n",
            "                                ne, hidden_states=N                                               \n",
            "                                one, attentions=Non                                               \n",
            "                                e, cross_attentions                                               \n",
            "                                =None)                                                            \n",
            "                                                                                                  \n",
            " spatial_dropout1d (SpatialDrop  (None, 128, 768)    0           ['tf_bert_model_3[0][0]']        \n",
            " out1D)                                                                                           \n",
            "                                                                                                  \n",
            " bidirectional (Bidirectional)  (None, 128, 256)     918528      ['spatial_dropout1d[0][0]']      \n",
            "                                                                                                  \n",
            " dropout_154 (Dropout)          (None, 128, 256)     0           ['bidirectional[0][0]']          \n",
            "                                                                                                  \n",
            " bidirectional_1 (Bidirectional  (None, 128, 256)    394240      ['dropout_154[0][0]']            \n",
            " )                                                                                                \n",
            "                                                                                                  \n",
            " global_max_pooling1d (GlobalMa  (None, 256)         0           ['bidirectional_1[0][0]']        \n",
            " xPooling1D)                                                                                      \n",
            "                                                                                                  \n",
            " global_average_pooling1d (Glob  (None, 256)         0           ['bidirectional_1[0][0]']        \n",
            " alAveragePooling1D)                                                                              \n",
            "                                                                                                  \n",
            " concatenate (Concatenate)      (None, 512)          0           ['global_max_pooling1d[0][0]',   \n",
            "                                                                  'global_average_pooling1d[0][0]'\n",
            "                                                                 ]                                \n",
            "                                                                                                  \n",
            " dense_9 (Dense)                (None, 256)          131328      ['concatenate[0][0]']            \n",
            "                                                                                                  \n",
            " dropout_155 (Dropout)          (None, 256)          0           ['dense_9[0][0]']                \n",
            "                                                                                                  \n",
            " dense_10 (Dense)               (None, 128)          32896       ['dropout_155[0][0]']            \n",
            "                                                                                                  \n",
            " dropout_156 (Dropout)          (None, 128)          0           ['dense_10[0][0]']               \n",
            "                                                                                                  \n",
            " dense_11 (Dense)               (None, 1)            129         ['dropout_156[0][0]']            \n",
            "                                                                                                  \n",
            "==================================================================================================\n",
            "Total params: 110,959,361\n",
            "Trainable params: 110,959,361\n",
            "Non-trainable params: 0\n",
            "__________________________________________________________________________________________________\n"
          ]
        },
        {
          "output_type": "execute_result",
          "data": {
            "image/png": "[encoded data removed]",
            "text/plain": [
              "<IPython.core.display.Image object>"
            ]
          },
          "metadata": {},
          "execution_count": 29
        }
      ]
    },
    {
      "cell_type": "code",
      "source": [
        "print('Training...')\n",
        "history = model.fit(X_train,\n",
        "                    y_train,\n",
        "                    epochs=5,\n",
        "                    batch_size=16,\n",
        "                    verbose=1,\n",
        "                    validation_data=(X_test, y_test))"
      ],
      "metadata": {
        "colab": {
          "base_uri": "https://localhost:8080/"
        },
        "id": "5IN2tGiPBzkw",
        "outputId": "718a586b-069c-40fc-a88b-c23ad9954578"
      },
      "execution_count": 31,
      "outputs": [
        {
          "output_type": "stream",
          "name": "stdout",
          "text": [
            "Training...\n",
            "Epoch 1/5\n",
            "57/57 [==============================] - 27s 470ms/step - loss: 0.4382 - accuracy: 0.8296 - val_loss: 0.4821 - val_accuracy: 0.8000\n",
            "Epoch 2/5\n",
            "57/57 [==============================] - 27s 478ms/step - loss: 0.3353 - accuracy: 0.8875 - val_loss: 0.6113 - val_accuracy: 0.7000\n",
            "Epoch 3/5\n",
            "57/57 [==============================] - 26s 464ms/step - loss: 0.2613 - accuracy: 0.9354 - val_loss: 0.6901 - val_accuracy: 0.6800\n",
            "Epoch 4/5\n",
            "57/57 [==============================] - 27s 469ms/step - loss: 0.2279 - accuracy: 0.9443 - val_loss: 0.5200 - val_accuracy: 0.8000\n",
            "Epoch 5/5\n",
            "57/57 [==============================] - 27s 470ms/step - loss: 0.1626 - accuracy: 0.9710 - val_loss: 0.5386 - val_accuracy: 0.8200\n"
          ]
        }
      ]
    },
    {
      "cell_type": "code",
      "source": [
        "# This plot will look much better if we train models with more epochs, but anyway here is\n",
        "plt.figure(figsize=(10, 10))\n",
        "plt.title('Accuracy')\n",
        "\n",
        "xaxis = np.arange(len(history.history['accuracy']))\n",
        "plt.plot(xaxis, history.history['accuracy'], label='Train set')\n",
        "plt.plot(xaxis, history.history['val_accuracy'], label='Validation set')\n",
        "plt.legend()\n"
      ],
      "metadata": {
        "id": "LDhHKGOiCVPI",
        "colab": {
          "base_uri": "https://localhost:8080/",
          "height": 625
        },
        "outputId": "ae6a6866-04cd-4c17-abca-7af5fa29a977"
      },
      "execution_count": 32,
      "outputs": [
        {
          "output_type": "execute_result",
          "data": {
            "text/plain": [
              "<matplotlib.legend.Legend at 0x7f51862644f0>"
            ]
          },
          "metadata": {},
          "execution_count": 32
        },
        {
          "output_type": "display_data",
          "data": {
            "text/plain": [
              "<Figure size 720x720 with 1 Axes>"
            ],
            "image/png": "[encoded data removed]"
          },
          "metadata": {
            "needs_background": "light"
          }
        }
      ]
    },
    {
      "cell_type": "code",
      "source": [
        "scores = model.evaluate(X_test, y_test, verbose=0)\n",
        "print(\"Accuracy: %.2f%%\" % (scores[1] * 100))"
      ],
      "metadata": {
        "colab": {
          "base_uri": "https://localhost:8080/"
        },
        "id": "bX_CM482IXlI",
        "outputId": "898e9c38-cedd-411b-f1a1-2f02e632b8dd"
      },
      "execution_count": 33,
      "outputs": [
        {
          "output_type": "stream",
          "name": "stdout",
          "text": [
            "Accuracy: 82.00%\n"
          ]
        }
      ]
    },
    {
      "cell_type": "code",
      "source": [
        "y_pred = [int(np.round(i,0)) for i in model.predict(X_test)]\n"
      ],
      "metadata": {
        "colab": {
          "base_uri": "https://localhost:8080/"
        },
        "id": "iDSNyGT_OXBS",
        "outputId": "8159be35-37a2-422d-aa47-255273d00631"
      },
      "execution_count": 34,
      "outputs": [
        {
          "output_type": "stream",
          "name": "stdout",
          "text": [
            "4/4 [==============================] - 6s 202ms/step\n"
          ]
        }
      ]
    },
    {
      "cell_type": "code",
      "source": [
        "from sklearn.metrics import classification_report\n",
        "print(classification_report(y_test, y_pred))"
      ],
      "metadata": {
        "id": "KO7Nd6EZQrqa",
        "outputId": "68eedba7-fa24-46d8-d7c4-09f06550add4",
        "colab": {
          "base_uri": "https://localhost:8080/"
        }
      },
      "execution_count": 35,
      "outputs": [
        {
          "output_type": "stream",
          "name": "stdout",
          "text": [
            "              precision    recall  f1-score   support\n",
            "\n",
            "           0       0.83      0.86      0.84        57\n",
            "           1       0.80      0.77      0.79        43\n",
            "\n",
            "    accuracy                           0.82       100\n",
            "   macro avg       0.82      0.81      0.82       100\n",
            "weighted avg       0.82      0.82      0.82       100\n",
            "\n"
          ]
        }
      ]
    },
    {
      "cell_type": "code",
      "source": [
        "from sklearn.metrics import confusion_matrix\n",
        "con_mat_df = confusion_matrix(y_test, y_pred)\n",
        "con_mat_df = con_mat_df.astype('float') / con_mat_df.sum(axis=1)[:, np.newaxis]"
      ],
      "metadata": {
        "id": "RbqxYogiNyKC"
      },
      "execution_count": 36,
      "outputs": []
    },
    {
      "cell_type": "code",
      "source": [
        "import seaborn as sns\n",
        "figure = plt.figure(figsize=(10, 10))\n",
        "sns.heatmap(con_mat_df, cmap=plt.cm.Blues, annot=True)\n",
        "plt.ylabel('True label')\n",
        "plt.xlabel('Predicted label')\n",
        "print(con_mat_df)"
      ],
      "metadata": {
        "colab": {
          "base_uri": "https://localhost:8080/",
          "height": 643
        },
        "id": "Xtm2nyDILd8N",
        "outputId": "f5b6be36-ccbc-4e9b-b47e-1b94fc02cac0"
      },
      "execution_count": 37,
      "outputs": [
        {
          "output_type": "stream",
          "name": "stdout",
          "text": [
            "[[0.85964912 0.14035088]\n",
            " [0.23255814 0.76744186]]\n"
          ]
        },
        {
          "output_type": "display_data",
          "data": {
            "text/plain": [
              "<Figure size 720x720 with 2 Axes>"
            ],
            "image/png": "[encoded data removed]"
          },
          "metadata": {
            "needs_background": "light"
          }
        }
      ]
    },
    {
      "cell_type": "code",
      "source": [],
      "metadata": {
        "id": "-rATpH3MNO0e"
      },
      "execution_count": null,
      "outputs": []
    }
  ]
}